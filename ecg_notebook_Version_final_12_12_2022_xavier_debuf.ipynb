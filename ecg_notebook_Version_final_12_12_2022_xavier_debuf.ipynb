{
 "nbformat": 4,
 "nbformat_minor": 0,
 "metadata": {
  "colab": {
   "provenance": [],
   "toc_visible": true,
   "collapsed_sections": [
    "8Fo2MXVE8MJ5"
   ]
  },
  "kernelspec": {
   "name": "python3",
   "display_name": "Python 3"
  },
  "language_info": {
   "name": "python"
  },
  "accelerator": "GPU",
  "gpuClass": "standard"
 },
 "cells": [
  {
   "cell_type": "code",
   "execution_count": null,
   "metadata": {
    "id": "3sFCsq40xrgC",
    "pycharm": {
     "name": "#%%\n"
    }
   },
   "outputs": [],
   "source": [
    "import pandas as pd\n",
    "from scipy import signal\n",
    "from sklearn.metrics import classification_report\n",
    "from imblearn.over_sampling import SMOTE\n",
    "from imblearn.metrics import classification_report_imbalanced, geometric_mean_score"
   ]
  },
  {
   "cell_type": "code",
   "source": [
    "from google.colab import drive\n",
    "drive.mount('/content/drive')"
   ],
   "metadata": {
    "id": "CSQ9JM-r53Lz",
    "colab": {
     "base_uri": "https://localhost:8080/"
    },
    "outputId": "946446ff-cc7b-463a-efec-46784e211408",
    "pycharm": {
     "name": "#%%\n"
    }
   },
   "execution_count": null,
   "outputs": [
    {
     "output_type": "stream",
     "name": "stdout",
     "text": [
      "Mounted at /content/drive\n"
     ]
    }
   ]
  },
  {
   "cell_type": "code",
   "source": [
    "ptbdb_normal = pd.read_csv('/content/drive/MyDrive/heart_peak/ptbdb_normal.csv',header=None)\n",
    "ptbdb_abnormal = pd.read_csv('/content/drive/MyDrive/heart_peak/ptbdb_abnormal.csv',header=None)\n",
    "mitbih_test = pd.read_csv('/content/drive/MyDrive/heart_peak/mitbih_test.csv',header=None)\n",
    "mitbih_train = pd.read_csv('/content/drive/MyDrive/heart_peak/mitbih_train.csv',header=None)"
   ],
   "metadata": {
    "id": "rv_KlIzj59Ez",
    "pycharm": {
     "name": "#%%\n"
    }
   },
   "execution_count": null,
   "outputs": []
  },
  {
   "cell_type": "markdown",
   "source": [
    "# MACHINE LEARNING"
   ],
   "metadata": {
    "id": "OAsShN1txx51",
    "pycharm": {
     "name": "#%% md\n"
    }
   }
  },
  {
   "cell_type": "code",
   "source": [
    "import matplotlib.pyplot as plt\n",
    "import seaborn as sns\n",
    "\n",
    "df1=pd.read_csv('/content/drive/MyDrive/heart_peak/mitbih_test.csv',header=None)\n",
    "df2=pd.read_csv('/content/drive/MyDrive/heart_peak/mitbih_train.csv',header=None)\n",
    "\n",
    "\n",
    "df=pd.concat([df1,df2],ignore_index=True,sort=False)\n",
    "df.isnull().sum().sum()"
   ],
   "metadata": {
    "id": "Ud7isxdT58Tj",
    "colab": {
     "base_uri": "https://localhost:8080/"
    },
    "outputId": "859ddb5e-ce14-4895-96aa-607f67e5499a",
    "pycharm": {
     "name": "#%%\n"
    }
   },
   "execution_count": null,
   "outputs": [
    {
     "output_type": "execute_result",
     "data": {
      "text/plain": [
       "0"
      ]
     },
     "metadata": {},
     "execution_count": 4
    }
   ]
  },
  {
   "cell_type": "code",
   "source": [
    "X=df.iloc[:,:-1]\n",
    "y=df.iloc[:,-1]\n",
    "from sklearn.model_selection import train_test_split,cross_val_score\n",
    "from sklearn.linear_model import LogisticRegression\n",
    "from sklearn.ensemble import RandomForestClassifier\n",
    "from sklearn.svm import SVC\n",
    "from sklearn.metrics import classification_report,accuracy_score,confusion_matrix\n",
    "X_train, X_test, y_train, y_test = train_test_split(X, y, test_size=0.25, random_state=28)"
   ],
   "metadata": {
    "id": "zMO_Wj087Rpa",
    "pycharm": {
     "name": "#%%\n"
    }
   },
   "execution_count": null,
   "outputs": []
  },
  {
   "cell_type": "markdown",
   "source": [
    "# regression logistique"
   ],
   "metadata": {
    "id": "prvcf-sXx1xu",
    "pycharm": {
     "name": "#%% md\n"
    }
   }
  },
  {
   "cell_type": "markdown",
   "source": [
    "## Anomalie cardiaque"
   ],
   "metadata": {
    "id": "Olz7BSTw9a6N",
    "pycharm": {
     "name": "#%% md\n"
    }
   }
  },
  {
   "cell_type": "code",
   "source": [
    "lr=LogisticRegression()\n",
    "lr.fit(X_train, y_train)"
   ],
   "metadata": {
    "id": "_waPNsk5yDCv",
    "colab": {
     "base_uri": "https://localhost:8080/"
    },
    "outputId": "4fad257c-2873-4cf0-dfb9-58a39c084b67",
    "pycharm": {
     "name": "#%%\n"
    }
   },
   "execution_count": null,
   "outputs": [
    {
     "output_type": "stream",
     "name": "stderr",
     "text": [
      "/usr/local/lib/python3.8/dist-packages/sklearn/linear_model/_logistic.py:814: ConvergenceWarning: lbfgs failed to converge (status=1):\n",
      "STOP: TOTAL NO. of ITERATIONS REACHED LIMIT.\n",
      "\n",
      "Increase the number of iterations (max_iter) or scale the data as shown in:\n",
      "    https://scikit-learn.org/stable/modules/preprocessing.html\n",
      "Please also refer to the documentation for alternative solver options:\n",
      "    https://scikit-learn.org/stable/modules/linear_model.html#logistic-regression\n",
      "  n_iter_i = _check_optimize_result(\n"
     ]
    },
    {
     "output_type": "execute_result",
     "data": {
      "text/plain": [
       "LogisticRegression()"
      ]
     },
     "metadata": {},
     "execution_count": 6
    }
   ]
  },
  {
   "cell_type": "code",
   "source": [
    "y_pred=lr.predict(X_test)"
   ],
   "metadata": {
    "id": "fyadeHIH7kwm",
    "pycharm": {
     "name": "#%%\n"
    }
   },
   "execution_count": null,
   "outputs": []
  },
  {
   "cell_type": "code",
   "source": [
    "lr.score(X_test,y_test)"
   ],
   "metadata": {
    "id": "QRHxJnDM7ocp",
    "colab": {
     "base_uri": "https://localhost:8080/"
    },
    "outputId": "614eef38-7388-4dd4-dc69-87d91cbbb5ac",
    "pycharm": {
     "name": "#%%\n"
    }
   },
   "execution_count": null,
   "outputs": [
    {
     "output_type": "execute_result",
     "data": {
      "text/plain": [
       "0.9126160368394123"
      ]
     },
     "metadata": {},
     "execution_count": 8
    }
   ]
  },
  {
   "cell_type": "code",
   "source": [
    "print(classification_report(y_test, y_pred))"
   ],
   "metadata": {
    "id": "NP9pMcKr7t3T",
    "colab": {
     "base_uri": "https://localhost:8080/"
    },
    "outputId": "afe3f067-3dd1-414d-f269-bc724d39c116",
    "pycharm": {
     "name": "#%%\n"
    }
   },
   "execution_count": null,
   "outputs": [
    {
     "output_type": "stream",
     "name": "stdout",
     "text": [
      "              precision    recall  f1-score   support\n",
      "\n",
      "         0.0       0.92      0.98      0.95     22717\n",
      "         1.0       0.84      0.39      0.53       701\n",
      "         2.0       0.64      0.31      0.42      1754\n",
      "         3.0       0.67      0.20      0.30       194\n",
      "         4.0       0.95      0.87      0.91      1996\n",
      "\n",
      "    accuracy                           0.91     27362\n",
      "   macro avg       0.80      0.55      0.62     27362\n",
      "weighted avg       0.90      0.91      0.90     27362\n",
      "\n"
     ]
    }
   ]
  },
  {
   "cell_type": "code",
   "source": [
    "import imblearn\n",
    "from imblearn.over_sampling import SMOTE\n",
    "print(y_train.value_counts())\n",
    "\n",
    "# oversampling\n",
    "smote=SMOTE()\n",
    "X_oversampled,y_oversampled=smote.fit_resample(X_train,y_train)\n",
    "y_oversampled.value_counts()"
   ],
   "metadata": {
    "id": "mcsj0upg7w_D",
    "colab": {
     "base_uri": "https://localhost:8080/"
    },
    "outputId": "4997e796-6822-4ed2-9768-388474179791",
    "pycharm": {
     "name": "#%%\n"
    }
   },
   "execution_count": null,
   "outputs": [
    {
     "output_type": "stream",
     "name": "stdout",
     "text": [
      "0.0    67872\n",
      "4.0     6043\n",
      "2.0     5482\n",
      "1.0     2078\n",
      "3.0      609\n",
      "Name: 187, dtype: int64\n"
     ]
    },
    {
     "output_type": "execute_result",
     "data": {
      "text/plain": [
       "0.0    67872\n",
       "3.0    67872\n",
       "2.0    67872\n",
       "1.0    67872\n",
       "4.0    67872\n",
       "Name: 187, dtype: int64"
      ]
     },
     "metadata": {},
     "execution_count": 10
    }
   ]
  },
  {
   "cell_type": "code",
   "source": [
    "lr.fit(X_oversampled, y_oversampled)"
   ],
   "metadata": {
    "id": "zUB60N-c70hz",
    "colab": {
     "base_uri": "https://localhost:8080/"
    },
    "outputId": "d1347a2b-4480-4823-bbf4-4ff0312b402f",
    "pycharm": {
     "name": "#%%\n"
    }
   },
   "execution_count": null,
   "outputs": [
    {
     "output_type": "stream",
     "name": "stderr",
     "text": [
      "/usr/local/lib/python3.8/dist-packages/sklearn/linear_model/_logistic.py:814: ConvergenceWarning: lbfgs failed to converge (status=1):\n",
      "STOP: TOTAL NO. of ITERATIONS REACHED LIMIT.\n",
      "\n",
      "Increase the number of iterations (max_iter) or scale the data as shown in:\n",
      "    https://scikit-learn.org/stable/modules/preprocessing.html\n",
      "Please also refer to the documentation for alternative solver options:\n",
      "    https://scikit-learn.org/stable/modules/linear_model.html#logistic-regression\n",
      "  n_iter_i = _check_optimize_result(\n"
     ]
    },
    {
     "output_type": "execute_result",
     "data": {
      "text/plain": [
       "LogisticRegression()"
      ]
     },
     "metadata": {},
     "execution_count": 11
    }
   ]
  },
  {
   "cell_type": "code",
   "source": [
    "y_pred=lr.predict(X_test)"
   ],
   "metadata": {
    "id": "kjLft9n773oD",
    "pycharm": {
     "name": "#%%\n"
    }
   },
   "execution_count": null,
   "outputs": []
  },
  {
   "cell_type": "code",
   "source": [
    "print(classification_report(y_test, y_pred))"
   ],
   "metadata": {
    "id": "9EC4Qx0W76Vb",
    "colab": {
     "base_uri": "https://localhost:8080/"
    },
    "outputId": "731dd448-ade3-4783-c7f9-4c7a2d80979f",
    "pycharm": {
     "name": "#%%\n"
    }
   },
   "execution_count": null,
   "outputs": [
    {
     "output_type": "stream",
     "name": "stdout",
     "text": [
      "              precision    recall  f1-score   support\n",
      "\n",
      "         0.0       0.97      0.62      0.76     22717\n",
      "         1.0       0.14      0.71      0.23       701\n",
      "         2.0       0.28      0.74      0.40      1754\n",
      "         3.0       0.08      0.85      0.15       194\n",
      "         4.0       0.71      0.92      0.80      1996\n",
      "\n",
      "    accuracy                           0.66     27362\n",
      "   macro avg       0.44      0.77      0.47     27362\n",
      "weighted avg       0.88      0.66      0.72     27362\n",
      "\n"
     ]
    }
   ]
  },
  {
   "cell_type": "markdown",
   "source": [
    "### Infarctus du myocarde"
   ],
   "metadata": {
    "id": "8Fo2MXVE8MJ5",
    "pycharm": {
     "name": "#%% md\n"
    }
   }
  },
  {
   "cell_type": "code",
   "source": [
    "import matplotlib.pyplot as plt\n",
    "import seaborn as sns\n",
    "\n",
    "df1=pd.read_csv('/content/drive/MyDrive/heart_peak/ptbdb_normal.csv',header=None)\n",
    "df2=pd.read_csv('/content/drive/MyDrive/heart_peak/ptbdb_abnormal.csv',header=None)\n",
    "\n",
    "\n",
    "df=pd.concat([df1,df2],ignore_index=True,sort=False)\n",
    "df.isnull().sum().sum()"
   ],
   "metadata": {
    "id": "95ei5Um88Lt6",
    "colab": {
     "base_uri": "https://localhost:8080/"
    },
    "outputId": "ee520b05-9aa4-4590-88d6-5e42b3fe0397",
    "pycharm": {
     "name": "#%%\n"
    }
   },
   "execution_count": null,
   "outputs": [
    {
     "output_type": "execute_result",
     "data": {
      "text/plain": [
       "0"
      ]
     },
     "metadata": {},
     "execution_count": 14
    }
   ]
  },
  {
   "cell_type": "code",
   "source": [
    "X=df.iloc[:,:-1]\n",
    "y=df.iloc[:,-1]\n",
    "from sklearn.model_selection import train_test_split,cross_val_score\n",
    "from sklearn.linear_model import LogisticRegression\n",
    "from sklearn.ensemble import RandomForestClassifier\n",
    "from sklearn.svm import SVC\n",
    "from sklearn.metrics import classification_report,accuracy_score,confusion_matrix\n",
    "X_train, X_test, y_train, y_test = train_test_split(X, y, test_size=0.25, random_state=28)"
   ],
   "metadata": {
    "id": "6Cl33jQ58lKa",
    "pycharm": {
     "name": "#%%\n"
    }
   },
   "execution_count": null,
   "outputs": []
  },
  {
   "cell_type": "code",
   "source": [
    "lr=LogisticRegression()\n",
    "lr.fit(X_train, y_train)"
   ],
   "metadata": {
    "id": "tZtZgCZF8oEL",
    "colab": {
     "base_uri": "https://localhost:8080/"
    },
    "outputId": "9591b4b9-5062-4f5b-83d4-0694ad92e82f",
    "pycharm": {
     "name": "#%%\n"
    }
   },
   "execution_count": null,
   "outputs": [
    {
     "output_type": "stream",
     "name": "stderr",
     "text": [
      "/usr/local/lib/python3.8/dist-packages/sklearn/linear_model/_logistic.py:814: ConvergenceWarning: lbfgs failed to converge (status=1):\n",
      "STOP: TOTAL NO. of ITERATIONS REACHED LIMIT.\n",
      "\n",
      "Increase the number of iterations (max_iter) or scale the data as shown in:\n",
      "    https://scikit-learn.org/stable/modules/preprocessing.html\n",
      "Please also refer to the documentation for alternative solver options:\n",
      "    https://scikit-learn.org/stable/modules/linear_model.html#logistic-regression\n",
      "  n_iter_i = _check_optimize_result(\n"
     ]
    },
    {
     "output_type": "execute_result",
     "data": {
      "text/plain": [
       "LogisticRegression()"
      ]
     },
     "metadata": {},
     "execution_count": 16
    }
   ]
  },
  {
   "cell_type": "code",
   "source": [
    "y_pred=lr.predict(X_test)"
   ],
   "metadata": {
    "id": "kIwfYMWG8sa6",
    "pycharm": {
     "name": "#%%\n"
    }
   },
   "execution_count": null,
   "outputs": []
  },
  {
   "cell_type": "code",
   "source": [
    "lr.score(X_test,y_test)"
   ],
   "metadata": {
    "id": "4jaMvgb_8wMq",
    "colab": {
     "base_uri": "https://localhost:8080/"
    },
    "outputId": "295b53e2-f371-4165-82f1-2a53f3183dda",
    "pycharm": {
     "name": "#%%\n"
    }
   },
   "execution_count": null,
   "outputs": [
    {
     "output_type": "execute_result",
     "data": {
      "text/plain": [
       "0.8265530511269928"
      ]
     },
     "metadata": {},
     "execution_count": 18
    }
   ]
  },
  {
   "cell_type": "code",
   "source": [
    "print(classification_report(y_test, y_pred))"
   ],
   "metadata": {
    "id": "l1wjugau80Xy",
    "colab": {
     "base_uri": "https://localhost:8080/"
    },
    "outputId": "580a13f8-ed95-493c-b43c-421dd09a5ec3",
    "pycharm": {
     "name": "#%%\n"
    }
   },
   "execution_count": null,
   "outputs": [
    {
     "output_type": "stream",
     "name": "stdout",
     "text": [
      "              precision    recall  f1-score   support\n",
      "\n",
      "         0.0       0.73      0.60      0.66      1005\n",
      "         1.0       0.86      0.91      0.88      2633\n",
      "\n",
      "    accuracy                           0.83      3638\n",
      "   macro avg       0.79      0.76      0.77      3638\n",
      "weighted avg       0.82      0.83      0.82      3638\n",
      "\n"
     ]
    }
   ]
  },
  {
   "cell_type": "markdown",
   "source": [
    "# SVM\n"
   ],
   "metadata": {
    "id": "lhUoBPudyGS5",
    "pycharm": {
     "name": "#%% md\n"
    }
   }
  },
  {
   "cell_type": "markdown",
   "source": [
    "## Anomalie cardiaque"
   ],
   "metadata": {
    "id": "1VZMs_FH9k6c",
    "pycharm": {
     "name": "#%% md\n"
    }
   }
  },
  {
   "cell_type": "code",
   "source": [
    "import matplotlib.pyplot as plt\n",
    "import seaborn as sns\n",
    "\n",
    "df1=pd.read_csv('/content/drive/MyDrive/heart_peak/mitbih_test.csv',header=None)\n",
    "df2=pd.read_csv('/content/drive/MyDrive/heart_peak/mitbih_train.csv',header=None)\n",
    "\n",
    "\n",
    "df=pd.concat([df1,df2],ignore_index=True,sort=False)\n",
    "df.isnull().sum().sum()"
   ],
   "metadata": {
    "id": "xMsAOUSSyMTh",
    "colab": {
     "base_uri": "https://localhost:8080/"
    },
    "outputId": "7c1ea444-b283-4f1f-89a0-cfe988c8ac66",
    "pycharm": {
     "name": "#%%\n"
    }
   },
   "execution_count": null,
   "outputs": [
    {
     "output_type": "execute_result",
     "data": {
      "text/plain": [
       "0"
      ]
     },
     "metadata": {},
     "execution_count": 20
    }
   ]
  },
  {
   "cell_type": "code",
   "source": [
    "X=df.iloc[:,:-1]\n",
    "y=df.iloc[:,-1]\n",
    "from sklearn.model_selection import train_test_split,cross_val_score\n",
    "from sklearn.linear_model import LogisticRegression\n",
    "from sklearn.ensemble import RandomForestClassifier\n",
    "from sklearn.svm import SVC\n",
    "from sklearn.metrics import classification_report,accuracy_score,confusion_matrix\n",
    "X_train, X_test, y_train, y_test = train_test_split(X, y, test_size=0.25, random_state=28)"
   ],
   "metadata": {
    "id": "iC5xpoIL9IJZ",
    "pycharm": {
     "name": "#%%\n"
    }
   },
   "execution_count": null,
   "outputs": []
  },
  {
   "cell_type": "code",
   "source": [
    "svc = SVC()"
   ],
   "metadata": {
    "id": "8N68l2gQ9Nba",
    "pycharm": {
     "name": "#%%\n"
    }
   },
   "execution_count": null,
   "outputs": []
  },
  {
   "cell_type": "code",
   "source": [
    "svc.fit(X_train, y_train)"
   ],
   "metadata": {
    "id": "adp_U_9c9PqK",
    "colab": {
     "base_uri": "https://localhost:8080/"
    },
    "outputId": "8ac5e23c-0a6d-4af8-fd0f-469d50ef6d79",
    "pycharm": {
     "name": "#%%\n"
    }
   },
   "execution_count": null,
   "outputs": [
    {
     "output_type": "execute_result",
     "data": {
      "text/plain": [
       "SVC()"
      ]
     },
     "metadata": {},
     "execution_count": 23
    }
   ]
  },
  {
   "cell_type": "code",
   "source": [
    "y_pred_svc = svc.predict(X_test)"
   ],
   "metadata": {
    "id": "puiYK0T39R7S",
    "pycharm": {
     "name": "#%%\n"
    }
   },
   "execution_count": null,
   "outputs": []
  },
  {
   "cell_type": "code",
   "source": [
    "svc.score(X_test,y_test)"
   ],
   "metadata": {
    "id": "PJ-e-G9T9Uqz",
    "colab": {
     "base_uri": "https://localhost:8080/"
    },
    "outputId": "334811c0-8d6b-4796-b699-d511bef2a1a2",
    "pycharm": {
     "name": "#%%\n"
    }
   },
   "execution_count": null,
   "outputs": [
    {
     "output_type": "execute_result",
     "data": {
      "text/plain": [
       "0.969410130838389"
      ]
     },
     "metadata": {},
     "execution_count": 25
    }
   ]
  },
  {
   "cell_type": "code",
   "source": [
    "print(classification_report(y_test, y_pred_svc))"
   ],
   "metadata": {
    "id": "Bi7u-pZ_9Xp6",
    "colab": {
     "base_uri": "https://localhost:8080/"
    },
    "outputId": "2b54ce33-6373-461e-f544-4517e34ec374",
    "pycharm": {
     "name": "#%%\n"
    }
   },
   "execution_count": null,
   "outputs": [
    {
     "output_type": "stream",
     "name": "stdout",
     "text": [
      "              precision    recall  f1-score   support\n",
      "\n",
      "         0.0       0.97      1.00      0.98     22717\n",
      "         1.0       0.96      0.60      0.74       701\n",
      "         2.0       0.96      0.87      0.92      1754\n",
      "         3.0       0.78      0.43      0.55       194\n",
      "         4.0       0.99      0.91      0.95      1996\n",
      "\n",
      "    accuracy                           0.97     27362\n",
      "   macro avg       0.93      0.76      0.83     27362\n",
      "weighted avg       0.97      0.97      0.97     27362\n",
      "\n"
     ]
    }
   ]
  },
  {
   "cell_type": "markdown",
   "source": [
    "### Infarctus du myocarde"
   ],
   "metadata": {
    "id": "Kjf1XxU89qaD",
    "pycharm": {
     "name": "#%% md\n"
    }
   }
  },
  {
   "cell_type": "code",
   "source": [
    "import matplotlib.pyplot as plt\n",
    "import seaborn as sns\n",
    "\n",
    "df1=pd.read_csv('/content/drive/MyDrive/heart_peak/ptbdb_normal.csv',header=None)\n",
    "df2=pd.read_csv('/content/drive/MyDrive/heart_peak/ptbdb_abnormal.csv',header=None)\n",
    "\n",
    "\n",
    "df=pd.concat([df1,df2],ignore_index=True,sort=False)\n",
    "df.isnull().sum().sum()"
   ],
   "metadata": {
    "id": "oX59s8ZN90ZS",
    "colab": {
     "base_uri": "https://localhost:8080/"
    },
    "outputId": "0290f530-2c47-48a0-89f0-5b50da90e994",
    "pycharm": {
     "name": "#%%\n"
    }
   },
   "execution_count": null,
   "outputs": [
    {
     "output_type": "execute_result",
     "data": {
      "text/plain": [
       "0"
      ]
     },
     "metadata": {},
     "execution_count": 27
    }
   ]
  },
  {
   "cell_type": "code",
   "source": [
    "X=df.iloc[:,:-1]\n",
    "y=df.iloc[:,-1]\n",
    "from sklearn.model_selection import train_test_split,cross_val_score\n",
    "from sklearn.linear_model import LogisticRegression\n",
    "from sklearn.ensemble import RandomForestClassifier\n",
    "from sklearn.svm import SVC\n",
    "from sklearn.metrics import classification_report,accuracy_score,confusion_matrix\n",
    "X_train, X_test, y_train, y_test = train_test_split(X, y, test_size=0.25, random_state=28)"
   ],
   "metadata": {
    "id": "scF7jdgj-GJh",
    "pycharm": {
     "name": "#%%\n"
    }
   },
   "execution_count": null,
   "outputs": []
  },
  {
   "cell_type": "code",
   "source": [
    "svc = SVC()"
   ],
   "metadata": {
    "id": "K25vXrXH-KP6",
    "pycharm": {
     "name": "#%%\n"
    }
   },
   "execution_count": null,
   "outputs": []
  },
  {
   "cell_type": "code",
   "source": [
    "svc.fit(X_train, y_train)"
   ],
   "metadata": {
    "id": "v-sq3aOF-Trq",
    "colab": {
     "base_uri": "https://localhost:8080/"
    },
    "outputId": "e491667a-0c6c-449b-bc28-603ae7163db6",
    "pycharm": {
     "name": "#%%\n"
    }
   },
   "execution_count": null,
   "outputs": [
    {
     "output_type": "execute_result",
     "data": {
      "text/plain": [
       "SVC()"
      ]
     },
     "metadata": {},
     "execution_count": 30
    }
   ]
  },
  {
   "cell_type": "code",
   "source": [
    "y_pred_svc = svc.predict(X_test)"
   ],
   "metadata": {
    "id": "WXGN8T7Y-Woq",
    "pycharm": {
     "name": "#%%\n"
    }
   },
   "execution_count": null,
   "outputs": []
  },
  {
   "cell_type": "code",
   "source": [
    "print(classification_report(y_test, y_pred_svc))"
   ],
   "metadata": {
    "id": "TOsIwWj9-Zg6",
    "colab": {
     "base_uri": "https://localhost:8080/"
    },
    "outputId": "e2a57b9d-b152-4e1b-cd1b-55b165bd61c5",
    "pycharm": {
     "name": "#%%\n"
    }
   },
   "execution_count": null,
   "outputs": [
    {
     "output_type": "stream",
     "name": "stdout",
     "text": [
      "              precision    recall  f1-score   support\n",
      "\n",
      "         0.0       0.87      0.78      0.82      1005\n",
      "         1.0       0.92      0.96      0.94      2633\n",
      "\n",
      "    accuracy                           0.91      3638\n",
      "   macro avg       0.89      0.87      0.88      3638\n",
      "weighted avg       0.91      0.91      0.91      3638\n",
      "\n"
     ]
    }
   ]
  },
  {
   "cell_type": "markdown",
   "source": [
    "# DEEP LEARNING"
   ],
   "metadata": {
    "id": "Cg-xxJJyyLT6",
    "pycharm": {
     "name": "#%% md\n"
    }
   }
  },
  {
   "cell_type": "markdown",
   "source": [
    "# Réseau de neurones dense "
   ],
   "metadata": {
    "id": "WRl1oMbSyVHS",
    "pycharm": {
     "name": "#%% md\n"
    }
   }
  },
  {
   "cell_type": "markdown",
   "source": [
    "## appliqués au dataset mitibih"
   ],
   "metadata": {
    "id": "F177lcKmyd_E",
    "pycharm": {
     "name": "#%% md\n"
    }
   }
  },
  {
   "cell_type": "code",
   "source": [
    "import pandas as pd\n",
    "import numpy as np\n",
    "from scipy.signal import find_peaks\n",
    "from sklearn.metrics import classification_report\n",
    "from imblearn.over_sampling import SMOTE\n",
    "from imblearn.metrics import classification_report_imbalanced, geometric_mean_score"
   ],
   "metadata": {
    "id": "OgJZhDi9yqnd",
    "pycharm": {
     "name": "#%%\n"
    }
   },
   "execution_count": null,
   "outputs": []
  },
  {
   "cell_type": "code",
   "source": [
    "import matplotlib.pyplot as plt\n",
    "import seaborn as sns\n",
    "\n",
    "df1=pd.read_csv('/content/drive/MyDrive/heart_peak/mitbih_test.csv',header=None)\n",
    "df2=pd.read_csv('/content/drive/MyDrive/heart_peak/mitbih_train.csv',header=None)\n",
    "\n",
    "\n",
    "df=pd.concat([df1,df2],ignore_index=True,sort=False)\n",
    "df.isnull().sum().sum()"
   ],
   "metadata": {
    "id": "R-IQI7no-kap",
    "colab": {
     "base_uri": "https://localhost:8080/"
    },
    "outputId": "8f12e97f-25e6-46b4-e365-be0b89a2be08",
    "pycharm": {
     "name": "#%%\n"
    }
   },
   "execution_count": null,
   "outputs": [
    {
     "output_type": "execute_result",
     "data": {
      "text/plain": [
       "0"
      ]
     },
     "metadata": {},
     "execution_count": 34
    }
   ]
  },
  {
   "cell_type": "code",
   "source": [
    "X=df.iloc[:,:-1]\n",
    "y=df.iloc[:,-1]\n",
    "from sklearn.model_selection import train_test_split,cross_val_score\n",
    "from sklearn.linear_model import LogisticRegression\n",
    "from sklearn.ensemble import RandomForestClassifier\n",
    "from sklearn.svm import SVC\n",
    "from sklearn.preprocessing import StandardScaler\n",
    "from sklearn.metrics import confusion_matrix\n",
    "from sklearn.metrics import classification_report,accuracy_score,confusion_matrix\n",
    "X_train, X_test, y_train, y_test = train_test_split(X, y, test_size=0.25, random_state=28)"
   ],
   "metadata": {
    "id": "DtN05DjR-vJJ",
    "pycharm": {
     "name": "#%%\n"
    }
   },
   "execution_count": null,
   "outputs": []
  },
  {
   "cell_type": "code",
   "source": [
    "from tensorflow.keras.layers import Input, Dense, Dropout, Flatten, Conv1D, MaxPooling1D, GlobalAveragePooling1D, BatchNormalization, SpatialDropout1D, Reshape\n",
    "from tensorflow.keras.models import Model, Sequential\n",
    "from tensorflow.keras.utils import to_categorical\n",
    "from tensorflow.keras.callbacks import EarlyStopping, ReduceLROnPlateau\n",
    "\n",
    "\n"
   ],
   "metadata": {
    "id": "eMMntnCd-xXZ",
    "pycharm": {
     "name": "#%%\n"
    }
   },
   "execution_count": null,
   "outputs": []
  },
  {
   "cell_type": "code",
   "source": [
    "X_train, X_test, y_train, y_test = train_test_split(X, y, test_size=0.25, random_state=28)"
   ],
   "metadata": {
    "id": "k24JVzM8-0ik",
    "pycharm": {
     "name": "#%%\n"
    }
   },
   "execution_count": null,
   "outputs": []
  },
  {
   "cell_type": "code",
   "source": [
    "smote = SMOTE()\n",
    "X_sm, y_sm = smote.fit_resample(X_train, y_train)"
   ],
   "metadata": {
    "id": "JemZjYV5-xRV",
    "pycharm": {
     "name": "#%%\n"
    }
   },
   "execution_count": null,
   "outputs": []
  },
  {
   "cell_type": "code",
   "source": [
    "early_stopping = EarlyStopping(monitor = 'val_loss',\n",
    "                    min_delta = 0.01,\n",
    "                    patience = 5,\n",
    "                    verbose = 1,\n",
    "                    mode = 'min',\n",
    "                    restore_best_weights = True)\n",
    "\n",
    "reduce_learning_rate = ReduceLROnPlateau(monitor = 'val_loss',\n",
    "                        min_delta = 0.01,\n",
    "                        patience = 3,\n",
    "                        factor = 0.1, \n",
    "                        cooldown = 4,\n",
    "                        verbose = 1)"
   ],
   "metadata": {
    "id": "lKeNntBw-9Cq",
    "pycharm": {
     "name": "#%%\n"
    }
   },
   "execution_count": null,
   "outputs": []
  },
  {
   "cell_type": "code",
   "source": [
    "batch_size = 32\n",
    "epochs = 30\n",
    "inputs = Input(shape = X_sm.shape[1], name = \"Input\")\n",
    "dense1 = Dense(units = 10, activation = \"tanh\", name = \"dense1\", kernel_initializer=\"normal\")\n",
    "dense2 = Dense(units = 8, activation = \"tanh\", name = \"dense2\", kernel_initializer=\"normal\")\n",
    "dense3 = Dense(units = 6, activation = \"tanh\", name = \"dense3\", kernel_initializer=\"normal\")\n",
    "dense4 = Dense(units = 5, activation = \"softmax\", name = \"dense4\", kernel_initializer=\"normal\")\n",
    "\n",
    "x = dense1(inputs)\n",
    "x = dense2(x)\n",
    "x = dense3(x)\n",
    "outputs = dense4(x)\n",
    "\n",
    "model = Model(inputs = inputs, outputs = outputs)\n",
    "model.summary()"
   ],
   "metadata": {
    "id": "P7AdnkPX_FiZ",
    "colab": {
     "base_uri": "https://localhost:8080/"
    },
    "outputId": "f50dfd8b-81a3-465d-f3be-0bf37923a884",
    "pycharm": {
     "name": "#%%\n"
    }
   },
   "execution_count": null,
   "outputs": [
    {
     "output_type": "stream",
     "name": "stdout",
     "text": [
      "Model: \"model\"\n",
      "_________________________________________________________________\n",
      " Layer (type)                Output Shape              Param #   \n",
      "=================================================================\n",
      " Input (InputLayer)          [(None, 187)]             0         \n",
      "                                                                 \n",
      " dense1 (Dense)              (None, 10)                1880      \n",
      "                                                                 \n",
      " dense2 (Dense)              (None, 8)                 88        \n",
      "                                                                 \n",
      " dense3 (Dense)              (None, 6)                 54        \n",
      "                                                                 \n",
      " dense4 (Dense)              (None, 5)                 35        \n",
      "                                                                 \n",
      "=================================================================\n",
      "Total params: 2,057\n",
      "Trainable params: 2,057\n",
      "Non-trainable params: 0\n",
      "_________________________________________________________________\n"
     ]
    }
   ]
  },
  {
   "cell_type": "code",
   "source": [
    "model.compile(optimizer='adam', loss='SparseCategoricalCrossentropy', metrics=['mse', 'mae','accuracy'])"
   ],
   "metadata": {
    "id": "ZGo5aC7y_Kz5",
    "pycharm": {
     "name": "#%%\n"
    }
   },
   "execution_count": null,
   "outputs": []
  },
  {
   "cell_type": "code",
   "source": [
    "history = model.fit(X_sm, y_sm, epochs=epochs, validation_split = 0.2,callbacks=[early_stopping, reduce_learning_rate], batch_size=batch_size)"
   ],
   "metadata": {
    "id": "FMZ4N_l7_OQy",
    "colab": {
     "base_uri": "https://localhost:8080/"
    },
    "outputId": "873d6794-93ea-496b-b20b-30deadcc0cb5",
    "pycharm": {
     "name": "#%%\n"
    }
   },
   "execution_count": null,
   "outputs": [
    {
     "output_type": "stream",
     "name": "stdout",
     "text": [
      "Epoch 1/30\n",
      "8484/8484 [==============================] - 29s 3ms/step - loss: 0.8601 - mse: 3.1493 - mae: 1.4223 - accuracy: 0.6582 - val_loss: 2.3856 - val_mse: 13.9430 - val_mae: 3.7109 - val_accuracy: 0.0774 - lr: 0.0010\n",
      "Epoch 2/30\n",
      "8484/8484 [==============================] - 26s 3ms/step - loss: 0.4699 - mse: 3.1948 - mae: 1.4223 - accuracy: 0.8336 - val_loss: 0.8483 - val_mse: 13.9381 - val_mae: 3.7109 - val_accuracy: 0.7433 - lr: 0.0010\n",
      "Epoch 3/30\n",
      "8484/8484 [==============================] - 26s 3ms/step - loss: 0.3890 - mse: 3.2038 - mae: 1.4223 - accuracy: 0.8636 - val_loss: 0.6911 - val_mse: 13.9704 - val_mae: 3.7109 - val_accuracy: 0.8401 - lr: 0.0010\n",
      "Epoch 4/30\n",
      "8484/8484 [==============================] - 24s 3ms/step - loss: 0.3496 - mse: 3.2086 - mae: 1.4223 - accuracy: 0.8776 - val_loss: 0.6768 - val_mse: 13.9682 - val_mae: 3.7109 - val_accuracy: 0.8375 - lr: 0.0010\n",
      "Epoch 5/30\n",
      "8484/8484 [==============================] - 27s 3ms/step - loss: 0.3246 - mse: 3.2115 - mae: 1.4223 - accuracy: 0.8866 - val_loss: 0.5571 - val_mse: 13.9783 - val_mae: 3.7109 - val_accuracy: 0.8686 - lr: 0.0010\n",
      "Epoch 6/30\n",
      "8484/8484 [==============================] - 26s 3ms/step - loss: 0.3060 - mse: 3.2138 - mae: 1.4223 - accuracy: 0.8922 - val_loss: 0.5546 - val_mse: 13.9823 - val_mae: 3.7109 - val_accuracy: 0.8720 - lr: 0.0010\n",
      "Epoch 7/30\n",
      "8484/8484 [==============================] - 24s 3ms/step - loss: 0.2929 - mse: 3.2152 - mae: 1.4223 - accuracy: 0.8961 - val_loss: 0.5396 - val_mse: 13.9851 - val_mae: 3.7109 - val_accuracy: 0.8800 - lr: 0.0010\n",
      "Epoch 8/30\n",
      "8484/8484 [==============================] - 24s 3ms/step - loss: 0.2825 - mse: 3.2163 - mae: 1.4223 - accuracy: 0.8989 - val_loss: 0.6685 - val_mse: 13.9778 - val_mae: 3.7109 - val_accuracy: 0.8573 - lr: 0.0010\n",
      "Epoch 9/30\n",
      "8484/8484 [==============================] - 24s 3ms/step - loss: 0.2733 - mse: 3.2173 - mae: 1.4223 - accuracy: 0.9027 - val_loss: 0.5743 - val_mse: 13.9804 - val_mae: 3.7109 - val_accuracy: 0.8694 - lr: 0.0010\n",
      "Epoch 10/30\n",
      "8477/8484 [============================>.] - ETA: 0s - loss: 0.2674 - mse: 3.2181 - mae: 1.4223 - accuracy: 0.9042\n",
      "Epoch 10: ReduceLROnPlateau reducing learning rate to 0.00010000000474974513.\n",
      "8484/8484 [==============================] - 24s 3ms/step - loss: 0.2674 - mse: 3.2179 - mae: 1.4223 - accuracy: 0.9042 - val_loss: 0.5891 - val_mse: 13.9828 - val_mae: 3.7109 - val_accuracy: 0.8729 - lr: 0.0010\n",
      "Epoch 11/30\n",
      "8484/8484 [==============================] - 26s 3ms/step - loss: 0.2503 - mse: 3.2191 - mae: 1.4223 - accuracy: 0.9121 - val_loss: 0.5856 - val_mse: 13.9807 - val_mae: 3.7109 - val_accuracy: 0.8724 - lr: 1.0000e-04\n",
      "Epoch 12/30\n",
      "8474/8484 [============================>.] - ETA: 0s - loss: 0.2487 - mse: 3.2194 - mae: 1.4223 - accuracy: 0.9129Restoring model weights from the end of the best epoch: 7.\n",
      "8484/8484 [==============================] - 24s 3ms/step - loss: 0.2487 - mse: 3.2192 - mae: 1.4223 - accuracy: 0.9129 - val_loss: 0.5779 - val_mse: 13.9814 - val_mae: 3.7109 - val_accuracy: 0.8750 - lr: 1.0000e-04\n",
      "Epoch 12: early stopping\n"
     ]
    }
   ]
  },
  {
   "cell_type": "code",
   "source": [
    "_ , mse, mae, accuracy= model.evaluate(X_test, y_test, batch_size=batch_size, verbose=1)"
   ],
   "metadata": {
    "id": "REPKBwsl_SAp",
    "colab": {
     "base_uri": "https://localhost:8080/"
    },
    "outputId": "e8468428-8da7-4c81-b41c-105eb6f76cb4",
    "pycharm": {
     "name": "#%%\n"
    }
   },
   "execution_count": null,
   "outputs": [
    {
     "output_type": "stream",
     "name": "stdout",
     "text": [
      "856/856 [==============================] - 2s 2ms/step - loss: 0.4166 - mse: 1.4788 - mae: 0.5990 - accuracy: 0.8705\n"
     ]
    }
   ]
  },
  {
   "cell_type": "code",
   "source": [
    "print('mse', 'mae','accuracy', mse ,  mae , accuracy)"
   ],
   "metadata": {
    "id": "N3WUXwcO_Vq7",
    "colab": {
     "base_uri": "https://localhost:8080/"
    },
    "outputId": "cd816299-822e-4772-fac4-410d4035a1a5",
    "pycharm": {
     "name": "#%%\n"
    }
   },
   "execution_count": null,
   "outputs": [
    {
     "output_type": "stream",
     "name": "stdout",
     "text": [
      "mse mae accuracy 1.4787737131118774 0.5989840626716614 0.8704773187637329\n"
     ]
    }
   ]
  },
  {
   "cell_type": "code",
   "source": [
    "test_pred_class = model.predict(X_test).argmax(axis = 1)\n",
    "pd.crosstab(y_test, test_pred_class, rownames = [\"reel\"], colnames = [\"predict\"])"
   ],
   "metadata": {
    "id": "ejbdXs-0_ZF7",
    "colab": {
     "base_uri": "https://localhost:8080/",
     "height": 256
    },
    "outputId": "a1865793-2d16-4fa3-9c71-fe987d53fdf3",
    "pycharm": {
     "name": "#%%\n"
    }
   },
   "execution_count": null,
   "outputs": [
    {
     "output_type": "stream",
     "name": "stdout",
     "text": [
      "856/856 [==============================] - 1s 1ms/step\n"
     ]
    },
    {
     "output_type": "execute_result",
     "data": {
      "text/plain": [
       "predict      0     1     2    3     4\n",
       "reel                                 \n",
       "0.0      19781  1390   560  929    57\n",
       "1.0        130   543    17   10     1\n",
       "2.0         85    15  1575   69    10\n",
       "3.0         10     1    10  173     0\n",
       "4.0        170     6    67    7  1746"
      ],
      "text/html": [
       "\n",
       "  <div id=\"df-d3cf9696-5ce3-45b6-a92f-0e99a1c7add1\">\n",
       "    <div class=\"colab-df-container\">\n",
       "      <div>\n",
       "<style scoped>\n",
       "    .dataframe tbody tr th:only-of-type {\n",
       "        vertical-align: middle;\n",
       "    }\n",
       "\n",
       "    .dataframe tbody tr th {\n",
       "        vertical-align: top;\n",
       "    }\n",
       "\n",
       "    .dataframe thead th {\n",
       "        text-align: right;\n",
       "    }\n",
       "</style>\n",
       "<table border=\"1\" class=\"dataframe\">\n",
       "  <thead>\n",
       "    <tr style=\"text-align: right;\">\n",
       "      <th>predict</th>\n",
       "      <th>0</th>\n",
       "      <th>1</th>\n",
       "      <th>2</th>\n",
       "      <th>3</th>\n",
       "      <th>4</th>\n",
       "    </tr>\n",
       "    <tr>\n",
       "      <th>reel</th>\n",
       "      <th></th>\n",
       "      <th></th>\n",
       "      <th></th>\n",
       "      <th></th>\n",
       "      <th></th>\n",
       "    </tr>\n",
       "  </thead>\n",
       "  <tbody>\n",
       "    <tr>\n",
       "      <th>0.0</th>\n",
       "      <td>19781</td>\n",
       "      <td>1390</td>\n",
       "      <td>560</td>\n",
       "      <td>929</td>\n",
       "      <td>57</td>\n",
       "    </tr>\n",
       "    <tr>\n",
       "      <th>1.0</th>\n",
       "      <td>130</td>\n",
       "      <td>543</td>\n",
       "      <td>17</td>\n",
       "      <td>10</td>\n",
       "      <td>1</td>\n",
       "    </tr>\n",
       "    <tr>\n",
       "      <th>2.0</th>\n",
       "      <td>85</td>\n",
       "      <td>15</td>\n",
       "      <td>1575</td>\n",
       "      <td>69</td>\n",
       "      <td>10</td>\n",
       "    </tr>\n",
       "    <tr>\n",
       "      <th>3.0</th>\n",
       "      <td>10</td>\n",
       "      <td>1</td>\n",
       "      <td>10</td>\n",
       "      <td>173</td>\n",
       "      <td>0</td>\n",
       "    </tr>\n",
       "    <tr>\n",
       "      <th>4.0</th>\n",
       "      <td>170</td>\n",
       "      <td>6</td>\n",
       "      <td>67</td>\n",
       "      <td>7</td>\n",
       "      <td>1746</td>\n",
       "    </tr>\n",
       "  </tbody>\n",
       "</table>\n",
       "</div>\n",
       "      <button class=\"colab-df-convert\" onclick=\"convertToInteractive('df-d3cf9696-5ce3-45b6-a92f-0e99a1c7add1')\"\n",
       "              title=\"Convert this dataframe to an interactive table.\"\n",
       "              style=\"display:none;\">\n",
       "        \n",
       "  <svg xmlns=\"http://www.w3.org/2000/svg\" height=\"24px\"viewBox=\"0 0 24 24\"\n",
       "       width=\"24px\">\n",
       "    <path d=\"M0 0h24v24H0V0z\" fill=\"none\"/>\n",
       "    <path d=\"M18.56 5.44l.94 2.06.94-2.06 2.06-.94-2.06-.94-.94-2.06-.94 2.06-2.06.94zm-11 1L8.5 8.5l.94-2.06 2.06-.94-2.06-.94L8.5 2.5l-.94 2.06-2.06.94zm10 10l.94 2.06.94-2.06 2.06-.94-2.06-.94-.94-2.06-.94 2.06-2.06.94z\"/><path d=\"M17.41 7.96l-1.37-1.37c-.4-.4-.92-.59-1.43-.59-.52 0-1.04.2-1.43.59L10.3 9.45l-7.72 7.72c-.78.78-.78 2.05 0 2.83L4 21.41c.39.39.9.59 1.41.59.51 0 1.02-.2 1.41-.59l7.78-7.78 2.81-2.81c.8-.78.8-2.07 0-2.86zM5.41 20L4 18.59l7.72-7.72 1.47 1.35L5.41 20z\"/>\n",
       "  </svg>\n",
       "      </button>\n",
       "      \n",
       "  <style>\n",
       "    .colab-df-container {\n",
       "      display:flex;\n",
       "      flex-wrap:wrap;\n",
       "      gap: 12px;\n",
       "    }\n",
       "\n",
       "    .colab-df-convert {\n",
       "      background-color: #E8F0FE;\n",
       "      border: none;\n",
       "      border-radius: 50%;\n",
       "      cursor: pointer;\n",
       "      display: none;\n",
       "      fill: #1967D2;\n",
       "      height: 32px;\n",
       "      padding: 0 0 0 0;\n",
       "      width: 32px;\n",
       "    }\n",
       "\n",
       "    .colab-df-convert:hover {\n",
       "      background-color: #E2EBFA;\n",
       "      box-shadow: 0px 1px 2px rgba(60, 64, 67, 0.3), 0px 1px 3px 1px rgba(60, 64, 67, 0.15);\n",
       "      fill: #174EA6;\n",
       "    }\n",
       "\n",
       "    [theme=dark] .colab-df-convert {\n",
       "      background-color: #3B4455;\n",
       "      fill: #D2E3FC;\n",
       "    }\n",
       "\n",
       "    [theme=dark] .colab-df-convert:hover {\n",
       "      background-color: #434B5C;\n",
       "      box-shadow: 0px 1px 3px 1px rgba(0, 0, 0, 0.15);\n",
       "      filter: drop-shadow(0px 1px 2px rgba(0, 0, 0, 0.3));\n",
       "      fill: #FFFFFF;\n",
       "    }\n",
       "  </style>\n",
       "\n",
       "      <script>\n",
       "        const buttonEl =\n",
       "          document.querySelector('#df-d3cf9696-5ce3-45b6-a92f-0e99a1c7add1 button.colab-df-convert');\n",
       "        buttonEl.style.display =\n",
       "          google.colab.kernel.accessAllowed ? 'block' : 'none';\n",
       "\n",
       "        async function convertToInteractive(key) {\n",
       "          const element = document.querySelector('#df-d3cf9696-5ce3-45b6-a92f-0e99a1c7add1');\n",
       "          const dataTable =\n",
       "            await google.colab.kernel.invokeFunction('convertToInteractive',\n",
       "                                                     [key], {});\n",
       "          if (!dataTable) return;\n",
       "\n",
       "          const docLinkHtml = 'Like what you see? Visit the ' +\n",
       "            '<a target=\"_blank\" href=https://colab.research.google.com/notebooks/data_table.ipynb>data table notebook</a>'\n",
       "            + ' to learn more about interactive tables.';\n",
       "          element.innerHTML = '';\n",
       "          dataTable['output_type'] = 'display_data';\n",
       "          await google.colab.output.renderOutput(dataTable, element);\n",
       "          const docLink = document.createElement('div');\n",
       "          docLink.innerHTML = docLinkHtml;\n",
       "          element.appendChild(docLink);\n",
       "        }\n",
       "      </script>\n",
       "    </div>\n",
       "  </div>\n",
       "  "
      ]
     },
     "metadata": {},
     "execution_count": 45
    }
   ]
  },
  {
   "cell_type": "code",
   "source": [
    "print(history.history.keys())\n",
    "# summarize history for accuracy\n",
    "plt.plot(history.history['accuracy'])\n",
    "plt.plot(history.history['val_accuracy'])\n",
    "plt.title('model accuracy')\n",
    "plt.ylabel('accuracy')\n",
    "plt.xlabel('epoch')\n",
    "plt.legend(['train', 'test'], loc='upper left')\n",
    "plt.show()\n",
    "# summarize history for loss\n",
    "plt.plot(history.history['loss'])\n",
    "plt.plot(history.history['val_loss'])\n",
    "plt.title('model loss')\n",
    "plt.ylabel('loss')\n",
    "plt.xlabel('epoch')\n",
    "plt.legend(['train', 'test'], loc='upper left')\n",
    "plt.show()\n",
    "# summarize history for loss\n",
    "plt.plot(history.history['mse'])\n",
    "plt.plot(history.history['val_mse'])\n",
    "plt.title('model mse')\n",
    "plt.ylabel('loss mse')\n",
    "plt.xlabel('epoch')\n",
    "plt.legend(['train', 'test'], loc='upper left')\n",
    "plt.show()"
   ],
   "metadata": {
    "id": "_QsmZnE4_cL5",
    "colab": {
     "base_uri": "https://localhost:8080/",
     "height": 889
    },
    "outputId": "0ded750c-8e65-4779-c9f5-971983acb65c",
    "pycharm": {
     "name": "#%%\n"
    }
   },
   "execution_count": null,
   "outputs": [
    {
     "output_type": "stream",
     "name": "stdout",
     "text": [
      "dict_keys(['loss', 'mse', 'mae', 'accuracy', 'val_loss', 'val_mse', 'val_mae', 'val_accuracy', 'lr'])\n"
     ]
    },
    {
     "output_type": "display_data",
     "data": {
      "text/plain": [
       "<Figure size 432x288 with 1 Axes>"
      ],
      "image/png": "[encoded data removed]"
     },
     "metadata": {
      "needs_background": "light"
     }
    },
    {
     "output_type": "display_data",
     "data": {
      "text/plain": [
       "<Figure size 432x288 with 1 Axes>"
      ],
      "image/png": "[encoded data removed]"
     },
     "metadata": {
      "needs_background": "light"
     }
    },
    {
     "output_type": "display_data",
     "data": {
      "text/plain": [
       "<Figure size 432x288 with 1 Axes>"
      ],
      "image/png": "[encoded data removed]"
     },
     "metadata": {
      "needs_background": "light"
     }
    }
   ]
  },
  {
   "cell_type": "markdown",
   "source": [
    "## appliqués au dataset ptbdb"
   ],
   "metadata": {
    "id": "r01TOX5zywd5",
    "pycharm": {
     "name": "#%% md\n"
    }
   }
  },
  {
   "cell_type": "code",
   "source": [
    "import matplotlib.pyplot as plt\n",
    "import seaborn as sns\n",
    "\n",
    "df1=pd.read_csv('/content/drive/MyDrive/heart_peak/ptbdb_normal.csv',header=None)\n",
    "df2=pd.read_csv('/content/drive/MyDrive/heart_peak/ptbdb_abnormal.csv',header=None)\n",
    "\n",
    "\n",
    "df=pd.concat([df1,df2],ignore_index=True,sort=False)\n",
    "df.isnull().sum().sum()"
   ],
   "metadata": {
    "id": "MHaxeF1cyz2V",
    "pycharm": {
     "name": "#%%\n"
    }
   },
   "execution_count": null,
   "outputs": []
  },
  {
   "cell_type": "code",
   "source": [
    "X=df.iloc[:,:-1]\n",
    "y=df.iloc[:,-1]\n",
    "from sklearn.model_selection import train_test_split,cross_val_score\n",
    "from sklearn.linear_model import LogisticRegression\n",
    "from sklearn.ensemble import RandomForestClassifier\n",
    "from sklearn.svm import SVC\n",
    "from sklearn.metrics import classification_report,accuracy_score,confusion_matrix\n",
    "X_train, X_test, y_train, y_test = train_test_split(X, y, test_size=0.25, random_state=28)"
   ],
   "metadata": {
    "id": "qhRBd41V_zwR",
    "pycharm": {
     "name": "#%%\n"
    }
   },
   "execution_count": null,
   "outputs": []
  },
  {
   "cell_type": "code",
   "source": [
    "import imblearn\n",
    "from imblearn.over_sampling import SMOTE\n",
    "print(y_train.value_counts())\n",
    "\n",
    "# oversampling\n",
    "smote=SMOTE()\n",
    "X_oversampled,y_oversampled=smote.fit_resample(X_train,y_train)\n",
    "y_oversampled.value_counts()"
   ],
   "metadata": {
    "id": "zWLQ-d9b_3HS",
    "pycharm": {
     "name": "#%%\n"
    }
   },
   "execution_count": null,
   "outputs": []
  },
  {
   "cell_type": "code",
   "source": [
    "from tensorflow.keras.layers import Input, Dense, Dropout, Flatten, Conv1D, MaxPooling1D, GlobalAveragePooling1D\n",
    "from tensorflow.keras.models import Model, Sequential\n",
    "from tensorflow.keras.utils import to_categorical\n",
    "from tensorflow.keras.callbacks import EarlyStopping, ReduceLROnPlateau"
   ],
   "metadata": {
    "id": "ffN7N3HC_8H5",
    "pycharm": {
     "name": "#%%\n"
    }
   },
   "execution_count": null,
   "outputs": []
  },
  {
   "cell_type": "code",
   "source": [
    "smote = SMOTE()\n",
    "X_sm, y_sm = smote.fit_resample(X_train, y_train)"
   ],
   "metadata": {
    "id": "1S-syc1P__9Z",
    "pycharm": {
     "name": "#%%\n"
    }
   },
   "execution_count": null,
   "outputs": []
  },
  {
   "cell_type": "code",
   "source": [
    "inputs = Input(shape = X_train.shape[1], name = \"Input\")\n",
    "dense1 = Dense(units = 10, activation = \"tanh\", name = \"dense1\", kernel_initializer=\"normal\")\n",
    "dense2 = Dense(units = 8, activation = \"tanh\", name = \"dense2\", kernel_initializer=\"normal\")\n",
    "dense3 = Dense(units = 6, activation = \"tanh\", name = \"dense3\", kernel_initializer=\"normal\")\n",
    "dense4 = Dense(units = 2, activation = \"softmax\", name = \"dense4\", kernel_initializer=\"normal\")\n",
    "\n",
    "x = dense1(inputs)\n",
    "x = dense2(x)\n",
    "x = dense3(x)\n",
    "outputs = dense4(x)\n",
    "\n",
    "model = Model(inputs = inputs, outputs = outputs)\n",
    "model.summary()"
   ],
   "metadata": {
    "id": "Jlf37U4BACEp",
    "pycharm": {
     "name": "#%%\n"
    }
   },
   "execution_count": null,
   "outputs": []
  },
  {
   "cell_type": "code",
   "source": [
    "model.compile(optimizer='adam', loss='SparseCategoricalCrossentropy', metrics='accuracy')"
   ],
   "metadata": {
    "id": "HYG-bNjXAEoh",
    "pycharm": {
     "name": "#%%\n"
    }
   },
   "execution_count": null,
   "outputs": []
  },
  {
   "cell_type": "code",
   "source": [
    "histo_dense = model.fit(X_sm, y_sm, epochs=30)"
   ],
   "metadata": {
    "id": "1XtJnjCnAHF4",
    "pycharm": {
     "name": "#%%\n"
    }
   },
   "execution_count": null,
   "outputs": []
  },
  {
   "cell_type": "markdown",
   "source": [
    "# CONV_Net"
   ],
   "metadata": {
    "id": "xVzIWjcry1Aw",
    "pycharm": {
     "name": "#%% md\n"
    }
   }
  },
  {
   "cell_type": "markdown",
   "source": [
    "## conv net apppliqué aux dataset mitbih"
   ],
   "metadata": {
    "id": "pRKqqNIpy6dh",
    "pycharm": {
     "name": "#%% md\n"
    }
   }
  },
  {
   "cell_type": "code",
   "source": [
    "import matplotlib.pyplot as plt\n",
    "import seaborn as sns\n",
    "\n",
    "df1=pd.read_csv('/content/drive/MyDrive/heart_peak/mitbih_test.csv',header=None)\n",
    "df2=pd.read_csv('/content/drive/MyDrive/heart_peak/mitbih_train.csv',header=None)\n",
    "\n",
    "\n",
    "df=pd.concat([df1,df2],ignore_index=True,sort=False)\n",
    "df.isnull().sum().sum()"
   ],
   "metadata": {
    "id": "V7L6VytQzdt1",
    "colab": {
     "base_uri": "https://localhost:8080/"
    },
    "outputId": "c7deb55e-a3d5-48c9-e0e2-404b5a06e8ca",
    "pycharm": {
     "name": "#%%\n"
    }
   },
   "execution_count": null,
   "outputs": [
    {
     "output_type": "execute_result",
     "data": {
      "text/plain": [
       "0"
      ]
     },
     "metadata": {},
     "execution_count": 55
    }
   ]
  },
  {
   "cell_type": "code",
   "source": [
    "X=df.iloc[:,:-1]\n",
    "y=df.iloc[:,-1]\n",
    "from sklearn.model_selection import train_test_split,cross_val_score\n",
    "from sklearn.linear_model import LogisticRegression\n",
    "from sklearn.ensemble import RandomForestClassifier\n",
    "from sklearn.svm import SVC\n",
    "from sklearn.preprocessing import StandardScaler\n",
    "from sklearn.metrics import confusion_matrix\n",
    "from sklearn.metrics import classification_report,accuracy_score,confusion_matrix\n",
    "X_train, X_test, y_train, y_test = train_test_split(X, y, test_size=0.25, random_state=28)"
   ],
   "metadata": {
    "id": "s-C0p77eAZRZ",
    "pycharm": {
     "name": "#%%\n"
    }
   },
   "execution_count": null,
   "outputs": []
  },
  {
   "cell_type": "code",
   "source": [
    "from tensorflow.keras.layers import Input, Dense, Dropout, Flatten, Conv1D, MaxPooling1D, GlobalAveragePooling1D, BatchNormalization, SpatialDropout1D, Reshape\n",
    "from tensorflow.keras.models import Model, Sequential\n",
    "from tensorflow.keras.utils import to_categorical\n",
    "from tensorflow.keras.callbacks import EarlyStopping, ReduceLROnPlateau\n"
   ],
   "metadata": {
    "id": "BPRQH2K9AfZ0",
    "pycharm": {
     "name": "#%%\n"
    }
   },
   "execution_count": null,
   "outputs": []
  },
  {
   "cell_type": "code",
   "source": [
    "X_train, X_test, y_train, y_test = train_test_split(X, y, test_size=0.25, random_state=28)"
   ],
   "metadata": {
    "id": "C6uI_l4rAjcK",
    "pycharm": {
     "name": "#%%\n"
    }
   },
   "execution_count": null,
   "outputs": []
  },
  {
   "cell_type": "code",
   "source": [
    "smote = SMOTE()\n",
    "X_sm, y_sm = smote.fit_resample(X_train, y_train)"
   ],
   "metadata": {
    "id": "dooNNnjaAmjS",
    "pycharm": {
     "name": "#%%\n"
    }
   },
   "execution_count": null,
   "outputs": []
  },
  {
   "cell_type": "code",
   "source": [
    "scaler = StandardScaler()\n",
    "X_sm =scaler.fit_transform(X_sm)\n",
    "X_test = scaler.transform(X_test)"
   ],
   "metadata": {
    "id": "lc47XbYoAomT",
    "pycharm": {
     "name": "#%%\n"
    }
   },
   "execution_count": null,
   "outputs": []
  },
  {
   "cell_type": "code",
   "source": [
    "\n",
    "y_sm = to_categorical(y_sm)\n",
    "y_test = to_categorical(y_test)"
   ],
   "metadata": {
    "id": "q2W7d-5-As-p",
    "pycharm": {
     "name": "#%%\n"
    }
   },
   "execution_count": null,
   "outputs": []
  },
  {
   "cell_type": "code",
   "source": [
    "X_train_cnn = np.reshape(X_sm, (X_sm.shape[0], X_sm.shape[1], 1))\n",
    "X_test_cnn = np.reshape(X_test, (X_test.shape[0], X_test.shape[1], 1))"
   ],
   "metadata": {
    "id": "w4JbxxRsAu_c",
    "pycharm": {
     "name": "#%%\n"
    }
   },
   "execution_count": null,
   "outputs": []
  },
  {
   "cell_type": "code",
   "source": [
    "print(X_train_cnn.shape, y_sm.shape, X_test_cnn.shape, y_test.shape)\n"
   ],
   "metadata": {
    "id": "4Wsikn-SAywj",
    "colab": {
     "base_uri": "https://localhost:8080/"
    },
    "outputId": "14be34d8-88b3-4ae5-82b0-057928a0c3f1",
    "pycharm": {
     "name": "#%%\n"
    }
   },
   "execution_count": null,
   "outputs": [
    {
     "output_type": "stream",
     "name": "stdout",
     "text": [
      "(339360, 187, 1) (339360, 5) (27362, 187, 1) (27362, 5)\n"
     ]
    }
   ]
  },
  {
   "cell_type": "code",
   "source": [
    "early_stopping = EarlyStopping(monitor = 'val_loss',\n",
    "                    min_delta = 0.01,\n",
    "                    patience = 5,\n",
    "                    verbose = 1,\n",
    "                    mode = 'min',\n",
    "                    restore_best_weights = True)\n",
    "\n",
    "reduce_learning_rate = ReduceLROnPlateau(monitor = 'val_loss',\n",
    "                        min_delta = 0.01,\n",
    "                        patience = 3,\n",
    "                        factor = 0.1, \n",
    "                        cooldown = 4,\n",
    "                        verbose = 1)"
   ],
   "metadata": {
    "id": "0IiDEOLUA2vi",
    "pycharm": {
     "name": "#%%\n"
    }
   },
   "execution_count": null,
   "outputs": []
  },
  {
   "cell_type": "code",
   "source": [
    "batch_size=32\n",
    "verbose=1\n",
    "epochs = 50"
   ],
   "metadata": {
    "id": "Ka3wqijXA7BR",
    "pycharm": {
     "name": "#%%\n"
    }
   },
   "execution_count": null,
   "outputs": []
  },
  {
   "cell_type": "code",
   "source": [
    "inputs = Input(shape = (X_sm.shape[1],1), name = \"Input\")\n",
    "conv1_lenet = Conv1D(filters = 32, kernel_size = 5, padding = \"valid\", activation = \"relu\")\n",
    "pool1_lenet = MaxPooling1D(pool_size = 2)\n",
    "conv2_lenet = Conv1D(filters = 16, kernel_size = 3, padding = \"valid\", activation = \"relu\")\n",
    "pool2_lenet = MaxPooling1D(pool_size = 2)\n",
    "dropout_lenet = Dropout(rate=0.2)\n",
    "flatten_lenet = Flatten()\n",
    "dense1_lenet = Dense(units = 128, activation=\"relu\")\n",
    "dense2_lenet = Dense(units = 5, activation=\"softmax\")\n",
    "\n",
    "x = conv1_lenet(inputs)\n",
    "x = pool1_lenet(x)\n",
    "x = conv2_lenet(x)\n",
    "x = pool2_lenet(x)\n",
    "x = dropout_lenet(x)\n",
    "x = flatten_lenet(x)\n",
    "x = dense1_lenet(x)\n",
    "outputs = dense2_lenet(x)\n",
    "\n",
    "\n",
    "model_lenet = Model(inputs = inputs, outputs = outputs)\n",
    "model_lenet.compile(loss='categorical_crossentropy', optimizer='adam', metrics=['mse', 'accuracy'])\n",
    "history_1 = model_lenet.fit(X_sm, y_sm, epochs=epochs,callbacks=[early_stopping, reduce_learning_rate], batch_size=32,validation_split = 0.2, verbose=1)\n",
    "_, mse, accuracy = model_lenet.evaluate(X_test, y_test, batch_size=batch_size, verbose=1)"
   ],
   "metadata": {
    "id": "pECHDV3zA_Hx",
    "colab": {
     "base_uri": "https://localhost:8080/"
    },
    "outputId": "20b014a5-70cb-40a3-e298-fdfd454e7314",
    "pycharm": {
     "name": "#%%\n"
    }
   },
   "execution_count": null,
   "outputs": [
    {
     "output_type": "stream",
     "name": "stdout",
     "text": [
      "Epoch 1/50\n",
      "8484/8484 [==============================] - 40s 4ms/step - loss: 0.2023 - mse: 0.0213 - accuracy: 0.9276 - val_loss: 0.0945 - val_mse: 0.0082 - val_accuracy: 0.9735 - lr: 0.0010\n",
      "Epoch 2/50\n",
      "8484/8484 [==============================] - 34s 4ms/step - loss: 0.0813 - mse: 0.0085 - accuracy: 0.9720 - val_loss: 0.0389 - val_mse: 0.0038 - val_accuracy: 0.9876 - lr: 0.0010\n",
      "Epoch 3/50\n",
      "8484/8484 [==============================] - 34s 4ms/step - loss: 0.0569 - mse: 0.0060 - accuracy: 0.9805 - val_loss: 0.0191 - val_mse: 0.0019 - val_accuracy: 0.9937 - lr: 0.0010\n",
      "Epoch 4/50\n",
      "8484/8484 [==============================] - 35s 4ms/step - loss: 0.0473 - mse: 0.0050 - accuracy: 0.9838 - val_loss: 0.0157 - val_mse: 0.0015 - val_accuracy: 0.9951 - lr: 0.0010\n",
      "Epoch 5/50\n",
      "8484/8484 [==============================] - 35s 4ms/step - loss: 0.0393 - mse: 0.0041 - accuracy: 0.9866 - val_loss: 0.0181 - val_mse: 0.0016 - val_accuracy: 0.9950 - lr: 0.0010\n",
      "Epoch 6/50\n",
      "8481/8484 [============================>.] - ETA: 0s - loss: 0.0351 - mse: 0.0036 - accuracy: 0.9883\n",
      "Epoch 6: ReduceLROnPlateau reducing learning rate to 0.00010000000474974513.\n",
      "8484/8484 [==============================] - 35s 4ms/step - loss: 0.0351 - mse: 0.0036 - accuracy: 0.9883 - val_loss: 0.0157 - val_mse: 0.0014 - val_accuracy: 0.9955 - lr: 0.0010\n",
      "Epoch 7/50\n",
      "8484/8484 [==============================] - 34s 4ms/step - loss: 0.0207 - mse: 0.0021 - accuracy: 0.9934 - val_loss: 0.0142 - val_mse: 0.0013 - val_accuracy: 0.9957 - lr: 1.0000e-04\n",
      "Epoch 8/50\n",
      "8473/8484 [============================>.] - ETA: 0s - loss: 0.0174 - mse: 0.0018 - accuracy: 0.9943Restoring model weights from the end of the best epoch: 3.\n",
      "8484/8484 [==============================] - 46s 5ms/step - loss: 0.0174 - mse: 0.0018 - accuracy: 0.9943 - val_loss: 0.0124 - val_mse: 0.0012 - val_accuracy: 0.9962 - lr: 1.0000e-04\n",
      "Epoch 8: early stopping\n",
      "856/856 [==============================] - 3s 3ms/step - loss: 0.1163 - mse: 0.0109 - accuracy: 0.9645\n"
     ]
    }
   ]
  },
  {
   "cell_type": "code",
   "source": [
    "mse, accuracy\n"
   ],
   "metadata": {
    "id": "CrwcB5hbBCYB",
    "colab": {
     "base_uri": "https://localhost:8080/"
    },
    "outputId": "a9941be4-7fdf-4038-ed2d-9fc9e68c84a8",
    "pycharm": {
     "name": "#%%\n"
    }
   },
   "execution_count": null,
   "outputs": [
    {
     "output_type": "execute_result",
     "data": {
      "text/plain": [
       "(0.010936500504612923, 0.964512825012207)"
      ]
     },
     "metadata": {},
     "execution_count": 67
    }
   ]
  },
  {
   "cell_type": "code",
   "source": [
    "pred_class_1 = model_lenet.predict(X_test).argmax(axis = 1)\n",
    "rounded_labels_1=np.argmax(y_test, axis=1)\n",
    "print(pd.crosstab(rounded_labels_1, pred_class_1, rownames = [\"reel\"], colnames = [\"predict\"]))\n",
    "print(classification_report_imbalanced(rounded_labels_1, pred_class_1))"
   ],
   "metadata": {
    "colab": {
     "base_uri": "https://localhost:8080/"
    },
    "id": "-IuM0iREGLUI",
    "outputId": "3a31a0f0-b6be-4698-99e0-3f9b1d2d3760",
    "pycharm": {
     "name": "#%%\n"
    }
   },
   "execution_count": null,
   "outputs": [
    {
     "output_type": "stream",
     "name": "stdout",
     "text": [
      "856/856 [==============================] - 2s 2ms/step\n",
      "predict      0    1     2    3     4\n",
      "reel                                \n",
      "0        21988  365   112  217    35\n",
      "1           86  600    10    3     2\n",
      "2           49    6  1668   25     6\n",
      "3           10    2    15  167     0\n",
      "4           17    4     7    0  1968\n",
      "                   pre       rec       spe        f1       geo       iba       sup\n",
      "\n",
      "          0       0.99      0.97      0.97      0.98      0.97      0.93     22717\n",
      "          1       0.61      0.86      0.99      0.72      0.92      0.83       701\n",
      "          2       0.92      0.95      0.99      0.94      0.97      0.94      1754\n",
      "          3       0.41      0.86      0.99      0.55      0.92      0.84       194\n",
      "          4       0.98      0.99      1.00      0.98      0.99      0.98      1996\n",
      "\n",
      "avg / total       0.97      0.96      0.97      0.97      0.97      0.94     27362\n",
      "\n"
     ]
    }
   ]
  },
  {
   "cell_type": "code",
   "source": [],
   "metadata": {
    "id": "qyORxaHIGLR0",
    "pycharm": {
     "name": "#%%\n"
    }
   },
   "execution_count": null,
   "outputs": []
  },
  {
   "cell_type": "code",
   "source": [
    "print(history_1.history.keys())\n",
    "# summarize history for accuracy\n",
    "plt.plot(history_1.history['accuracy'])\n",
    "plt.plot(history_1.history['val_accuracy'])\n",
    "plt.title('model accuracy')\n",
    "plt.ylabel('accuracy')\n",
    "plt.xlabel('epoch')\n",
    "plt.legend(['train', 'test'], loc='upper left')\n",
    "plt.show()\n",
    "# summarize history for loss\n",
    "plt.plot(history_1.history['loss'])\n",
    "plt.plot(history_1.history['val_loss'])\n",
    "plt.title('model loss')\n",
    "plt.ylabel('loss')\n",
    "plt.xlabel('epoch')\n",
    "plt.legend(['train', 'test'], loc='upper left')\n",
    "plt.show()"
   ],
   "metadata": {
    "id": "B-3M-kMFBEga",
    "colab": {
     "base_uri": "https://localhost:8080/",
     "height": 591
    },
    "outputId": "a02200ee-071e-4339-9894-7323e3dc9163",
    "pycharm": {
     "name": "#%%\n"
    }
   },
   "execution_count": null,
   "outputs": [
    {
     "output_type": "stream",
     "name": "stdout",
     "text": [
      "dict_keys(['loss', 'mse', 'accuracy', 'val_loss', 'val_mse', 'val_accuracy', 'lr'])\n"
     ]
    },
    {
     "output_type": "display_data",
     "data": {
      "text/plain": [
       "<Figure size 432x288 with 1 Axes>"
      ],
      "image/png": "[encoded data removed]"
     },
     "metadata": {
      "needs_background": "light"
     }
    },
    {
     "output_type": "display_data",
     "data": {
      "text/plain": [
       "<Figure size 432x288 with 1 Axes>"
      ],
      "image/png": "[encoded data removed]"
     },
     "metadata": {
      "needs_background": "light"
     }
    }
   ]
  },
  {
   "cell_type": "markdown",
   "source": [
    "## conv net apppliqué aux dataset ptbdb"
   ],
   "metadata": {
    "id": "TKJRQPuwzG2B",
    "pycharm": {
     "name": "#%% md\n"
    }
   }
  },
  {
   "cell_type": "code",
   "source": [
    "import pandas as pd\n",
    "import numpy as np\n",
    "from scipy.signal import find_peaks\n",
    "from sklearn.metrics import classification_report\n",
    "from imblearn.over_sampling import SMOTE\n",
    "from imblearn.metrics import classification_report_imbalanced, geometric_mean_score"
   ],
   "metadata": {
    "id": "2TeXeJg7F9kU",
    "pycharm": {
     "name": "#%%\n"
    }
   },
   "execution_count": null,
   "outputs": []
  },
  {
   "cell_type": "code",
   "source": [
    "import matplotlib.pyplot as plt\n",
    "import seaborn as sns\n",
    "\n",
    "df1=pd.read_csv('/content/drive/MyDrive/heart_peak/ptbdb_normal.csv',header=None)\n",
    "df2=pd.read_csv('/content/drive/MyDrive/heart_peak/ptbdb_abnormal.csv',header=None)\n",
    "\n",
    "\n",
    "df=pd.concat([df1,df2],ignore_index=True,sort=False)\n",
    "df.isnull().sum().sum()"
   ],
   "metadata": {
    "colab": {
     "base_uri": "https://localhost:8080/"
    },
    "id": "U71ZoZWoIPtV",
    "outputId": "4f304155-6397-419f-874b-97e85fe2f516",
    "pycharm": {
     "name": "#%%\n"
    }
   },
   "execution_count": null,
   "outputs": [
    {
     "output_type": "execute_result",
     "data": {
      "text/plain": [
       "0"
      ]
     },
     "metadata": {},
     "execution_count": 179
    }
   ]
  },
  {
   "cell_type": "code",
   "source": [
    "X=df.iloc[:,:-1]\n",
    "y=df.iloc[:,-1]\n",
    "from sklearn.model_selection import train_test_split,cross_val_score\n",
    "from sklearn.linear_model import LogisticRegression\n",
    "from sklearn.ensemble import RandomForestClassifier\n",
    "from sklearn.svm import SVC\n",
    "from sklearn.metrics import classification_report,accuracy_score,confusion_matrix\n",
    "X_train, X_test, y_train, y_test = train_test_split(X, y, test_size=0.25, random_state=28)"
   ],
   "metadata": {
    "id": "OBNetPSl8MxL",
    "pycharm": {
     "name": "#%%\n"
    }
   },
   "execution_count": null,
   "outputs": []
  },
  {
   "cell_type": "code",
   "source": [
    "import imblearn\n",
    "from imblearn.over_sampling import SMOTE\n",
    "print(y_train.value_counts())\n",
    "\n",
    "# oversampling\n",
    "smote=SMOTE()\n",
    "X_sm, y_sm = smote.fit_resample(X_train, y_train)"
   ],
   "metadata": {
    "id": "9C3yUB9h8MuF",
    "colab": {
     "base_uri": "https://localhost:8080/"
    },
    "outputId": "83333876-3836-4e4f-dc44-6baee00af61f",
    "pycharm": {
     "name": "#%%\n"
    }
   },
   "execution_count": null,
   "outputs": [
    {
     "output_type": "stream",
     "name": "stdout",
     "text": [
      "1.0    7873\n",
      "0.0    3041\n",
      "Name: 187, dtype: int64\n"
     ]
    }
   ]
  },
  {
   "cell_type": "code",
   "source": [
    "from sklearn.preprocessing import StandardScaler\n",
    "from sklearn.metrics import confusion_matrix"
   ],
   "metadata": {
    "id": "L_5qEwMH8Mr7",
    "pycharm": {
     "name": "#%%\n"
    }
   },
   "execution_count": null,
   "outputs": []
  },
  {
   "cell_type": "code",
   "source": [
    "scaler = StandardScaler()\n",
    "X_sm =scaler.fit_transform(X_sm)\n",
    "X_test = scaler.transform(X_test)"
   ],
   "metadata": {
    "id": "2lph8p3K8Mo6",
    "pycharm": {
     "name": "#%%\n"
    }
   },
   "execution_count": null,
   "outputs": []
  },
  {
   "cell_type": "code",
   "source": [
    "y_sm = to_categorical(y_sm)"
   ],
   "metadata": {
    "id": "wZuWgV328Mlx",
    "pycharm": {
     "name": "#%%\n"
    }
   },
   "execution_count": null,
   "outputs": []
  },
  {
   "cell_type": "code",
   "source": [
    "y_test = to_categorical(y_test)"
   ],
   "metadata": {
    "id": "43qtVJO28Mix",
    "pycharm": {
     "name": "#%%\n"
    }
   },
   "execution_count": null,
   "outputs": []
  },
  {
   "cell_type": "code",
   "source": [
    "X_train_cnn = np.reshape(X_sm, (X_sm.shape[0], X_sm.shape[1], 1))\n",
    "X_test_cnn = np.reshape(X_test, (X_test.shape[0], X_test.shape[1], 1))"
   ],
   "metadata": {
    "id": "P5-Q9se18Mfa",
    "pycharm": {
     "name": "#%%\n"
    }
   },
   "execution_count": null,
   "outputs": []
  },
  {
   "cell_type": "code",
   "source": [
    "early_stopping = EarlyStopping(monitor = 'val_loss',\n",
    "                    min_delta = 0.01,\n",
    "                    patience = 5,\n",
    "                    verbose = 1,\n",
    "                    mode = 'min',\n",
    "                    restore_best_weights = True)\n",
    "\n",
    "reduce_learning_rate = ReduceLROnPlateau(monitor = 'val_loss',\n",
    "                        min_delta = 0.01,\n",
    "                        patience = 3,\n",
    "                        factor = 0.1, \n",
    "                        cooldown = 4,\n",
    "                        verbose = 1)"
   ],
   "metadata": {
    "id": "UWGJgRav8MZi",
    "pycharm": {
     "name": "#%%\n"
    }
   },
   "execution_count": null,
   "outputs": []
  },
  {
   "cell_type": "code",
   "source": [
    "inputs = Input(shape = (X_sm.shape[1],1), name = \"Input\")\n",
    "conv1_lenet = Conv1D(filters = 32, kernel_size = 5, padding = \"valid\", activation = \"relu\")\n",
    "pool1_lenet = MaxPooling1D(pool_size = 2)\n",
    "conv2_lenet = Conv1D(filters = 16, kernel_size = 3, padding = \"valid\", activation = \"relu\")\n",
    "pool2_lenet = MaxPooling1D(pool_size = 2)\n",
    "dropout_lenet = Dropout(rate=0.2)\n",
    "flatten_lenet = Flatten()\n",
    "dense1_lenet = Dense(units = 128, activation=\"relu\")\n",
    "dense2_lenet = Dense(units = 2, activation=\"softmax\")\n",
    "\n",
    "x = conv1_lenet(inputs)\n",
    "x = pool1_lenet(x)\n",
    "x = conv2_lenet(x)\n",
    "x = pool2_lenet(x)\n",
    "x = dropout_lenet(x)\n",
    "x = flatten_lenet(x)\n",
    "x = dense1_lenet(x)\n",
    "outputs = dense2_lenet(x)\n",
    "\n",
    "\n",
    "model_lenpt = Model(inputs = inputs, outputs = outputs)\n",
    "model_lenpt.compile(loss='BinaryCrossentropy', optimizer='adam', metrics=['mse', 'accuracy'])\n",
    "history_ptb = model_lenpt.fit(X_sm, y_sm, epochs=epochs,callbacks=[early_stopping, reduce_learning_rate], batch_size=32,validation_split = 0.2, verbose=1)\n",
    "_, mse, accuracy = model_lenpt.evaluate(X_test, y_test, batch_size=batch_size, verbose=1)"
   ],
   "metadata": {
    "id": "ympgt9Nl8MSK",
    "colab": {
     "base_uri": "https://localhost:8080/"
    },
    "outputId": "f40d5381-2766-45c4-9f5b-73de2a35355a",
    "pycharm": {
     "name": "#%%\n"
    }
   },
   "execution_count": null,
   "outputs": [
    {
     "output_type": "stream",
     "name": "stdout",
     "text": [
      "Epoch 1/50\n",
      "394/394 [==============================] - 13s 29ms/step - loss: 0.3805 - mse: 0.1250 - accuracy: 0.8284 - val_loss: 0.4261 - val_mse: 0.1212 - val_accuracy: 0.8429 - lr: 0.0010\n",
      "Epoch 2/50\n",
      "394/394 [==============================] - 2s 5ms/step - loss: 0.2181 - mse: 0.0644 - accuracy: 0.9161 - val_loss: 0.1468 - val_mse: 0.0340 - val_accuracy: 0.9533 - lr: 0.0010\n",
      "Epoch 3/50\n",
      "394/394 [==============================] - 2s 5ms/step - loss: 0.1577 - mse: 0.0455 - accuracy: 0.9393 - val_loss: 0.1005 - val_mse: 0.0230 - val_accuracy: 0.9692 - lr: 0.0010\n",
      "Epoch 4/50\n",
      "394/394 [==============================] - 2s 5ms/step - loss: 0.1239 - mse: 0.0352 - accuracy: 0.9532 - val_loss: 0.1022 - val_mse: 0.0209 - val_accuracy: 0.9746 - lr: 0.0010\n",
      "Epoch 5/50\n",
      "394/394 [==============================] - 2s 5ms/step - loss: 0.0971 - mse: 0.0269 - accuracy: 0.9651 - val_loss: 0.0790 - val_mse: 0.0169 - val_accuracy: 0.9800 - lr: 0.0010\n",
      "Epoch 6/50\n",
      "394/394 [==============================] - 2s 5ms/step - loss: 0.0790 - mse: 0.0225 - accuracy: 0.9705 - val_loss: 0.0587 - val_mse: 0.0129 - val_accuracy: 0.9838 - lr: 0.0010\n",
      "Epoch 7/50\n",
      "394/394 [==============================] - 2s 5ms/step - loss: 0.0694 - mse: 0.0198 - accuracy: 0.9743 - val_loss: 0.0281 - val_mse: 0.0063 - val_accuracy: 0.9917 - lr: 0.0010\n",
      "Epoch 8/50\n",
      "394/394 [==============================] - 2s 6ms/step - loss: 0.0603 - mse: 0.0164 - accuracy: 0.9796 - val_loss: 0.0537 - val_mse: 0.0125 - val_accuracy: 0.9838 - lr: 0.0010\n",
      "Epoch 9/50\n",
      "394/394 [==============================] - 2s 5ms/step - loss: 0.0494 - mse: 0.0137 - accuracy: 0.9831 - val_loss: 0.0279 - val_mse: 0.0048 - val_accuracy: 0.9933 - lr: 0.0010\n",
      "Epoch 10/50\n",
      "394/394 [==============================] - 2s 5ms/step - loss: 0.0403 - mse: 0.0106 - accuracy: 0.9869 - val_loss: 0.0148 - val_mse: 0.0030 - val_accuracy: 0.9952 - lr: 0.0010\n",
      "Epoch 11/50\n",
      "394/394 [==============================] - 2s 5ms/step - loss: 0.0396 - mse: 0.0107 - accuracy: 0.9870 - val_loss: 0.0159 - val_mse: 0.0031 - val_accuracy: 0.9962 - lr: 0.0010\n",
      "Epoch 12/50\n",
      "394/394 [==============================] - 2s 5ms/step - loss: 0.0318 - mse: 0.0085 - accuracy: 0.9890 - val_loss: 0.0319 - val_mse: 0.0068 - val_accuracy: 0.9914 - lr: 0.0010\n",
      "Epoch 13/50\n",
      "384/394 [============================>.] - ETA: 0s - loss: 0.0336 - mse: 0.0081 - accuracy: 0.9900\n",
      "Epoch 13: ReduceLROnPlateau reducing learning rate to 0.00010000000474974513.\n",
      "394/394 [==============================] - 2s 5ms/step - loss: 0.0332 - mse: 0.0080 - accuracy: 0.9902 - val_loss: 0.0142 - val_mse: 0.0034 - val_accuracy: 0.9959 - lr: 0.0010\n",
      "Epoch 14/50\n",
      "394/394 [==============================] - 2s 5ms/step - loss: 0.0197 - mse: 0.0047 - accuracy: 0.9942 - val_loss: 0.0101 - val_mse: 0.0021 - val_accuracy: 0.9978 - lr: 1.0000e-04\n",
      "Epoch 15/50\n",
      "385/394 [============================>.] - ETA: 0s - loss: 0.0182 - mse: 0.0049 - accuracy: 0.9935Restoring model weights from the end of the best epoch: 10.\n",
      "394/394 [==============================] - 2s 5ms/step - loss: 0.0190 - mse: 0.0052 - accuracy: 0.9932 - val_loss: 0.0094 - val_mse: 0.0020 - val_accuracy: 0.9975 - lr: 1.0000e-04\n",
      "Epoch 15: early stopping\n",
      "114/114 [==============================] - 0s 3ms/step - loss: 0.0492 - mse: 0.0121 - accuracy: 0.9846\n"
     ]
    }
   ]
  },
  {
   "cell_type": "code",
   "source": [
    "print('mse et accuracy:', mse, accuracy)\n",
    "\n",
    "pred_class_9 = model_lenpt.predict(X_test).argmax(axis = 1)\n",
    "rounded_labels_9=np.argmax(y_test, axis=1)\n",
    "print(pd.crosstab(rounded_labels_9, pred_class_9, rownames = [\"reel\"], colnames = [\"predict\"]))\n",
    "print(classification_report_imbalanced(rounded_labels_9, pred_class_9))\n"
   ],
   "metadata": {
    "id": "Dn3RxAcq8nOS",
    "colab": {
     "base_uri": "https://localhost:8080/"
    },
    "outputId": "2125ac95-c81c-4b98-bc70-c9aa0f0eb1da",
    "pycharm": {
     "name": "#%%\n"
    }
   },
   "execution_count": null,
   "outputs": [
    {
     "output_type": "stream",
     "name": "stdout",
     "text": [
      "mse et accuracy: 0.012090055271983147 0.984606921672821\n",
      "114/114 [==============================] - 0s 2ms/step\n",
      "predict    0     1\n",
      "reel              \n",
      "0        986    19\n",
      "1         37  2596\n",
      "                   pre       rec       spe        f1       geo       iba       sup\n",
      "\n",
      "          0       0.96      0.98      0.99      0.97      0.98      0.97      1005\n",
      "          1       0.99      0.99      0.98      0.99      0.98      0.97      2633\n",
      "\n",
      "avg / total       0.98      0.98      0.98      0.98      0.98      0.97      3638\n",
      "\n"
     ]
    }
   ]
  },
  {
   "cell_type": "code",
   "source": [
    "print(history_ptb.history.keys())\n",
    "# summarize history for accuracy\n",
    "plt.plot(history_ptb.history['accuracy'])\n",
    "plt.plot(history_ptb.history['val_accuracy'])\n",
    "plt.title('model accuracy')\n",
    "plt.ylabel('accuracy')\n",
    "plt.xlabel('epoch')\n",
    "plt.legend(['train', 'test'], loc='upper left')\n",
    "plt.show()\n",
    "# summarize history for loss\n",
    "plt.plot(history_ptb.history['loss'])\n",
    "plt.plot(history_ptb.history['val_loss'])\n",
    "plt.title('model loss')\n",
    "plt.ylabel('loss')\n",
    "plt.xlabel('epoch')\n",
    "plt.legend(['train', 'test'], loc='upper left')\n",
    "plt.show()"
   ],
   "metadata": {
    "id": "7L5QPlbU8rIr",
    "colab": {
     "base_uri": "https://localhost:8080/",
     "height": 591
    },
    "outputId": "0a6cf799-1097-4b73-8ef1-2972a8a6c38b",
    "pycharm": {
     "name": "#%%\n"
    }
   },
   "execution_count": null,
   "outputs": [
    {
     "output_type": "stream",
     "name": "stdout",
     "text": [
      "dict_keys(['loss', 'mse', 'accuracy', 'val_loss', 'val_mse', 'val_accuracy', 'lr'])\n"
     ]
    },
    {
     "output_type": "display_data",
     "data": {
      "text/plain": [
       "<Figure size 432x288 with 1 Axes>"
      ],
      "image/png": "[encoded data removed]"
     },
     "metadata": {
      "needs_background": "light"
     }
    },
    {
     "output_type": "display_data",
     "data": {
      "text/plain": [
       "<Figure size 432x288 with 1 Axes>"
      ],
      "image/png": "[encoded data removed]"
     },
     "metadata": {
      "needs_background": "light"
     }
    }
   ]
  },
  {
   "cell_type": "markdown",
   "source": [
    "#Réseau de Neurones Convolutifs"
   ],
   "metadata": {
    "id": "_Cq2XZnizLOr",
    "pycharm": {
     "name": "#%% md\n"
    }
   }
  },
  {
   "cell_type": "markdown",
   "source": [
    "## appliqué au dataset mitibih"
   ],
   "metadata": {
    "id": "nWbcv_L9zSPt",
    "pycharm": {
     "name": "#%% md\n"
    }
   }
  },
  {
   "cell_type": "code",
   "source": [
    "import pandas as pd\n",
    "import numpy as np\n",
    "from scipy.signal import find_peaks\n",
    "from sklearn.metrics import classification_report\n",
    "from imblearn.over_sampling import SMOTE\n",
    "from imblearn.metrics import classification_report_imbalanced, geometric_mean_score"
   ],
   "metadata": {
    "id": "T87Di4KAzc41",
    "pycharm": {
     "name": "#%%\n"
    }
   },
   "execution_count": null,
   "outputs": []
  },
  {
   "cell_type": "code",
   "source": [
    "from google.colab import drive\n",
    "drive.mount('/content/drive')"
   ],
   "metadata": {
    "id": "2L4JY2txCxzi",
    "colab": {
     "base_uri": "https://localhost:8080/"
    },
    "outputId": "1462331c-0556-41da-d116-e93db8ce80e6",
    "pycharm": {
     "name": "#%%\n"
    }
   },
   "execution_count": null,
   "outputs": [
    {
     "output_type": "stream",
     "name": "stdout",
     "text": [
      "Drive already mounted at /content/drive; to attempt to forcibly remount, call drive.mount(\"/content/drive\", force_remount=True).\n"
     ]
    }
   ]
  },
  {
   "cell_type": "code",
   "source": [
    "import matplotlib.pyplot as plt\n",
    "import seaborn as sns\n",
    "\n",
    "df1=pd.read_csv('/content/drive/MyDrive/heart_peak/mitbih_test.csv',header=None)\n",
    "df2=pd.read_csv('/content/drive/MyDrive/heart_peak/mitbih_train.csv',header=None)\n",
    "\n",
    "\n",
    "df=pd.concat([df1,df2],ignore_index=True,sort=False)\n",
    "df.isnull().sum().sum()"
   ],
   "metadata": {
    "id": "fRkJxZDzC2hp",
    "colab": {
     "base_uri": "https://localhost:8080/"
    },
    "outputId": "772e78e7-c712-4140-fd8a-d9bc6a94fb5f",
    "pycharm": {
     "name": "#%%\n"
    }
   },
   "execution_count": null,
   "outputs": [
    {
     "output_type": "execute_result",
     "data": {
      "text/plain": [
       "0"
      ]
     },
     "metadata": {},
     "execution_count": 103
    }
   ]
  },
  {
   "cell_type": "code",
   "source": [
    "X=df.iloc[:,:-1]\n",
    "y=df.iloc[:,-1]\n",
    "from sklearn.model_selection import train_test_split,cross_val_score\n",
    "from sklearn.linear_model import LogisticRegression\n",
    "from sklearn.ensemble import RandomForestClassifier\n",
    "from sklearn.svm import SVC\n",
    "from sklearn.preprocessing import StandardScaler\n",
    "from sklearn.metrics import confusion_matrix\n",
    "from sklearn.metrics import classification_report,accuracy_score,confusion_matrix\n",
    "X_train, X_test, y_train, y_test = train_test_split(X, y, test_size=0.25, random_state=28)"
   ],
   "metadata": {
    "id": "9E6BwvgzC5J7",
    "pycharm": {
     "name": "#%%\n"
    }
   },
   "execution_count": null,
   "outputs": []
  },
  {
   "cell_type": "code",
   "source": [
    "from tensorflow.keras.layers import Input, Dense, Dropout, Flatten, Conv1D, MaxPooling1D, GlobalAveragePooling1D, BatchNormalization, SpatialDropout1D, Reshape\n",
    "from tensorflow.keras.models import Model, Sequential\n",
    "from tensorflow.keras.utils import to_categorical\n",
    "from tensorflow.keras.callbacks import EarlyStopping, ReduceLROnPlateau\n",
    "\n",
    "\n"
   ],
   "metadata": {
    "id": "J3GBWcLsC7Wp",
    "pycharm": {
     "name": "#%%\n"
    }
   },
   "execution_count": null,
   "outputs": []
  },
  {
   "cell_type": "code",
   "source": [
    "X_train, X_test, y_train, y_test = train_test_split(X, y, test_size=0.25, random_state=28)"
   ],
   "metadata": {
    "id": "WtthdvPLC9s5",
    "pycharm": {
     "name": "#%%\n"
    }
   },
   "execution_count": null,
   "outputs": []
  },
  {
   "cell_type": "code",
   "source": [
    "smote = SMOTE()\n",
    "X_sm, y_sm = smote.fit_resample(X_train, y_train)"
   ],
   "metadata": {
    "id": "nO42zKXODAM5",
    "pycharm": {
     "name": "#%%\n"
    }
   },
   "execution_count": null,
   "outputs": []
  },
  {
   "cell_type": "code",
   "source": [
    "scaler = StandardScaler()\n",
    "X_sm =scaler.fit_transform(X_sm)\n",
    "X_test = scaler.transform(X_test)"
   ],
   "metadata": {
    "id": "RAEs7NjqDCJs",
    "pycharm": {
     "name": "#%%\n"
    }
   },
   "execution_count": null,
   "outputs": []
  },
  {
   "cell_type": "code",
   "source": [
    "y_sm = to_categorical(y_sm)"
   ],
   "metadata": {
    "id": "oQccvERGDEYK",
    "pycharm": {
     "name": "#%%\n"
    }
   },
   "execution_count": null,
   "outputs": []
  },
  {
   "cell_type": "code",
   "source": [
    "y_test = to_categorical(y_test)"
   ],
   "metadata": {
    "id": "ttr_dCSMDGjK",
    "pycharm": {
     "name": "#%%\n"
    }
   },
   "execution_count": null,
   "outputs": []
  },
  {
   "cell_type": "code",
   "source": [
    "X_train_cnn = np.reshape(X_sm, (X_sm.shape[0], X_sm.shape[1], 1))\n",
    "X_test_cnn = np.reshape(X_test, (X_test.shape[0], X_test.shape[1], 1))"
   ],
   "metadata": {
    "id": "rIsy1YBuDIsb",
    "pycharm": {
     "name": "#%%\n"
    }
   },
   "execution_count": null,
   "outputs": []
  },
  {
   "cell_type": "code",
   "source": [
    "print(X_train_cnn.shape, y_sm.shape, X_test_cnn.shape, y_test.shape)\n"
   ],
   "metadata": {
    "id": "CVcS5NN4DN-b",
    "colab": {
     "base_uri": "https://localhost:8080/"
    },
    "outputId": "c3d4884a-0e24-4207-e0c8-b71068c84a01",
    "pycharm": {
     "name": "#%%\n"
    }
   },
   "execution_count": null,
   "outputs": [
    {
     "output_type": "stream",
     "name": "stdout",
     "text": [
      "(339360, 187, 1) (339360, 5) (27362, 187, 1) (27362, 5)\n"
     ]
    }
   ]
  },
  {
   "cell_type": "code",
   "source": [
    "early_stopping = EarlyStopping(monitor = 'val_loss',\n",
    "                    min_delta = 0.01,\n",
    "                    patience = 5,\n",
    "                    verbose = 1,\n",
    "                    mode = 'min',\n",
    "                    restore_best_weights = True)\n",
    "\n",
    "reduce_learning_rate = ReduceLROnPlateau(monitor = 'val_loss',\n",
    "                        min_delta = 0.01,\n",
    "                        patience = 3,\n",
    "                        factor = 0.1, \n",
    "                        cooldown = 4,\n",
    "                        verbose = 1)"
   ],
   "metadata": {
    "id": "rzGKPbBUDQPB",
    "pycharm": {
     "name": "#%%\n"
    }
   },
   "execution_count": null,
   "outputs": []
  },
  {
   "cell_type": "code",
   "source": [
    "verbose, epochs, batch_size = 1, 50 , 32\n",
    "n_timesteps, n_features, n_outputs =  X_train_cnn.shape[1],X_train_cnn.shape[2], y_sm.shape[1]\n",
    "model1 = Sequential()\n",
    "model1.add(Conv1D(filters=128, kernel_size=5, activation='relu',input_shape=(n_timesteps,n_features)))\n",
    "model1.add(Conv1D(filters=128, kernel_size=3, activation='relu'))\n",
    "model1.add(BatchNormalization())\n",
    "model1.add(MaxPooling1D(pool_size=2))\n",
    "model1.add(Conv1D(filters=64, kernel_size=5, activation='relu'))\n",
    "model1.add(Conv1D(filters=64, kernel_size=3, activation='relu'))\n",
    "model1.add(BatchNormalization())\n",
    "model1.add(MaxPooling1D(pool_size=2))\n",
    "model1.add(Conv1D(filters=32, kernel_size=5, activation='relu'))\n",
    "model1.add(Conv1D(filters=32, kernel_size=3, activation='relu'))\n",
    "model1.add(BatchNormalization())\n",
    "model1.add(MaxPooling1D(pool_size=2))\n",
    "model1.add(Conv1D(filters=16, kernel_size=5, activation='relu'))\n",
    "model1.add(Conv1D(filters=16, kernel_size=3, activation='relu'))\n",
    "model1.add(BatchNormalization())\n",
    "model1.add(MaxPooling1D(pool_size=2))\n",
    "model1.add(Flatten())\n",
    "model1.add(Dense(125, activation='relu'))\n",
    "model1.add(Dense(n_outputs, activation='softmax'))\n",
    "model1.compile(loss='categorical_crossentropy', optimizer='adam', metrics=['mse', 'accuracy'])\n",
    "history_1 = model1.fit(X_sm, y_sm, epochs=epochs,callbacks=[early_stopping, reduce_learning_rate], batch_size=batch_size,validation_split = 0.2, verbose=verbose)\n",
    "_, mse, accuracy = model1.evaluate(X_test, y_test, batch_size=batch_size, verbose=verbose)"
   ],
   "metadata": {
    "id": "CMpqjl1aDVO5",
    "colab": {
     "base_uri": "https://localhost:8080/"
    },
    "outputId": "62890e8d-167f-4d80-9288-514a9a292f02",
    "pycharm": {
     "name": "#%%\n"
    }
   },
   "execution_count": null,
   "outputs": [
    {
     "output_type": "stream",
     "name": "stdout",
     "text": [
      "Epoch 1/50\n",
      "8484/8484 [==============================] - 76s 9ms/step - loss: 0.1975 - mse: 0.0205 - accuracy: 0.9310 - val_loss: 0.0984 - val_mse: 0.0092 - val_accuracy: 0.9696 - lr: 0.0010\n",
      "Epoch 2/50\n",
      "8484/8484 [==============================] - 69s 8ms/step - loss: 0.0908 - mse: 0.0094 - accuracy: 0.9693 - val_loss: 0.1541 - val_mse: 0.0146 - val_accuracy: 0.9532 - lr: 0.0010\n",
      "Epoch 3/50\n",
      "8484/8484 [==============================] - 71s 8ms/step - loss: 0.0618 - mse: 0.0063 - accuracy: 0.9797 - val_loss: 0.0727 - val_mse: 0.0068 - val_accuracy: 0.9774 - lr: 0.0010\n",
      "Epoch 4/50\n",
      "8484/8484 [==============================] - 69s 8ms/step - loss: 0.0484 - mse: 0.0050 - accuracy: 0.9837 - val_loss: 0.0764 - val_mse: 0.0072 - val_accuracy: 0.9759 - lr: 0.0010\n",
      "Epoch 5/50\n",
      "8484/8484 [==============================] - 69s 8ms/step - loss: 0.0403 - mse: 0.0041 - accuracy: 0.9869 - val_loss: 0.0580 - val_mse: 0.0057 - val_accuracy: 0.9807 - lr: 0.0010\n",
      "Epoch 6/50\n",
      "8484/8484 [==============================] - 66s 8ms/step - loss: 0.0345 - mse: 0.0035 - accuracy: 0.9887 - val_loss: 0.0478 - val_mse: 0.0049 - val_accuracy: 0.9835 - lr: 0.0010\n",
      "Epoch 7/50\n",
      "8484/8484 [==============================] - 69s 8ms/step - loss: 0.0299 - mse: 0.0030 - accuracy: 0.9903 - val_loss: 0.0895 - val_mse: 0.0086 - val_accuracy: 0.9721 - lr: 0.0010\n",
      "Epoch 8/50\n",
      "8484/8484 [==============================] - 69s 8ms/step - loss: 0.0259 - mse: 0.0026 - accuracy: 0.9915 - val_loss: 0.0549 - val_mse: 0.0054 - val_accuracy: 0.9815 - lr: 0.0010\n",
      "Epoch 9/50\n",
      "8483/8484 [============================>.] - ETA: 0s - loss: 0.0240 - mse: 0.0024 - accuracy: 0.9922\n",
      "Epoch 9: ReduceLROnPlateau reducing learning rate to 0.00010000000474974513.\n",
      "8484/8484 [==============================] - 70s 8ms/step - loss: 0.0240 - mse: 0.0024 - accuracy: 0.9922 - val_loss: 0.0455 - val_mse: 0.0043 - val_accuracy: 0.9861 - lr: 0.0010\n",
      "Epoch 10/50\n",
      "8484/8484 [==============================] - 70s 8ms/step - loss: 0.0090 - mse: 8.5238e-04 - accuracy: 0.9973 - val_loss: 0.0250 - val_mse: 0.0023 - val_accuracy: 0.9925 - lr: 1.0000e-04\n",
      "Epoch 11/50\n",
      "8484/8484 [==============================] - 70s 8ms/step - loss: 0.0056 - mse: 5.1882e-04 - accuracy: 0.9984 - val_loss: 0.0216 - val_mse: 0.0019 - val_accuracy: 0.9938 - lr: 1.0000e-04\n",
      "Epoch 12/50\n",
      "8484/8484 [==============================] - 67s 8ms/step - loss: 0.0042 - mse: 3.8495e-04 - accuracy: 0.9988 - val_loss: 0.0254 - val_mse: 0.0023 - val_accuracy: 0.9928 - lr: 1.0000e-04\n",
      "Epoch 13/50\n",
      "8484/8484 [==============================] - 69s 8ms/step - loss: 0.0036 - mse: 3.2064e-04 - accuracy: 0.9990 - val_loss: 0.0230 - val_mse: 0.0020 - val_accuracy: 0.9937 - lr: 1.0000e-04\n",
      "Epoch 14/50\n",
      "8484/8484 [==============================] - 69s 8ms/step - loss: 0.0028 - mse: 2.5582e-04 - accuracy: 0.9992 - val_loss: 0.0204 - val_mse: 0.0017 - val_accuracy: 0.9943 - lr: 1.0000e-04\n",
      "Epoch 15/50\n",
      "8480/8484 [============================>.] - ETA: 0s - loss: 0.0024 - mse: 2.1206e-04 - accuracy: 0.9994Restoring model weights from the end of the best epoch: 10.\n",
      "\n",
      "Epoch 15: ReduceLROnPlateau reducing learning rate to 1.0000000474974514e-05.\n",
      "8484/8484 [==============================] - 69s 8ms/step - loss: 0.0024 - mse: 2.1196e-04 - accuracy: 0.9994 - val_loss: 0.0202 - val_mse: 0.0018 - val_accuracy: 0.9943 - lr: 1.0000e-04\n",
      "Epoch 15: early stopping\n",
      "856/856 [==============================] - 4s 5ms/step - loss: 0.0949 - mse: 0.0063 - accuracy: 0.9817\n"
     ]
    }
   ]
  },
  {
   "cell_type": "code",
   "source": [
    "print('mse et accuracy:', mse, accuracy)\n",
    "\n",
    "pred_class_1 = model1.predict(X_test).argmax(axis = 1)\n",
    "rounded_labels_1=np.argmax(y_test, axis=1)\n",
    "print(pd.crosstab(rounded_labels_1, pred_class_1, rownames = [\"reel\"], colnames = [\"predict\"]))\n",
    "print(classification_report_imbalanced(rounded_labels_1, pred_class_1))"
   ],
   "metadata": {
    "id": "PUz3lb53DWeq",
    "colab": {
     "base_uri": "https://localhost:8080/"
    },
    "outputId": "4d78017c-c804-407f-c44f-a037df3efb50",
    "pycharm": {
     "name": "#%%\n"
    }
   },
   "execution_count": null,
   "outputs": [
    {
     "output_type": "stream",
     "name": "stdout",
     "text": [
      "mse et accuracy: 0.006292362231761217 0.9816899299621582\n",
      "856/856 [==============================] - 3s 3ms/step\n",
      "predict      0    1     2    3     4\n",
      "reel                                \n",
      "0        22489  107    66   32    23\n",
      "1           99  593     9    0     0\n",
      "2           51    7  1681   13     2\n",
      "3           18    0    23  153     0\n",
      "4           41    0    10    0  1945\n",
      "                   pre       rec       spe        f1       geo       iba       sup\n",
      "\n",
      "          0       0.99      0.99      0.96      0.99      0.97      0.95     22717\n",
      "          1       0.84      0.85      1.00      0.84      0.92      0.83       701\n",
      "          2       0.94      0.96      1.00      0.95      0.98      0.95      1754\n",
      "          3       0.77      0.79      1.00      0.78      0.89      0.77       194\n",
      "          4       0.99      0.97      1.00      0.98      0.99      0.97      1996\n",
      "\n",
      "avg / total       0.98      0.98      0.96      0.98      0.97      0.95     27362\n",
      "\n"
     ]
    }
   ]
  },
  {
   "cell_type": "code",
   "source": [
    "print(history_1.history.keys())\n",
    "# summarize history for accuracy\n",
    "plt.plot(history_1.history['accuracy'])\n",
    "plt.plot(history_1.history['val_accuracy'])\n",
    "plt.title('model accuracy')\n",
    "plt.ylabel('accuracy')\n",
    "plt.xlabel('epoch')\n",
    "plt.legend(['train', 'test'], loc='upper left')\n",
    "plt.show()\n",
    "# summarize history for loss\n",
    "plt.plot(history_1.history['loss'])\n",
    "plt.plot(history_1.history['val_loss'])\n",
    "plt.title('model loss')\n",
    "plt.ylabel('loss')\n",
    "plt.xlabel('epoch')\n",
    "plt.legend(['train', 'test'], loc='upper left')\n",
    "plt.show()"
   ],
   "metadata": {
    "id": "iI2-VhFuDbZG",
    "colab": {
     "base_uri": "https://localhost:8080/",
     "height": 591
    },
    "outputId": "0d19da26-e171-45cf-ff79-10295171d5be",
    "pycharm": {
     "name": "#%%\n"
    }
   },
   "execution_count": null,
   "outputs": [
    {
     "output_type": "stream",
     "name": "stdout",
     "text": [
      "dict_keys(['loss', 'mse', 'accuracy', 'val_loss', 'val_mse', 'val_accuracy', 'lr'])\n"
     ]
    },
    {
     "output_type": "display_data",
     "data": {
      "text/plain": [
       "<Figure size 432x288 with 1 Axes>"
      ],
      "image/png": "[encoded data removed]"
     },
     "metadata": {
      "needs_background": "light"
     }
    },
    {
     "output_type": "display_data",
     "data": {
      "text/plain": [
       "<Figure size 432x288 with 1 Axes>"
      ],
      "image/png": "[encoded data removed]"
     },
     "metadata": {
      "needs_background": "light"
     }
    }
   ]
  },
  {
   "cell_type": "code",
   "source": [
    "verbose, epochs, batch_size = 1, 50 , 32\n",
    "n_timesteps, n_features, n_outputs =  X_train_cnn.shape[1],X_train_cnn.shape[2], y_sm.shape[1]\n",
    "model2 = Sequential()\n",
    "model2.add(Conv1D(filters=128, kernel_size=3, activation='relu',input_shape=(n_timesteps,n_features)))\n",
    "model2.add(Conv1D(filters=128, kernel_size=5, activation='relu'))\n",
    "model2.add(BatchNormalization())\n",
    "model2.add(MaxPooling1D(pool_size=2))\n",
    "model2.add(Conv1D(filters=64, kernel_size=3, activation='relu'))\n",
    "model2.add(Conv1D(filters=64, kernel_size=5, activation='relu'))\n",
    "model2.add(BatchNormalization())\n",
    "model2.add(MaxPooling1D(pool_size=2))\n",
    "model2.add(Conv1D(filters=32, kernel_size=3, activation='relu'))\n",
    "model2.add(Conv1D(filters=32, kernel_size=5, activation='relu'))\n",
    "model2.add(BatchNormalization())\n",
    "model2.add(MaxPooling1D(pool_size=2))\n",
    "model2.add(Conv1D(filters=16, kernel_size=3, activation='relu'))\n",
    "model2.add(Conv1D(filters=16, kernel_size=5, activation='relu'))\n",
    "model2.add(BatchNormalization())\n",
    "model2.add(MaxPooling1D(pool_size=2))\n",
    "model2.add(Flatten())\n",
    "model2.add(Dense(125, activation='relu'))\n",
    "model2.add(Dense(n_outputs, activation='softmax'))\n",
    "model2.compile(loss='categorical_crossentropy', optimizer='adam', metrics=['mse', 'accuracy'])\n",
    "history_2 = model2.fit(X_sm, y_sm, epochs=epochs,callbacks=[early_stopping, reduce_learning_rate], batch_size=batch_size,validation_split = 0.2, verbose=verbose)\n",
    "_, mse, accuracy = model2.evaluate(X_test, y_test, batch_size=batch_size, verbose=verbose)"
   ],
   "metadata": {
    "id": "z5UK5fQQDd_h",
    "colab": {
     "base_uri": "https://localhost:8080/"
    },
    "outputId": "bf437c6f-54ab-43d7-f26a-47e8ef945401",
    "pycharm": {
     "name": "#%%\n"
    }
   },
   "execution_count": null,
   "outputs": [
    {
     "output_type": "stream",
     "name": "stdout",
     "text": [
      "Epoch 1/50\n",
      "8484/8484 [==============================] - 75s 9ms/step - loss: 0.1994 - mse: 0.0206 - accuracy: 0.9309 - val_loss: 0.2201 - val_mse: 0.0204 - val_accuracy: 0.9326 - lr: 0.0010\n",
      "Epoch 2/50\n",
      "8484/8484 [==============================] - 71s 8ms/step - loss: 0.0874 - mse: 0.0091 - accuracy: 0.9701 - val_loss: 0.1602 - val_mse: 0.0147 - val_accuracy: 0.9512 - lr: 0.0010\n",
      "Epoch 3/50\n",
      "8484/8484 [==============================] - 70s 8ms/step - loss: 0.0594 - mse: 0.0061 - accuracy: 0.9799 - val_loss: 0.1008 - val_mse: 0.0097 - val_accuracy: 0.9681 - lr: 0.0010\n",
      "Epoch 4/50\n",
      "8484/8484 [==============================] - 67s 8ms/step - loss: 0.0456 - mse: 0.0047 - accuracy: 0.9850 - val_loss: 0.0787 - val_mse: 0.0078 - val_accuracy: 0.9738 - lr: 0.0010\n",
      "Epoch 5/50\n",
      "8484/8484 [==============================] - 69s 8ms/step - loss: 0.0381 - mse: 0.0038 - accuracy: 0.9876 - val_loss: 0.0892 - val_mse: 0.0081 - val_accuracy: 0.9736 - lr: 0.0010\n",
      "Epoch 6/50\n",
      "8484/8484 [==============================] - 65s 8ms/step - loss: 0.0311 - mse: 0.0032 - accuracy: 0.9896 - val_loss: 0.0486 - val_mse: 0.0046 - val_accuracy: 0.9848 - lr: 0.0010\n",
      "Epoch 7/50\n",
      "8484/8484 [==============================] - 70s 8ms/step - loss: 0.0275 - mse: 0.0028 - accuracy: 0.9910 - val_loss: 0.0499 - val_mse: 0.0044 - val_accuracy: 0.9856 - lr: 0.0010\n",
      "Epoch 8/50\n",
      "8484/8484 [==============================] - 66s 8ms/step - loss: 0.0239 - mse: 0.0024 - accuracy: 0.9922 - val_loss: 0.0405 - val_mse: 0.0041 - val_accuracy: 0.9866 - lr: 0.0010\n",
      "Epoch 9/50\n",
      "8484/8484 [==============================] - 69s 8ms/step - loss: 0.0215 - mse: 0.0021 - accuracy: 0.9933 - val_loss: 0.0378 - val_mse: 0.0037 - val_accuracy: 0.9876 - lr: 0.0010\n",
      "Epoch 10/50\n",
      "8484/8484 [==============================] - 65s 8ms/step - loss: 0.0191 - mse: 0.0019 - accuracy: 0.9937 - val_loss: 0.0296 - val_mse: 0.0028 - val_accuracy: 0.9907 - lr: 0.0010\n",
      "Epoch 11/50\n",
      "8484/8484 [==============================] - 66s 8ms/step - loss: 0.0175 - mse: 0.0018 - accuracy: 0.9944 - val_loss: 0.0229 - val_mse: 0.0022 - val_accuracy: 0.9928 - lr: 0.0010\n",
      "Epoch 12/50\n",
      "8484/8484 [==============================] - 65s 8ms/step - loss: 0.0161 - mse: 0.0016 - accuracy: 0.9947 - val_loss: 0.0262 - val_mse: 0.0024 - val_accuracy: 0.9923 - lr: 0.0010\n",
      "Epoch 13/50\n",
      "8484/8484 [==============================] - 70s 8ms/step - loss: 0.0149 - mse: 0.0015 - accuracy: 0.9953 - val_loss: 0.0288 - val_mse: 0.0024 - val_accuracy: 0.9923 - lr: 0.0010\n",
      "Epoch 14/50\n",
      "8482/8484 [============================>.] - ETA: 0s - loss: 0.0137 - mse: 0.0014 - accuracy: 0.9955\n",
      "Epoch 14: ReduceLROnPlateau reducing learning rate to 0.00010000000474974513.\n",
      "8484/8484 [==============================] - 70s 8ms/step - loss: 0.0137 - mse: 0.0014 - accuracy: 0.9955 - val_loss: 0.0568 - val_mse: 0.0057 - val_accuracy: 0.9812 - lr: 0.0010\n",
      "Epoch 15/50\n",
      "8484/8484 [==============================] - 70s 8ms/step - loss: 0.0043 - mse: 4.0892e-04 - accuracy: 0.9987 - val_loss: 0.0178 - val_mse: 0.0016 - val_accuracy: 0.9950 - lr: 1.0000e-04\n",
      "Epoch 16/50\n",
      "8483/8484 [============================>.] - ETA: 0s - loss: 0.0023 - mse: 2.0208e-04 - accuracy: 0.9994Restoring model weights from the end of the best epoch: 11.\n",
      "8484/8484 [==============================] - 66s 8ms/step - loss: 0.0023 - mse: 2.0206e-04 - accuracy: 0.9994 - val_loss: 0.0136 - val_mse: 0.0012 - val_accuracy: 0.9963 - lr: 1.0000e-04\n",
      "Epoch 16: early stopping\n",
      "856/856 [==============================] - 5s 5ms/step - loss: 0.0985 - mse: 0.0065 - accuracy: 0.9803\n"
     ]
    }
   ]
  },
  {
   "cell_type": "code",
   "source": [
    "print('mse et accuracy:', mse, accuracy)\n",
    "\n",
    "pred_class_2 = model2.predict(X_test).argmax(axis = 1)\n",
    "rounded_labels_2=np.argmax(y_test, axis=1)\n",
    "print(pd.crosstab(rounded_labels_2, pred_class_2, rownames = [\"reel\"], colnames = [\"predict\"]))\n",
    "print(classification_report_imbalanced(rounded_labels_2, pred_class_2))"
   ],
   "metadata": {
    "id": "B7nF71jzDhdT",
    "colab": {
     "base_uri": "https://localhost:8080/"
    },
    "outputId": "947664f7-d5c4-4ee3-95a8-f9efecbe48a1",
    "pycharm": {
     "name": "#%%\n"
    }
   },
   "execution_count": null,
   "outputs": [
    {
     "output_type": "stream",
     "name": "stdout",
     "text": [
      "mse et accuracy: 0.006465073209255934 0.9803011417388916\n",
      "856/856 [==============================] - 4s 5ms/step\n",
      "predict      0    1     2    3     4\n",
      "reel                                \n",
      "0        22422  176    55   33    31\n",
      "1           79  613     7    2     0\n",
      "2           54   14  1667   14     5\n",
      "3           17    1    19  157     0\n",
      "4           22    1     8    1  1964\n",
      "                   pre       rec       spe        f1       geo       iba       sup\n",
      "\n",
      "          0       0.99      0.99      0.96      0.99      0.97      0.95     22717\n",
      "          1       0.76      0.87      0.99      0.81      0.93      0.86       701\n",
      "          2       0.95      0.95      1.00      0.95      0.97      0.94      1754\n",
      "          3       0.76      0.81      1.00      0.78      0.90      0.79       194\n",
      "          4       0.98      0.98      1.00      0.98      0.99      0.98      1996\n",
      "\n",
      "avg / total       0.98      0.98      0.97      0.98      0.97      0.95     27362\n",
      "\n"
     ]
    }
   ]
  },
  {
   "cell_type": "code",
   "source": [
    "print(history_2.history.keys())\n",
    "# summarize history for accuracy\n",
    "plt.plot(history_2.history['accuracy'])\n",
    "plt.plot(history_2.history['val_accuracy'])\n",
    "plt.title('model accuracy')\n",
    "plt.ylabel('accuracy')\n",
    "plt.xlabel('epoch')\n",
    "plt.legend(['train', 'test'], loc='upper left')\n",
    "plt.show()\n",
    "# summarize history for loss\n",
    "plt.plot(history_2.history['loss'])\n",
    "plt.plot(history_2.history['val_loss'])\n",
    "plt.title('model loss')\n",
    "plt.ylabel('loss')\n",
    "plt.xlabel('epoch')\n",
    "plt.legend(['train', 'test'], loc='upper left')\n",
    "plt.show()"
   ],
   "metadata": {
    "id": "F4S9K8f1Dk6J",
    "colab": {
     "base_uri": "https://localhost:8080/",
     "height": 591
    },
    "outputId": "ccb2f9cd-bfb5-4d40-80a5-fb4280ccdb75",
    "pycharm": {
     "name": "#%%\n"
    }
   },
   "execution_count": null,
   "outputs": [
    {
     "output_type": "stream",
     "name": "stdout",
     "text": [
      "dict_keys(['loss', 'mse', 'accuracy', 'val_loss', 'val_mse', 'val_accuracy', 'lr'])\n"
     ]
    },
    {
     "output_type": "display_data",
     "data": {
      "text/plain": [
       "<Figure size 432x288 with 1 Axes>"
      ],
      "image/png": "[encoded data removed]"
     },
     "metadata": {
      "needs_background": "light"
     }
    },
    {
     "output_type": "display_data",
     "data": {
      "text/plain": [
       "<Figure size 432x288 with 1 Axes>"
      ],
      "image/png": "[encoded data removed]"
     },
     "metadata": {
      "needs_background": "light"
     }
    }
   ]
  },
  {
   "cell_type": "code",
   "source": [
    "verbose, epochs, batch_size = 1, 50 , 32\n",
    "n_timesteps, n_features, n_outputs =  X_train_cnn.shape[1],X_train_cnn.shape[2], y_sm.shape[1]\n",
    "model3 = Sequential()\n",
    "model3.add(Conv1D(filters=64, kernel_size=5, activation='relu',input_shape=(n_timesteps,n_features)))\n",
    "model3.add(Conv1D(filters=64, kernel_size=3, activation='relu'))\n",
    "model3.add(BatchNormalization())\n",
    "model3.add(MaxPooling1D(pool_size=2))\n",
    "model3.add(Conv1D(filters=32, kernel_size=5, activation='relu'))\n",
    "model3.add(Conv1D(filters=32, kernel_size=3, activation='relu'))\n",
    "model3.add(BatchNormalization())\n",
    "model3.add(MaxPooling1D(pool_size=2))\n",
    "model3.add(Conv1D(filters=16, kernel_size=5, activation='relu'))\n",
    "model3.add(Conv1D(filters=16, kernel_size=3, activation='relu'))\n",
    "model3.add(BatchNormalization())\n",
    "model3.add(MaxPooling1D(pool_size=2))\n",
    "model3.add(Flatten())\n",
    "model3.add(Dense(125, activation='relu'))\n",
    "model3.add(Dense(n_outputs, activation='softmax'))\n",
    "model3.compile(loss='categorical_crossentropy', optimizer='adam', metrics=['mse', 'accuracy'])\n",
    "history_3 = model3.fit(X_sm, y_sm, epochs=epochs,callbacks=[early_stopping, reduce_learning_rate], batch_size=batch_size,validation_split = 0.2, verbose=verbose)\n",
    "_, mse, accuracy = model3.evaluate(X_test, y_test, batch_size=batch_size, verbose=verbose)"
   ],
   "metadata": {
    "id": "Q5xYAHmnDnrC",
    "colab": {
     "base_uri": "https://localhost:8080/"
    },
    "outputId": "64687308-57a0-4734-9f5f-bff1b2aa3008",
    "pycharm": {
     "name": "#%%\n"
    }
   },
   "execution_count": null,
   "outputs": [
    {
     "output_type": "stream",
     "name": "stdout",
     "text": [
      "Epoch 1/50\n",
      "8484/8484 [==============================] - 60s 7ms/step - loss: 0.1453 - mse: 0.0150 - accuracy: 0.9502 - val_loss: 0.0908 - val_mse: 0.0087 - val_accuracy: 0.9705 - lr: 0.0010\n",
      "Epoch 2/50\n",
      "8484/8484 [==============================] - 56s 7ms/step - loss: 0.0570 - mse: 0.0058 - accuracy: 0.9811 - val_loss: 0.1203 - val_mse: 0.0113 - val_accuracy: 0.9634 - lr: 0.0010\n",
      "Epoch 3/50\n",
      "8484/8484 [==============================] - 56s 7ms/step - loss: 0.0392 - mse: 0.0040 - accuracy: 0.9869 - val_loss: 0.0289 - val_mse: 0.0025 - val_accuracy: 0.9921 - lr: 0.0010\n",
      "Epoch 4/50\n",
      "8484/8484 [==============================] - 51s 6ms/step - loss: 0.0300 - mse: 0.0031 - accuracy: 0.9902 - val_loss: 0.0686 - val_mse: 0.0064 - val_accuracy: 0.9802 - lr: 0.0010\n",
      "Epoch 5/50\n",
      "8484/8484 [==============================] - 51s 6ms/step - loss: 0.0248 - mse: 0.0025 - accuracy: 0.9919 - val_loss: 0.0444 - val_mse: 0.0043 - val_accuracy: 0.9860 - lr: 0.0010\n",
      "Epoch 6/50\n",
      "8476/8484 [============================>.] - ETA: 0s - loss: 0.0205 - mse: 0.0021 - accuracy: 0.9934\n",
      "Epoch 6: ReduceLROnPlateau reducing learning rate to 0.00010000000474974513.\n",
      "8484/8484 [==============================] - 52s 6ms/step - loss: 0.0205 - mse: 0.0021 - accuracy: 0.9934 - val_loss: 0.0191 - val_mse: 0.0015 - val_accuracy: 0.9952 - lr: 0.0010\n",
      "Epoch 7/50\n",
      "8484/8484 [==============================] - 52s 6ms/step - loss: 0.0067 - mse: 6.0593e-04 - accuracy: 0.9982 - val_loss: 0.0136 - val_mse: 0.0013 - val_accuracy: 0.9956 - lr: 1.0000e-04\n",
      "Epoch 8/50\n",
      "8484/8484 [==============================] - 52s 6ms/step - loss: 0.0038 - mse: 3.2579e-04 - accuracy: 0.9990 - val_loss: 0.0111 - val_mse: 0.0011 - val_accuracy: 0.9966 - lr: 1.0000e-04\n",
      "Epoch 9/50\n",
      "8484/8484 [==============================] - 51s 6ms/step - loss: 0.0027 - mse: 2.3135e-04 - accuracy: 0.9993 - val_loss: 0.0112 - val_mse: 0.0010 - val_accuracy: 0.9966 - lr: 1.0000e-04\n",
      "Epoch 10/50\n",
      "8484/8484 [==============================] - 57s 7ms/step - loss: 0.0022 - mse: 1.8043e-04 - accuracy: 0.9995 - val_loss: 0.0089 - val_mse: 7.8885e-04 - val_accuracy: 0.9975 - lr: 1.0000e-04\n",
      "Epoch 11/50\n",
      "8484/8484 [==============================] - 51s 6ms/step - loss: 0.0018 - mse: 1.4339e-04 - accuracy: 0.9996 - val_loss: 0.0089 - val_mse: 8.4089e-04 - val_accuracy: 0.9972 - lr: 1.0000e-04\n",
      "Epoch 12/50\n",
      "8477/8484 [============================>.] - ETA: 0s - loss: 0.0015 - mse: 1.1318e-04 - accuracy: 0.9997Restoring model weights from the end of the best epoch: 7.\n",
      "\n",
      "Epoch 12: ReduceLROnPlateau reducing learning rate to 1.0000000474974514e-05.\n",
      "8484/8484 [==============================] - 51s 6ms/step - loss: 0.0015 - mse: 1.1313e-04 - accuracy: 0.9997 - val_loss: 0.0088 - val_mse: 7.8907e-04 - val_accuracy: 0.9974 - lr: 1.0000e-04\n",
      "Epoch 12: early stopping\n",
      "856/856 [==============================] - 4s 4ms/step - loss: 0.0912 - mse: 0.0055 - accuracy: 0.9839\n"
     ]
    }
   ]
  },
  {
   "cell_type": "code",
   "source": [
    "print('mse et accuracy:', mse, accuracy)\n",
    "\n",
    "pred_class_3 = model3.predict(X_test).argmax(axis = 1)\n",
    "rounded_labels_3=np.argmax(y_test, axis=1)\n",
    "print(pd.crosstab(rounded_labels_3, pred_class_3, rownames = [\"reel\"], colnames = [\"predict\"]))\n",
    "print(classification_report_imbalanced(rounded_labels_3, pred_class_3))"
   ],
   "metadata": {
    "id": "XxKRKuHyDqR5",
    "colab": {
     "base_uri": "https://localhost:8080/"
    },
    "outputId": "5be83eb8-7738-4a38-d019-b661a1cb5ea4",
    "pycharm": {
     "name": "#%%\n"
    }
   },
   "execution_count": null,
   "outputs": [
    {
     "output_type": "stream",
     "name": "stdout",
     "text": [
      "mse et accuracy: 0.005467505194246769 0.9838827848434448\n",
      "856/856 [==============================] - 2s 2ms/step\n",
      "predict      0    1     2    3     4\n",
      "reel                                \n",
      "0        22548   88    42   27    12\n",
      "1          105  584    12    0     0\n",
      "2           53    6  1679   13     3\n",
      "3           18    1    23  152     0\n",
      "4           32    2     4    0  1958\n",
      "                   pre       rec       spe        f1       geo       iba       sup\n",
      "\n",
      "          0       0.99      0.99      0.96      0.99      0.97      0.95     22717\n",
      "          1       0.86      0.83      1.00      0.85      0.91      0.82       701\n",
      "          2       0.95      0.96      1.00      0.96      0.98      0.95      1754\n",
      "          3       0.79      0.78      1.00      0.79      0.88      0.77       194\n",
      "          4       0.99      0.98      1.00      0.99      0.99      0.98      1996\n",
      "\n",
      "avg / total       0.98      0.98      0.96      0.98      0.97      0.95     27362\n",
      "\n"
     ]
    }
   ]
  },
  {
   "cell_type": "code",
   "source": [
    "print(history_3.history.keys())\n",
    "# summarize history for accuracy\n",
    "plt.plot(history_3.history['accuracy'])\n",
    "plt.plot(history_3.history['val_accuracy'])\n",
    "plt.title('model accuracy')\n",
    "plt.ylabel('accuracy')\n",
    "plt.xlabel('epoch')\n",
    "plt.legend(['train', 'test'], loc='upper left')\n",
    "plt.show()\n",
    "# summarize history for loss\n",
    "plt.plot(history_3.history['loss'])\n",
    "plt.plot(history_3.history['val_loss'])\n",
    "plt.title('model loss')\n",
    "plt.ylabel('loss')\n",
    "plt.xlabel('epoch')\n",
    "plt.legend(['train', 'test'], loc='upper left')\n",
    "plt.show()\n",
    "# summarize history for loss\n",
    "plt.plot(history_3.history['mse'])\n",
    "plt.plot(history_3.history['val_mse'])\n",
    "plt.title('model mse')\n",
    "plt.ylabel('loss mse')\n",
    "plt.xlabel('epoch')\n",
    "plt.legend(['train', 'test'], loc='upper left')\n",
    "plt.show()"
   ],
   "metadata": {
    "id": "KcSFBn0UDszp",
    "colab": {
     "base_uri": "https://localhost:8080/",
     "height": 869
    },
    "outputId": "fac44026-64b9-4d9a-bbbc-35a4bc63c5a3",
    "pycharm": {
     "name": "#%%\n"
    }
   },
   "execution_count": null,
   "outputs": [
    {
     "output_type": "stream",
     "name": "stdout",
     "text": [
      "dict_keys(['loss', 'mse', 'accuracy', 'val_loss', 'val_mse', 'val_accuracy', 'lr'])\n"
     ]
    },
    {
     "output_type": "display_data",
     "data": {
      "text/plain": [
       "<Figure size 432x288 with 1 Axes>"
      ],
      "image/png": "[encoded data removed]"
     },
     "metadata": {
      "needs_background": "light"
     }
    },
    {
     "output_type": "display_data",
     "data": {
      "text/plain": [
       "<Figure size 432x288 with 1 Axes>"
      ],
      "image/png": "[encoded data removed]"
     },
     "metadata": {
      "needs_background": "light"
     }
    },
    {
     "output_type": "display_data",
     "data": {
      "text/plain": [
       "<Figure size 432x288 with 1 Axes>"
      ],
      "image/png": "[encoded data removed]"
     },
     "metadata": {
      "needs_background": "light"
     }
    }
   ]
  },
  {
   "cell_type": "code",
   "source": [
    "early_stopping = EarlyStopping(monitor = 'val_loss',\n",
    "                    min_delta = 0.01,\n",
    "                    patience = 20,\n",
    "                    verbose = 1,\n",
    "                    mode = 'min',\n",
    "                    restore_best_weights = True)\n",
    "\n",
    "reduce_learning_rate = ReduceLROnPlateau(monitor = 'val_loss',\n",
    "                        min_delta = 0.01,\n",
    "                        patience = 3,\n",
    "                        factor = 0.1, \n",
    "                        cooldown = 4,\n",
    "                        verbose = 1)"
   ],
   "metadata": {
    "id": "qBr01EXHDvrM",
    "pycharm": {
     "name": "#%%\n"
    }
   },
   "execution_count": null,
   "outputs": []
  },
  {
   "cell_type": "code",
   "source": [
    "verbose, epochs, batch_size = 1, 50 , 32\n",
    "n_timesteps, n_features, n_outputs =  X_train_cnn.shape[1],X_train_cnn.shape[2], y_sm.shape[1]\n",
    "model4 = Sequential()\n",
    "model4.add(Conv1D(filters=64, kernel_size=5, activation='relu',input_shape=(n_timesteps,n_features)))\n",
    "model4.add(Conv1D(filters=64, kernel_size=3, activation='relu'))\n",
    "model4.add(BatchNormalization())\n",
    "model4.add(MaxPooling1D(pool_size=2))\n",
    "model4.add(Conv1D(filters=32, kernel_size=5, activation='relu'))\n",
    "model4.add(Conv1D(filters=32, kernel_size=3, activation='relu'))\n",
    "model4.add(BatchNormalization())\n",
    "model4.add(MaxPooling1D(pool_size=2))\n",
    "model4.add(Conv1D(filters=16, kernel_size=5, activation='relu'))\n",
    "model4.add(Conv1D(filters=16, kernel_size=3, activation='relu'))\n",
    "model4.add(BatchNormalization())\n",
    "model4.add(MaxPooling1D(pool_size=2))\n",
    "model4.add(Flatten())\n",
    "model4.add(Dense(125, activation='relu'))\n",
    "model4.add(Dense(n_outputs, activation='softmax'))\n",
    "model4.compile(loss='categorical_crossentropy', optimizer='adam', metrics=['mae','mse','accuracy'])\n",
    "history_4 = model4.fit(X_sm, y_sm, epochs=epochs,callbacks=[early_stopping, reduce_learning_rate], batch_size=batch_size,validation_split = 0.2, verbose=verbose)\n"
   ],
   "metadata": {
    "id": "gg5A2q56Dxqa",
    "colab": {
     "base_uri": "https://localhost:8080/"
    },
    "outputId": "9cde6f9e-b815-41d4-e4bc-c27e2e136012",
    "pycharm": {
     "name": "#%%\n"
    }
   },
   "execution_count": null,
   "outputs": [
    {
     "output_type": "stream",
     "name": "stdout",
     "text": [
      "Epoch 1/50\n",
      "8484/8484 [==============================] - 55s 6ms/step - loss: 0.1443 - mae: 0.0305 - mse: 0.0149 - accuracy: 0.9499 - val_loss: 0.1665 - val_mae: 0.0247 - val_mse: 0.0159 - val_accuracy: 0.9457 - lr: 0.0010\n",
      "Epoch 2/50\n",
      "8484/8484 [==============================] - 52s 6ms/step - loss: 0.0552 - mae: 0.0114 - mse: 0.0057 - accuracy: 0.9814 - val_loss: 0.1211 - val_mae: 0.0181 - val_mse: 0.0118 - val_accuracy: 0.9607 - lr: 0.0010\n",
      "Epoch 3/50\n",
      "8484/8484 [==============================] - 52s 6ms/step - loss: 0.0388 - mae: 0.0078 - mse: 0.0039 - accuracy: 0.9873 - val_loss: 0.0585 - val_mae: 0.0096 - val_mse: 0.0059 - val_accuracy: 0.9807 - lr: 0.0010\n",
      "Epoch 4/50\n",
      "8484/8484 [==============================] - 52s 6ms/step - loss: 0.0304 - mae: 0.0060 - mse: 0.0031 - accuracy: 0.9902 - val_loss: 0.0581 - val_mae: 0.0084 - val_mse: 0.0054 - val_accuracy: 0.9828 - lr: 0.0010\n",
      "Epoch 5/50\n",
      "8484/8484 [==============================] - 57s 7ms/step - loss: 0.0242 - mae: 0.0048 - mse: 0.0025 - accuracy: 0.9923 - val_loss: 0.0453 - val_mae: 0.0070 - val_mse: 0.0043 - val_accuracy: 0.9862 - lr: 0.0010\n",
      "Epoch 6/50\n",
      "8484/8484 [==============================] - 59s 7ms/step - loss: 0.0211 - mae: 0.0041 - mse: 0.0021 - accuracy: 0.9930 - val_loss: 0.0237 - val_mae: 0.0036 - val_mse: 0.0022 - val_accuracy: 0.9930 - lr: 0.0010\n",
      "Epoch 7/50\n",
      "8484/8484 [==============================] - 57s 7ms/step - loss: 0.0180 - mae: 0.0035 - mse: 0.0018 - accuracy: 0.9942 - val_loss: 0.0350 - val_mae: 0.0050 - val_mse: 0.0031 - val_accuracy: 0.9898 - lr: 0.0010\n",
      "Epoch 8/50\n",
      "8484/8484 [==============================] - 52s 6ms/step - loss: 0.0155 - mae: 0.0030 - mse: 0.0016 - accuracy: 0.9950 - val_loss: 0.0228 - val_mae: 0.0032 - val_mse: 0.0021 - val_accuracy: 0.9935 - lr: 0.0010\n",
      "Epoch 9/50\n",
      "8483/8484 [============================>.] - ETA: 0s - loss: 0.0141 - mae: 0.0027 - mse: 0.0014 - accuracy: 0.9955\n",
      "Epoch 9: ReduceLROnPlateau reducing learning rate to 0.00010000000474974513.\n",
      "8484/8484 [==============================] - 57s 7ms/step - loss: 0.0141 - mae: 0.0027 - mse: 0.0014 - accuracy: 0.9955 - val_loss: 0.0194 - val_mae: 0.0027 - val_mse: 0.0018 - val_accuracy: 0.9946 - lr: 0.0010\n",
      "Epoch 10/50\n",
      "8484/8484 [==============================] - 58s 7ms/step - loss: 0.0042 - mae: 9.2987e-04 - mse: 3.8309e-04 - accuracy: 0.9988 - val_loss: 0.0135 - val_mae: 0.0019 - val_mse: 0.0013 - val_accuracy: 0.9959 - lr: 1.0000e-04\n",
      "Epoch 11/50\n",
      "8484/8484 [==============================] - 52s 6ms/step - loss: 0.0022 - mae: 5.4246e-04 - mse: 1.8174e-04 - accuracy: 0.9995 - val_loss: 0.0117 - val_mae: 0.0016 - val_mse: 0.0011 - val_accuracy: 0.9966 - lr: 1.0000e-04\n",
      "Epoch 12/50\n",
      "8484/8484 [==============================] - 51s 6ms/step - loss: 0.0017 - mae: 4.1369e-04 - mse: 1.4171e-04 - accuracy: 0.9996 - val_loss: 0.0115 - val_mae: 0.0015 - val_mse: 0.0010 - val_accuracy: 0.9968 - lr: 1.0000e-04\n",
      "Epoch 13/50\n",
      "8484/8484 [==============================] - 57s 7ms/step - loss: 0.0012 - mae: 3.1796e-04 - mse: 9.5464e-05 - accuracy: 0.9997 - val_loss: 0.0104 - val_mae: 0.0013 - val_mse: 9.0996e-04 - val_accuracy: 0.9972 - lr: 1.0000e-04\n",
      "Epoch 14/50\n",
      "8484/8484 [==============================] - 53s 6ms/step - loss: 9.2217e-04 - mae: 2.5598e-04 - mse: 7.0715e-05 - accuracy: 0.9998 - val_loss: 0.0119 - val_mae: 0.0014 - val_mse: 9.8302e-04 - val_accuracy: 0.9970 - lr: 1.0000e-04\n",
      "Epoch 15/50\n",
      "8483/8484 [============================>.] - ETA: 0s - loss: 7.9252e-04 - mae: 2.1481e-04 - mse: 6.0453e-05 - accuracy: 0.9998\n",
      "Epoch 15: ReduceLROnPlateau reducing learning rate to 1.0000000474974514e-05.\n",
      "8484/8484 [==============================] - 58s 7ms/step - loss: 7.9244e-04 - mae: 2.1479e-04 - mse: 6.0446e-05 - accuracy: 0.9998 - val_loss: 0.0121 - val_mae: 0.0014 - val_mse: 9.7212e-04 - val_accuracy: 0.9971 - lr: 1.0000e-04\n",
      "Epoch 16/50\n",
      "8484/8484 [==============================] - 57s 7ms/step - loss: 4.9866e-04 - mae: 1.5021e-04 - mse: 3.4183e-05 - accuracy: 0.9999 - val_loss: 0.0113 - val_mae: 0.0013 - val_mse: 9.1219e-04 - val_accuracy: 0.9973 - lr: 1.0000e-05\n",
      "Epoch 17/50\n",
      "8484/8484 [==============================] - 59s 7ms/step - loss: 4.3042e-04 - mae: 1.2973e-04 - mse: 2.6254e-05 - accuracy: 0.9999 - val_loss: 0.0115 - val_mae: 0.0013 - val_mse: 9.2129e-04 - val_accuracy: 0.9973 - lr: 1.0000e-05\n",
      "Epoch 18/50\n",
      "8484/8484 [==============================] - 58s 7ms/step - loss: 4.0818e-04 - mae: 1.2323e-04 - mse: 2.7188e-05 - accuracy: 0.9999 - val_loss: 0.0116 - val_mae: 0.0013 - val_mse: 9.3281e-04 - val_accuracy: 0.9972 - lr: 1.0000e-05\n",
      "Epoch 19/50\n",
      "8484/8484 [==============================] - 57s 7ms/step - loss: 4.1419e-04 - mae: 1.2008e-04 - mse: 2.8165e-05 - accuracy: 0.9999 - val_loss: 0.0111 - val_mae: 0.0012 - val_mse: 9.0193e-04 - val_accuracy: 0.9973 - lr: 1.0000e-05\n",
      "Epoch 20/50\n",
      "8484/8484 [==============================] - 52s 6ms/step - loss: 3.8470e-04 - mae: 1.1478e-04 - mse: 2.2991e-05 - accuracy: 0.9999 - val_loss: 0.0111 - val_mae: 0.0012 - val_mse: 9.0237e-04 - val_accuracy: 0.9972 - lr: 1.0000e-05\n",
      "Epoch 21/50\n",
      "8480/8484 [============================>.] - ETA: 0s - loss: 3.4292e-04 - mae: 1.0317e-04 - mse: 2.1243e-05 - accuracy: 0.9999\n",
      "Epoch 21: ReduceLROnPlateau reducing learning rate to 1.0000000656873453e-06.\n",
      "8484/8484 [==============================] - 57s 7ms/step - loss: 3.4278e-04 - mae: 1.0313e-04 - mse: 2.1232e-05 - accuracy: 0.9999 - val_loss: 0.0115 - val_mae: 0.0013 - val_mse: 9.3772e-04 - val_accuracy: 0.9972 - lr: 1.0000e-05\n",
      "Epoch 22/50\n",
      "8484/8484 [==============================] - 53s 6ms/step - loss: 3.1095e-04 - mae: 9.7232e-05 - mse: 1.7043e-05 - accuracy: 1.0000 - val_loss: 0.0116 - val_mae: 0.0013 - val_mse: 9.3862e-04 - val_accuracy: 0.9972 - lr: 1.0000e-06\n",
      "Epoch 23/50\n",
      "8484/8484 [==============================] - 57s 7ms/step - loss: 3.1518e-04 - mae: 1.0060e-04 - mse: 1.8894e-05 - accuracy: 1.0000 - val_loss: 0.0116 - val_mae: 0.0013 - val_mse: 9.4124e-04 - val_accuracy: 0.9972 - lr: 1.0000e-06\n",
      "Epoch 24/50\n",
      "8484/8484 [==============================] - 52s 6ms/step - loss: 3.0084e-04 - mae: 9.2205e-05 - mse: 1.6299e-05 - accuracy: 1.0000 - val_loss: 0.0116 - val_mae: 0.0013 - val_mse: 9.4067e-04 - val_accuracy: 0.9972 - lr: 1.0000e-06\n",
      "Epoch 25/50\n",
      "8484/8484 [==============================] - 57s 7ms/step - loss: 3.1876e-04 - mae: 9.6389e-05 - mse: 1.9017e-05 - accuracy: 1.0000 - val_loss: 0.0117 - val_mae: 0.0013 - val_mse: 9.4582e-04 - val_accuracy: 0.9972 - lr: 1.0000e-06\n",
      "Epoch 26/50\n",
      "8484/8484 [==============================] - 58s 7ms/step - loss: 3.1044e-04 - mae: 9.4917e-05 - mse: 1.7716e-05 - accuracy: 1.0000 - val_loss: 0.0116 - val_mae: 0.0013 - val_mse: 9.3500e-04 - val_accuracy: 0.9972 - lr: 1.0000e-06\n",
      "Epoch 27/50\n",
      "8483/8484 [============================>.] - ETA: 0s - loss: 2.8266e-04 - mae: 9.1093e-05 - mse: 1.3727e-05 - accuracy: 1.0000\n",
      "Epoch 27: ReduceLROnPlateau reducing learning rate to 1.0000001111620805e-07.\n",
      "8484/8484 [==============================] - 57s 7ms/step - loss: 2.8264e-04 - mae: 9.1088e-05 - mse: 1.3726e-05 - accuracy: 1.0000 - val_loss: 0.0117 - val_mae: 0.0013 - val_mse: 9.4023e-04 - val_accuracy: 0.9972 - lr: 1.0000e-06\n",
      "Epoch 28/50\n",
      "8484/8484 [==============================] - 52s 6ms/step - loss: 3.1043e-04 - mae: 8.9772e-05 - mse: 1.7236e-05 - accuracy: 1.0000 - val_loss: 0.0115 - val_mae: 0.0013 - val_mse: 9.2886e-04 - val_accuracy: 0.9972 - lr: 1.0000e-07\n",
      "Epoch 29/50\n",
      "8484/8484 [==============================] - 57s 7ms/step - loss: 3.2411e-04 - mae: 9.3707e-05 - mse: 1.9903e-05 - accuracy: 1.0000 - val_loss: 0.0116 - val_mae: 0.0013 - val_mse: 9.3807e-04 - val_accuracy: 0.9972 - lr: 1.0000e-07\n",
      "Epoch 30/50\n",
      "8478/8484 [============================>.] - ETA: 0s - loss: 3.2285e-04 - mae: 9.9294e-05 - mse: 1.9516e-05 - accuracy: 0.9999Restoring model weights from the end of the best epoch: 10.\n",
      "8484/8484 [==============================] - 58s 7ms/step - loss: 3.2267e-04 - mae: 9.9244e-05 - mse: 1.9502e-05 - accuracy: 0.9999 - val_loss: 0.0113 - val_mae: 0.0013 - val_mse: 9.1822e-04 - val_accuracy: 0.9972 - lr: 1.0000e-07\n",
      "Epoch 30: early stopping\n"
     ]
    }
   ]
  },
  {
   "cell_type": "code",
   "source": [
    "_, mae, mse, accuracy = model4.evaluate(X_test, y_test, batch_size=batch_size, verbose=verbose)"
   ],
   "metadata": {
    "id": "KtV0QWukD0qR",
    "colab": {
     "base_uri": "https://localhost:8080/"
    },
    "outputId": "bb987e37-cafe-4785-e0b5-bc3faf70acf4",
    "pycharm": {
     "name": "#%%\n"
    }
   },
   "execution_count": null,
   "outputs": [
    {
     "output_type": "stream",
     "name": "stdout",
     "text": [
      "856/856 [==============================] - 3s 4ms/step - loss: 0.1033 - mae: 0.0066 - mse: 0.0053 - accuracy: 0.9849\n"
     ]
    }
   ]
  },
  {
   "cell_type": "code",
   "source": [
    "print('mae, mse et accuracy:',  mae, mse, accuracy )\n",
    "\n",
    "pred_class_4 = model4.predict(X_test).argmax(axis = 1)\n",
    "rounded_labels_4=np.argmax(y_test, axis=1)\n",
    "print(pd.crosstab(rounded_labels_4, pred_class_4, rownames = [\"reel\"], colnames = [\"predict\"]))\n",
    "print(classification_report_imbalanced(rounded_labels_4, pred_class_4))"
   ],
   "metadata": {
    "id": "pWKv6WtLD3Hq",
    "colab": {
     "base_uri": "https://localhost:8080/"
    },
    "outputId": "33f16748-dba5-4896-a8ee-b78040869978",
    "pycharm": {
     "name": "#%%\n"
    }
   },
   "execution_count": null,
   "outputs": [
    {
     "output_type": "stream",
     "name": "stdout",
     "text": [
      "mae, mse et accuracy: 0.006644361186772585 0.005291291978210211 0.984942615032196\n",
      "856/856 [==============================] - 2s 2ms/step\n",
      "predict      0    1     2    3     4\n",
      "reel                                \n",
      "0        22561   75    47   17    17\n",
      "1          103  589     9    0     0\n",
      "2           53    4  1686    8     3\n",
      "3           21    0    21  152     0\n",
      "4           24    2     8    0  1962\n",
      "                   pre       rec       spe        f1       geo       iba       sup\n",
      "\n",
      "          0       0.99      0.99      0.96      0.99      0.97      0.95     22717\n",
      "          1       0.88      0.84      1.00      0.86      0.92      0.82       701\n",
      "          2       0.95      0.96      1.00      0.96      0.98      0.95      1754\n",
      "          3       0.86      0.78      1.00      0.82      0.88      0.77       194\n",
      "          4       0.99      0.98      1.00      0.99      0.99      0.98      1996\n",
      "\n",
      "avg / total       0.98      0.98      0.96      0.98      0.97      0.95     27362\n",
      "\n"
     ]
    }
   ]
  },
  {
   "cell_type": "code",
   "source": [
    "print(history_4.history.keys())\n",
    "# summarize history for accuracy\n",
    "plt.plot(history_4.history['accuracy'])\n",
    "plt.plot(history_4.history['val_accuracy'])\n",
    "plt.title('model accuracy')\n",
    "plt.ylabel('accuracy')\n",
    "plt.xlabel('epoch')\n",
    "plt.legend(['train', 'test'], loc='upper left')\n",
    "plt.show()\n",
    "# summarize history for loss\n",
    "plt.plot(history_4.history['loss'])\n",
    "plt.plot(history_4.history['val_loss'])\n",
    "plt.title('model loss')\n",
    "plt.ylabel('loss')\n",
    "plt.xlabel('epoch')\n",
    "plt.legend(['train', 'test'], loc='upper left')\n",
    "plt.show()\n",
    "# summarize history for loss\n",
    "plt.plot(history_4.history['mse'])\n",
    "plt.plot(history_4.history['val_mse'])\n",
    "plt.title('model mse')\n",
    "plt.ylabel('loss mse')\n",
    "plt.xlabel('epoch')\n",
    "plt.legend(['train', 'test'], loc='upper left')\n",
    "plt.show()\n",
    "# summarize history for loss\n",
    "plt.plot(history_4.history['mae'])\n",
    "plt.plot(history_4.history['val_mae'])\n",
    "plt.title('model mae')\n",
    "plt.ylabel('loss mae')\n",
    "plt.xlabel('epoch')\n",
    "plt.legend(['train', 'test'], loc='upper left')\n",
    "plt.show()"
   ],
   "metadata": {
    "id": "xp34g3QlD53g",
    "colab": {
     "base_uri": "https://localhost:8080/",
     "height": 1000
    },
    "outputId": "10181e6a-9a1d-48c6-e3a7-4b2e54a2d016",
    "pycharm": {
     "name": "#%%\n"
    }
   },
   "execution_count": null,
   "outputs": [
    {
     "output_type": "stream",
     "name": "stdout",
     "text": [
      "dict_keys(['loss', 'mae', 'mse', 'accuracy', 'val_loss', 'val_mae', 'val_mse', 'val_accuracy', 'lr'])\n"
     ]
    },
    {
     "output_type": "display_data",
     "data": {
      "text/plain": [
       "<Figure size 432x288 with 1 Axes>"
      ],
      "image/png": "[encoded data removed]"
     },
     "metadata": {
      "needs_background": "light"
     }
    },
    {
     "output_type": "display_data",
     "data": {
      "text/plain": [
       "<Figure size 432x288 with 1 Axes>"
      ],
      "image/png": "[encoded data removed]"
     },
     "metadata": {
      "needs_background": "light"
     }
    },
    {
     "output_type": "display_data",
     "data": {
      "text/plain": [
       "<Figure size 432x288 with 1 Axes>"
      ],
      "image/png": "[encoded data removed]"
     },
     "metadata": {
      "needs_background": "light"
     }
    },
    {
     "output_type": "display_data",
     "data": {
      "text/plain": [
       "<Figure size 432x288 with 1 Axes>"
      ],
      "image/png": "[encoded data removed]"
     },
     "metadata": {
      "needs_background": "light"
     }
    }
   ]
  },
  {
   "cell_type": "code",
   "source": [
    "early_stopping = EarlyStopping(monitor = 'val_loss',\n",
    "                    min_delta = 0.01,\n",
    "                    patience = 10,\n",
    "                    verbose = 1,\n",
    "                    mode = 'min',\n",
    "                    restore_best_weights = True)\n",
    "\n",
    "reduce_learning_rate = ReduceLROnPlateau(monitor = 'val_loss',\n",
    "                        min_delta = 0.01,\n",
    "                        patience = 3,\n",
    "                        factor = 0.1, \n",
    "                        cooldown = 4,\n",
    "                        verbose = 1)"
   ],
   "metadata": {
    "id": "6STStmqhD9aT",
    "pycharm": {
     "name": "#%%\n"
    }
   },
   "execution_count": null,
   "outputs": []
  },
  {
   "cell_type": "code",
   "source": [
    "verbose, epochs, batch_size = 1, 50 , 32\n",
    "n_timesteps, n_features, n_outputs =  X_train_cnn.shape[1],X_train_cnn.shape[2], y_sm.shape[1]\n",
    "model5 = Sequential()\n",
    "model5.add(Conv1D(filters=32, kernel_size=5, activation='relu',input_shape=(n_timesteps,n_features)))\n",
    "model5.add(Conv1D(filters=32, kernel_size=3, activation='relu'))\n",
    "model5.add(BatchNormalization())\n",
    "model5.add(MaxPooling1D(pool_size=2))\n",
    "model5.add(Conv1D(filters=16, kernel_size=5, activation='relu'))\n",
    "model5.add(Conv1D(filters=16, kernel_size=3, activation='relu'))\n",
    "model5.add(BatchNormalization())\n",
    "model5.add(MaxPooling1D(pool_size=2))\n",
    "model5.add(Flatten())\n",
    "model5.add(Dense(125, activation='relu'))\n",
    "model5.add(Dense(n_outputs, activation='softmax'))\n",
    "model5.compile(loss='categorical_crossentropy', optimizer='adam', metrics=['mae','mse','accuracy'])\n",
    "history_5 = model5.fit(X_sm, y_sm, epochs=epochs,callbacks=[early_stopping, reduce_learning_rate], batch_size=batch_size,validation_split = 0.2, verbose=verbose)\n",
    "_, mae, mse, accuracy = model5.evaluate(X_test, y_test, batch_size=batch_size, verbose=verbose)"
   ],
   "metadata": {
    "id": "P77d0Da0EAb0",
    "colab": {
     "base_uri": "https://localhost:8080/"
    },
    "outputId": "25e04f6d-0c6d-47fb-dac4-c2d0fe5489a2",
    "pycharm": {
     "name": "#%%\n"
    }
   },
   "execution_count": null,
   "outputs": [
    {
     "output_type": "stream",
     "name": "stdout",
     "text": [
      "Epoch 1/50\n",
      "8484/8484 [==============================] - 46s 5ms/step - loss: 0.1122 - mae: 0.0230 - mse: 0.0115 - accuracy: 0.9619 - val_loss: 0.0540 - val_mae: 0.0091 - val_mse: 0.0050 - val_accuracy: 0.9839 - lr: 0.0010\n",
      "Epoch 2/50\n",
      "8484/8484 [==============================] - 44s 5ms/step - loss: 0.0379 - mae: 0.0076 - mse: 0.0038 - accuracy: 0.9878 - val_loss: 0.0247 - val_mae: 0.0041 - val_mse: 0.0024 - val_accuracy: 0.9925 - lr: 0.0010\n",
      "Epoch 3/50\n",
      "8484/8484 [==============================] - 44s 5ms/step - loss: 0.0253 - mae: 0.0049 - mse: 0.0025 - accuracy: 0.9920 - val_loss: 0.0284 - val_mae: 0.0044 - val_mse: 0.0026 - val_accuracy: 0.9912 - lr: 0.0010\n",
      "Epoch 4/50\n",
      "8484/8484 [==============================] - 44s 5ms/step - loss: 0.0185 - mae: 0.0035 - mse: 0.0018 - accuracy: 0.9943 - val_loss: 0.0212 - val_mae: 0.0030 - val_mse: 0.0019 - val_accuracy: 0.9940 - lr: 0.0010\n",
      "Epoch 5/50\n",
      "8474/8484 [============================>.] - ETA: 0s - loss: 0.0156 - mae: 0.0029 - mse: 0.0015 - accuracy: 0.9952\n",
      "Epoch 5: ReduceLROnPlateau reducing learning rate to 0.00010000000474974513.\n",
      "8484/8484 [==============================] - 46s 5ms/step - loss: 0.0156 - mae: 0.0029 - mse: 0.0015 - accuracy: 0.9952 - val_loss: 0.0319 - val_mae: 0.0051 - val_mse: 0.0031 - val_accuracy: 0.9900 - lr: 0.0010\n",
      "Epoch 6/50\n",
      "8484/8484 [==============================] - 45s 5ms/step - loss: 0.0037 - mae: 8.3788e-04 - mse: 3.1768e-04 - accuracy: 0.9990 - val_loss: 0.0107 - val_mae: 0.0015 - val_mse: 9.3259e-04 - val_accuracy: 0.9971 - lr: 1.0000e-04\n",
      "Epoch 7/50\n",
      "8484/8484 [==============================] - 45s 5ms/step - loss: 0.0018 - mae: 4.3246e-04 - mse: 1.3492e-04 - accuracy: 0.9996 - val_loss: 0.0104 - val_mae: 0.0014 - val_mse: 8.9929e-04 - val_accuracy: 0.9972 - lr: 1.0000e-04\n",
      "Epoch 8/50\n",
      "8484/8484 [==============================] - 44s 5ms/step - loss: 0.0012 - mae: 3.0320e-04 - mse: 9.2063e-05 - accuracy: 0.9997 - val_loss: 0.0106 - val_mae: 0.0014 - val_mse: 9.0070e-04 - val_accuracy: 0.9972 - lr: 1.0000e-04\n",
      "Epoch 9/50\n",
      "8484/8484 [==============================] - 45s 5ms/step - loss: 7.9934e-04 - mae: 2.2319e-04 - mse: 5.9594e-05 - accuracy: 0.9998 - val_loss: 0.0093 - val_mae: 0.0012 - val_mse: 7.8085e-04 - val_accuracy: 0.9976 - lr: 1.0000e-04\n",
      "Epoch 10/50\n",
      "8484/8484 [==============================] - 46s 5ms/step - loss: 5.9178e-04 - mae: 1.6499e-04 - mse: 4.0258e-05 - accuracy: 0.9999 - val_loss: 0.0099 - val_mae: 0.0012 - val_mse: 7.9154e-04 - val_accuracy: 0.9976 - lr: 1.0000e-04\n",
      "Epoch 11/50\n",
      "8483/8484 [============================>.] - ETA: 0s - loss: 4.3582e-04 - mae: 1.3207e-04 - mse: 3.3736e-05 - accuracy: 0.9999\n",
      "Epoch 11: ReduceLROnPlateau reducing learning rate to 1.0000000474974514e-05.\n",
      "8484/8484 [==============================] - 45s 5ms/step - loss: 4.3576e-04 - mae: 1.3206e-04 - mse: 3.3733e-05 - accuracy: 0.9999 - val_loss: 0.0102 - val_mae: 0.0011 - val_mse: 7.9992e-04 - val_accuracy: 0.9976 - lr: 1.0000e-04\n",
      "Epoch 12/50\n",
      "8484/8484 [==============================] - 45s 5ms/step - loss: 2.1940e-04 - mae: 6.9082e-05 - mse: 1.4118e-05 - accuracy: 1.0000 - val_loss: 0.0100 - val_mae: 0.0011 - val_mse: 7.7906e-04 - val_accuracy: 0.9976 - lr: 1.0000e-05\n",
      "Epoch 13/50\n",
      "8484/8484 [==============================] - 44s 5ms/step - loss: 1.8610e-04 - mae: 6.1809e-05 - mse: 1.0223e-05 - accuracy: 1.0000 - val_loss: 0.0094 - val_mae: 0.0010 - val_mse: 7.2535e-04 - val_accuracy: 0.9978 - lr: 1.0000e-05\n",
      "Epoch 14/50\n",
      "8484/8484 [==============================] - 45s 5ms/step - loss: 1.5580e-04 - mae: 5.3426e-05 - mse: 7.8701e-06 - accuracy: 1.0000 - val_loss: 0.0096 - val_mae: 0.0010 - val_mse: 7.2926e-04 - val_accuracy: 0.9978 - lr: 1.0000e-05\n",
      "Epoch 15/50\n",
      "8484/8484 [==============================] - 46s 5ms/step - loss: 1.4882e-04 - mae: 5.0238e-05 - mse: 7.7342e-06 - accuracy: 1.0000 - val_loss: 0.0100 - val_mae: 0.0010 - val_mse: 7.6054e-04 - val_accuracy: 0.9977 - lr: 1.0000e-05\n",
      "Epoch 16/50\n",
      "8479/8484 [============================>.] - ETA: 0s - loss: 1.3821e-04 - mae: 4.7587e-05 - mse: 7.5034e-06 - accuracy: 1.0000Restoring model weights from the end of the best epoch: 6.\n",
      "8484/8484 [==============================] - 45s 5ms/step - loss: 1.3818e-04 - mae: 4.7578e-05 - mse: 7.4990e-06 - accuracy: 1.0000 - val_loss: 0.0098 - val_mae: 0.0010 - val_mse: 7.3423e-04 - val_accuracy: 0.9978 - lr: 1.0000e-05\n",
      "Epoch 16: early stopping\n",
      "856/856 [==============================] - 3s 4ms/step - loss: 0.1048 - mae: 0.0068 - mse: 0.0054 - accuracy: 0.9840\n"
     ]
    }
   ]
  },
  {
   "cell_type": "code",
   "source": [
    "print('mae, mse et accuracy:',  mae, mse, accuracy )\n",
    "\n",
    "pred_class_5 = model5.predict(X_test).argmax(axis = 1)\n",
    "rounded_labels_5=np.argmax(y_test, axis=1)\n",
    "print(pd.crosstab(rounded_labels_5, pred_class_5, rownames = [\"reel\"], colnames = [\"predict\"]))\n",
    "print(classification_report_imbalanced(rounded_labels_5, pred_class_5))"
   ],
   "metadata": {
    "id": "FYJaSEjOED1A",
    "colab": {
     "base_uri": "https://localhost:8080/"
    },
    "outputId": "70d23062-dfe1-4328-cdbe-459586c97682",
    "pycharm": {
     "name": "#%%\n"
    }
   },
   "execution_count": null,
   "outputs": [
    {
     "output_type": "stream",
     "name": "stdout",
     "text": [
      "mae, mse et accuracy: 0.006760654505342245 0.005433205980807543 0.9839558601379395\n",
      "856/856 [==============================] - 2s 2ms/step\n",
      "predict      0    1     2    3     4\n",
      "reel                                \n",
      "0        22578   66    34   16    23\n",
      "1          130  566     5    0     0\n",
      "2           65    4  1672    8     5\n",
      "3           21    0    21  152     0\n",
      "4           35    0     6    0  1955\n",
      "                   pre       rec       spe        f1       geo       iba       sup\n",
      "\n",
      "          0       0.99      0.99      0.95      0.99      0.97      0.94     22717\n",
      "          1       0.89      0.81      1.00      0.85      0.90      0.79       701\n",
      "          2       0.96      0.95      1.00      0.96      0.98      0.95      1754\n",
      "          3       0.86      0.78      1.00      0.82      0.88      0.77       194\n",
      "          4       0.99      0.98      1.00      0.98      0.99      0.98      1996\n",
      "\n",
      "avg / total       0.98      0.98      0.95      0.98      0.97      0.94     27362\n",
      "\n"
     ]
    }
   ]
  },
  {
   "cell_type": "code",
   "source": [
    "print(history_5.history.keys())\n",
    "# summarize history for accuracy\n",
    "plt.plot(history_5.history['accuracy'])\n",
    "plt.plot(history_5.history['val_accuracy'])\n",
    "plt.title('model accuracy')\n",
    "plt.ylabel('accuracy')\n",
    "plt.xlabel('epoch')\n",
    "plt.legend(['train', 'test'], loc='upper left')\n",
    "plt.show()\n",
    "# summarize history for loss\n",
    "plt.plot(history_5.history['loss'])\n",
    "plt.plot(history_5.history['val_loss'])\n",
    "plt.title('model loss')\n",
    "plt.ylabel('loss')\n",
    "plt.xlabel('epoch')\n",
    "plt.legend(['train', 'test'], loc='upper left')\n",
    "plt.show()\n",
    "# summarize history for loss\n",
    "plt.plot(history_5.history['mse'])\n",
    "plt.plot(history_5.history['val_mse'])\n",
    "plt.title('model mse')\n",
    "plt.ylabel('loss mse')\n",
    "plt.xlabel('epoch')\n",
    "plt.legend(['train', 'test'], loc='upper left')\n",
    "plt.show()\n",
    "# summarize history for loss\n",
    "plt.plot(history_5.history['mae'])\n",
    "plt.plot(history_5.history['val_mae'])\n",
    "plt.title('model mae')\n",
    "plt.ylabel('loss mae')\n",
    "plt.xlabel('epoch')\n",
    "plt.legend(['train', 'test'], loc='upper left')\n",
    "plt.show()"
   ],
   "metadata": {
    "id": "mFaT3NmAEGKR",
    "colab": {
     "base_uri": "https://localhost:8080/",
     "height": 1000
    },
    "outputId": "8b3644eb-cb3d-4d43-bfd6-7f7ca1d77351",
    "pycharm": {
     "name": "#%%\n"
    }
   },
   "execution_count": null,
   "outputs": [
    {
     "output_type": "stream",
     "name": "stdout",
     "text": [
      "dict_keys(['loss', 'mae', 'mse', 'accuracy', 'val_loss', 'val_mae', 'val_mse', 'val_accuracy', 'lr'])\n"
     ]
    },
    {
     "output_type": "display_data",
     "data": {
      "text/plain": [
       "<Figure size 432x288 with 1 Axes>"
      ],
      "image/png": "[encoded data removed]"
     },
     "metadata": {
      "needs_background": "light"
     }
    },
    {
     "output_type": "display_data",
     "data": {
      "text/plain": [
       "<Figure size 432x288 with 1 Axes>"
      ],
      "image/png": "[encoded data removed]"
     },
     "metadata": {
      "needs_background": "light"
     }
    },
    {
     "output_type": "display_data",
     "data": {
      "text/plain": [
       "<Figure size 432x288 with 1 Axes>"
      ],
      "image/png": "[encoded data removed]"
     },
     "metadata": {
      "needs_background": "light"
     }
    },
    {
     "output_type": "display_data",
     "data": {
      "text/plain": [
       "<Figure size 432x288 with 1 Axes>"
      ],
      "image/png": "[encoded data removed]"
     },
     "metadata": {
      "needs_background": "light"
     }
    }
   ]
  },
  {
   "cell_type": "code",
   "source": [
    "early_stopping = EarlyStopping(monitor = 'val_loss',\n",
    "                    min_delta = 0.01,\n",
    "                    patience = 5,\n",
    "                    verbose = 1,\n",
    "                    mode = 'min',\n",
    "                    restore_best_weights = True)\n",
    "\n",
    "reduce_learning_rate = ReduceLROnPlateau(monitor = 'val_loss',\n",
    "                        min_delta = 0.01,\n",
    "                        patience = 3,\n",
    "                        factor = 0.1, \n",
    "                        cooldown = 4,\n",
    "                        verbose = 1)"
   ],
   "metadata": {
    "id": "GSI2Y19cEJzh",
    "pycharm": {
     "name": "#%%\n"
    }
   },
   "execution_count": null,
   "outputs": []
  },
  {
   "cell_type": "code",
   "source": [
    "verbose, epochs, batch_size = 1, 50 , 32\n",
    "n_timesteps, n_features, n_outputs =  X_train_cnn.shape[1],X_train_cnn.shape[2], y_sm.shape[1]\n",
    "model6 = Sequential()\n",
    "model6.add(Conv1D(filters=32, kernel_size=5, activation='relu',input_shape=(n_timesteps,n_features)))\n",
    "model6.add(Conv1D(filters=32, kernel_size=3, activation='relu'))\n",
    "model6.add(BatchNormalization())\n",
    "model6.add(MaxPooling1D(pool_size=2))\n",
    "model6.add(Conv1D(filters=16, kernel_size=5, activation='relu'))\n",
    "model6.add(Conv1D(filters=16, kernel_size=3, activation='relu'))\n",
    "model6.add(BatchNormalization())\n",
    "model6.add(MaxPooling1D(pool_size=2))\n",
    "model6.add(Flatten())\n",
    "model6.add(Dense(125, activation='relu'))\n",
    "model6.add(Dense(n_outputs, activation='softmax'))\n",
    "model6.compile(loss='categorical_crossentropy', optimizer='adam', metrics=['mae','mse','accuracy'])\n",
    "history_6 = model6.fit(X_sm, y_sm, epochs=epochs,callbacks=[early_stopping, reduce_learning_rate], batch_size=batch_size,validation_split = 0.2, verbose=verbose)\n",
    "_, mae, mse, accuracy = model6.evaluate(X_test, y_test, batch_size=batch_size, verbose=verbose)"
   ],
   "metadata": {
    "id": "8aotckmzELgS",
    "colab": {
     "base_uri": "https://localhost:8080/"
    },
    "outputId": "faf2be8f-d2c3-4ae5-a06c-4afbf13cd4f4",
    "pycharm": {
     "name": "#%%\n"
    }
   },
   "execution_count": null,
   "outputs": [
    {
     "output_type": "stream",
     "name": "stdout",
     "text": [
      "Epoch 1/50\n",
      "8484/8484 [==============================] - 47s 5ms/step - loss: 0.1147 - mae: 0.0237 - mse: 0.0118 - accuracy: 0.9607 - val_loss: 0.1286 - val_mae: 0.0163 - val_mse: 0.0116 - val_accuracy: 0.9635 - lr: 0.0010\n",
      "Epoch 2/50\n",
      "8484/8484 [==============================] - 46s 5ms/step - loss: 0.0393 - mae: 0.0078 - mse: 0.0039 - accuracy: 0.9874 - val_loss: 0.0275 - val_mae: 0.0049 - val_mse: 0.0027 - val_accuracy: 0.9914 - lr: 0.0010\n",
      "Epoch 3/50\n",
      "8484/8484 [==============================] - 46s 5ms/step - loss: 0.0259 - mae: 0.0050 - mse: 0.0026 - accuracy: 0.9917 - val_loss: 0.0203 - val_mae: 0.0034 - val_mse: 0.0019 - val_accuracy: 0.9938 - lr: 0.0010\n",
      "Epoch 4/50\n",
      "8484/8484 [==============================] - 45s 5ms/step - loss: 0.0194 - mae: 0.0037 - mse: 0.0019 - accuracy: 0.9938 - val_loss: 0.0328 - val_mae: 0.0049 - val_mse: 0.0030 - val_accuracy: 0.9901 - lr: 0.0010\n",
      "Epoch 5/50\n",
      "8478/8484 [============================>.] - ETA: 0s - loss: 0.0152 - mae: 0.0028 - mse: 0.0015 - accuracy: 0.9952\n",
      "Epoch 5: ReduceLROnPlateau reducing learning rate to 0.00010000000474974513.\n",
      "8484/8484 [==============================] - 45s 5ms/step - loss: 0.0152 - mae: 0.0028 - mse: 0.0015 - accuracy: 0.9952 - val_loss: 0.0393 - val_mae: 0.0062 - val_mse: 0.0039 - val_accuracy: 0.9873 - lr: 0.0010\n",
      "Epoch 6/50\n",
      "8484/8484 [==============================] - 45s 5ms/step - loss: 0.0039 - mae: 9.2933e-04 - mse: 3.4680e-04 - accuracy: 0.9990 - val_loss: 0.0098 - val_mae: 0.0015 - val_mse: 9.1609e-04 - val_accuracy: 0.9972 - lr: 1.0000e-04\n",
      "Epoch 7/50\n",
      "8484/8484 [==============================] - 44s 5ms/step - loss: 0.0018 - mae: 4.5284e-04 - mse: 1.4321e-04 - accuracy: 0.9996 - val_loss: 0.0075 - val_mae: 0.0012 - val_mse: 6.7540e-04 - val_accuracy: 0.9980 - lr: 1.0000e-04\n",
      "Epoch 8/50\n",
      "8484/8484 [==============================] - 47s 6ms/step - loss: 0.0011 - mae: 2.9684e-04 - mse: 7.8011e-05 - accuracy: 0.9998 - val_loss: 0.0076 - val_mae: 0.0011 - val_mse: 6.8288e-04 - val_accuracy: 0.9979 - lr: 1.0000e-04\n",
      "Epoch 9/50\n",
      "8484/8484 [==============================] - 45s 5ms/step - loss: 8.7108e-04 - mae: 2.3478e-04 - mse: 6.5958e-05 - accuracy: 0.9998 - val_loss: 0.0082 - val_mae: 0.0011 - val_mse: 6.9921e-04 - val_accuracy: 0.9978 - lr: 1.0000e-04\n",
      "Epoch 10/50\n",
      "8484/8484 [==============================] - 45s 5ms/step - loss: 6.1436e-04 - mae: 1.7475e-04 - mse: 4.5149e-05 - accuracy: 0.9999 - val_loss: 0.0071 - val_mae: 9.5337e-04 - val_mse: 6.1810e-04 - val_accuracy: 0.9981 - lr: 1.0000e-04\n",
      "Epoch 11/50\n",
      "8484/8484 [==============================] - ETA: 0s - loss: 4.2137e-04 - mae: 1.2680e-04 - mse: 3.0753e-05 - accuracy: 0.9999\n",
      "Epoch 11: ReduceLROnPlateau reducing learning rate to 1.0000000474974514e-05.\n",
      "8484/8484 [==============================] - 45s 5ms/step - loss: 4.2137e-04 - mae: 1.2680e-04 - mse: 3.0753e-05 - accuracy: 0.9999 - val_loss: 0.0065 - val_mae: 7.9893e-04 - val_mse: 5.5339e-04 - val_accuracy: 0.9983 - lr: 1.0000e-04\n",
      "Epoch 12/50\n",
      "8484/8484 [==============================] - 45s 5ms/step - loss: 2.2000e-04 - mae: 7.2100e-05 - mse: 1.2488e-05 - accuracy: 1.0000 - val_loss: 0.0068 - val_mae: 8.3824e-04 - val_mse: 5.8517e-04 - val_accuracy: 0.9982 - lr: 1.0000e-05\n",
      "Epoch 13/50\n",
      "8484/8484 [==============================] - 46s 5ms/step - loss: 1.9201e-04 - mae: 6.3823e-05 - mse: 1.0681e-05 - accuracy: 1.0000 - val_loss: 0.0068 - val_mae: 8.3283e-04 - val_mse: 5.8027e-04 - val_accuracy: 0.9982 - lr: 1.0000e-05\n",
      "Epoch 14/50\n",
      "8484/8484 [==============================] - 46s 5ms/step - loss: 1.7803e-04 - mae: 5.8472e-05 - mse: 9.4652e-06 - accuracy: 1.0000 - val_loss: 0.0075 - val_mae: 9.0683e-04 - val_mse: 6.4010e-04 - val_accuracy: 0.9980 - lr: 1.0000e-05\n",
      "Epoch 15/50\n",
      "8484/8484 [==============================] - 45s 5ms/step - loss: 1.4153e-04 - mae: 5.0094e-05 - mse: 6.6833e-06 - accuracy: 1.0000 - val_loss: 0.0077 - val_mae: 9.1244e-04 - val_mse: 6.4854e-04 - val_accuracy: 0.9979 - lr: 1.0000e-05\n",
      "Epoch 16/50\n",
      "8476/8484 [============================>.] - ETA: 0s - loss: 1.3361e-04 - mae: 4.6298e-05 - mse: 6.6115e-06 - accuracy: 1.0000Restoring model weights from the end of the best epoch: 6.\n",
      "8484/8484 [==============================] - 45s 5ms/step - loss: 1.3354e-04 - mae: 4.6275e-05 - mse: 6.6054e-06 - accuracy: 1.0000 - val_loss: 0.0076 - val_mae: 8.9027e-04 - val_mse: 6.3717e-04 - val_accuracy: 0.9980 - lr: 1.0000e-05\n",
      "Epoch 16: early stopping\n",
      "856/856 [==============================] - 3s 3ms/step - loss: 0.1052 - mae: 0.0066 - mse: 0.0053 - accuracy: 0.9845\n"
     ]
    }
   ]
  },
  {
   "cell_type": "code",
   "source": [
    "print('mae, mse et accuracy:',  mae, mse, accuracy )\n",
    "\n",
    "pred_class_6 = model6.predict(X_test).argmax(axis = 1)\n",
    "rounded_labels_6=np.argmax(y_test, axis=1)\n",
    "print(pd.crosstab(rounded_labels_6, pred_class_6, rownames = [\"reel\"], colnames = [\"predict\"]))\n",
    "print(classification_report_imbalanced(rounded_labels_6, pred_class_6))"
   ],
   "metadata": {
    "id": "sUzZHTbJEPrB",
    "colab": {
     "base_uri": "https://localhost:8080/"
    },
    "outputId": "9d6e91ea-bd46-4882-bb8a-7a94d6d567b7",
    "pycharm": {
     "name": "#%%\n"
    }
   },
   "execution_count": null,
   "outputs": [
    {
     "output_type": "stream",
     "name": "stdout",
     "text": [
      "mae, mse et accuracy: 0.0066110012121498585 0.005323414690792561 0.9845040440559387\n",
      "856/856 [==============================] - 2s 2ms/step\n",
      "predict      0    1     2    3     4\n",
      "reel                                \n",
      "0        22577   71    34   17    18\n",
      "1          118  577     5    1     0\n",
      "2           60    4  1676   10     4\n",
      "3           21    1    21  151     0\n",
      "4           29    3     7    0  1957\n",
      "                   pre       rec       spe        f1       geo       iba       sup\n",
      "\n",
      "          0       0.99      0.99      0.95      0.99      0.97      0.95     22717\n",
      "          1       0.88      0.82      1.00      0.85      0.91      0.81       701\n",
      "          2       0.96      0.96      1.00      0.96      0.98      0.95      1754\n",
      "          3       0.84      0.78      1.00      0.81      0.88      0.76       194\n",
      "          4       0.99      0.98      1.00      0.98      0.99      0.98      1996\n",
      "\n",
      "avg / total       0.98      0.98      0.96      0.98      0.97      0.95     27362\n",
      "\n"
     ]
    }
   ]
  },
  {
   "cell_type": "code",
   "source": [
    "print(history_6.history.keys())\n",
    "# summarize history for accuracy\n",
    "plt.plot(history_6.history['accuracy'])\n",
    "plt.plot(history_6.history['val_accuracy'])\n",
    "plt.title('model accuracy')\n",
    "plt.ylabel('accuracy')\n",
    "plt.xlabel('epoch')\n",
    "plt.legend(['train', 'test'], loc='upper left')\n",
    "plt.show()\n",
    "# summarize history for loss\n",
    "plt.plot(history_6.history['loss'])\n",
    "plt.plot(history_6.history['val_loss'])\n",
    "plt.title('model loss')\n",
    "plt.ylabel('loss')\n",
    "plt.xlabel('epoch')\n",
    "plt.legend(['train', 'test'], loc='upper left')\n",
    "plt.show()\n",
    "# summarize history for loss\n",
    "plt.plot(history_6.history['mse'])\n",
    "plt.plot(history_6.history['val_mse'])\n",
    "plt.title('model mse')\n",
    "plt.ylabel('loss mse')\n",
    "plt.xlabel('epoch')\n",
    "plt.legend(['train', 'test'], loc='upper left')\n",
    "plt.show()\n",
    "# summarize history for loss\n",
    "plt.plot(history_6.history['mae'])\n",
    "plt.plot(history_6.history['val_mae'])\n",
    "plt.title('model mae')\n",
    "plt.ylabel('loss mae')\n",
    "plt.xlabel('epoch')\n",
    "plt.legend(['train', 'test'], loc='upper left')\n",
    "plt.show()"
   ],
   "metadata": {
    "id": "QqP-9aBEEVRp",
    "colab": {
     "base_uri": "https://localhost:8080/",
     "height": 1000
    },
    "outputId": "02f7b822-35db-40ed-e7f4-74a73a3c7b7a",
    "pycharm": {
     "name": "#%%\n"
    }
   },
   "execution_count": null,
   "outputs": [
    {
     "output_type": "stream",
     "name": "stdout",
     "text": [
      "dict_keys(['loss', 'mae', 'mse', 'accuracy', 'val_loss', 'val_mae', 'val_mse', 'val_accuracy', 'lr'])\n"
     ]
    },
    {
     "output_type": "display_data",
     "data": {
      "text/plain": [
       "<Figure size 432x288 with 1 Axes>"
      ],
      "image/png": "[encoded data removed]"
     },
     "metadata": {
      "needs_background": "light"
     }
    },
    {
     "output_type": "display_data",
     "data": {
      "text/plain": [
       "<Figure size 432x288 with 1 Axes>"
      ],
      "image/png": "[encoded data removed]"
     },
     "metadata": {
      "needs_background": "light"
     }
    },
    {
     "output_type": "display_data",
     "data": {
      "text/plain": [
       "<Figure size 432x288 with 1 Axes>"
      ],
      "image/png": "[encoded data removed]"
     },
     "metadata": {
      "needs_background": "light"
     }
    },
    {
     "output_type": "display_data",
     "data": {
      "text/plain": [
       "<Figure size 432x288 with 1 Axes>"
      ],
      "image/png": "[encoded data removed]"
     },
     "metadata": {
      "needs_background": "light"
     }
    }
   ]
  },
  {
   "cell_type": "code",
   "source": [
    "verbose, epochs, batch_size = 1, 50 , 32\n",
    "n_timesteps, n_features, n_outputs =  X_train_cnn.shape[1],X_train_cnn.shape[2], y_sm.shape[1]\n",
    "model7 = Sequential()\n",
    "model7.add(Conv1D(filters=32, kernel_size=5, activation='relu',input_shape=(n_timesteps,n_features)))\n",
    "model7.add(Conv1D(filters=32, kernel_size=3, activation='relu'))\n",
    "model7.add(BatchNormalization())\n",
    "model7.add(MaxPooling1D(pool_size=2))\n",
    "model7.add(Conv1D(filters=16, kernel_size=5, activation='relu'))\n",
    "model7.add(Conv1D(filters=16, kernel_size=3, activation='relu'))\n",
    "model7.add(BatchNormalization())\n",
    "model7.add(MaxPooling1D(pool_size=2))\n",
    "model7.add(Flatten())\n",
    "model7.add(Dense(125, activation='relu'))\n",
    "model7.add(Dense(n_outputs, activation='softmax'))\n",
    "model7.compile(loss='categorical_crossentropy', optimizer='adam', metrics=['mae','accuracy'])\n",
    "history_7 = model7.fit(X_sm, y_sm, epochs=epochs,callbacks=[early_stopping, reduce_learning_rate], batch_size=batch_size,validation_split = 0.2, verbose=verbose)\n",
    "_, mae, accuracy= model7.evaluate(X_test, y_test, batch_size=batch_size, verbose=verbose)"
   ],
   "metadata": {
    "id": "1eRw3VbQEYAh",
    "colab": {
     "base_uri": "https://localhost:8080/"
    },
    "outputId": "7ccda847-7542-4485-c2a1-6d186d621192",
    "pycharm": {
     "name": "#%%\n"
    }
   },
   "execution_count": null,
   "outputs": [
    {
     "output_type": "stream",
     "name": "stdout",
     "text": [
      "Epoch 1/50\n",
      "8484/8484 [==============================] - 45s 5ms/step - loss: 0.1180 - mae: 0.0243 - accuracy: 0.9599 - val_loss: 0.0331 - val_mae: 0.0058 - val_accuracy: 0.9903 - lr: 0.0010\n",
      "Epoch 2/50\n",
      "8484/8484 [==============================] - 48s 6ms/step - loss: 0.0396 - mae: 0.0079 - accuracy: 0.9873 - val_loss: 0.0546 - val_mae: 0.0077 - val_accuracy: 0.9844 - lr: 0.0010\n",
      "Epoch 3/50\n",
      "8484/8484 [==============================] - 44s 5ms/step - loss: 0.0261 - mae: 0.0051 - accuracy: 0.9918 - val_loss: 0.0300 - val_mae: 0.0054 - val_accuracy: 0.9896 - lr: 0.0010\n",
      "Epoch 4/50\n",
      "8481/8484 [============================>.] - ETA: 0s - loss: 0.0195 - mae: 0.0037 - accuracy: 0.9940\n",
      "Epoch 4: ReduceLROnPlateau reducing learning rate to 0.00010000000474974513.\n",
      "8484/8484 [==============================] - 45s 5ms/step - loss: 0.0195 - mae: 0.0037 - accuracy: 0.9940 - val_loss: 0.0457 - val_mae: 0.0076 - val_accuracy: 0.9852 - lr: 0.0010\n",
      "Epoch 5/50\n",
      "8484/8484 [==============================] - 45s 5ms/step - loss: 0.0053 - mae: 0.0012 - accuracy: 0.9986 - val_loss: 0.0080 - val_mae: 0.0015 - val_accuracy: 0.9974 - lr: 1.0000e-04\n",
      "Epoch 6/50\n",
      "8484/8484 [==============================] - 44s 5ms/step - loss: 0.0027 - mae: 6.6534e-04 - accuracy: 0.9994 - val_loss: 0.0052 - val_mae: 9.2997e-04 - val_accuracy: 0.9984 - lr: 1.0000e-04\n",
      "Epoch 7/50\n",
      "8484/8484 [==============================] - 45s 5ms/step - loss: 0.0017 - mae: 4.5756e-04 - accuracy: 0.9996 - val_loss: 0.0057 - val_mae: 9.4727e-04 - val_accuracy: 0.9983 - lr: 1.0000e-04\n",
      "Epoch 8/50\n",
      "8484/8484 [==============================] - 43s 5ms/step - loss: 0.0013 - mae: 3.3982e-04 - accuracy: 0.9998 - val_loss: 0.0040 - val_mae: 6.9605e-04 - val_accuracy: 0.9989 - lr: 1.0000e-04\n",
      "Epoch 9/50\n",
      "8484/8484 [==============================] - 44s 5ms/step - loss: 9.2538e-04 - mae: 2.4990e-04 - accuracy: 0.9999 - val_loss: 0.0039 - val_mae: 6.0486e-04 - val_accuracy: 0.9989 - lr: 1.0000e-04\n",
      "Epoch 10/50\n",
      "8479/8484 [============================>.] - ETA: 0s - loss: 7.8030e-04 - mae: 2.0494e-04 - accuracy: 0.9998\n",
      "Epoch 10: ReduceLROnPlateau reducing learning rate to 1.0000000474974514e-05.\n",
      "8484/8484 [==============================] - 48s 6ms/step - loss: 7.8007e-04 - mae: 2.0491e-04 - accuracy: 0.9998 - val_loss: 0.0044 - val_mae: 6.3997e-04 - val_accuracy: 0.9988 - lr: 1.0000e-04\n",
      "Epoch 11/50\n",
      "8484/8484 [==============================] - 69s 8ms/step - loss: 4.1388e-04 - mae: 1.2283e-04 - accuracy: 0.9999 - val_loss: 0.0047 - val_mae: 6.6750e-04 - val_accuracy: 0.9988 - lr: 1.0000e-05\n",
      "Epoch 12/50\n",
      "8484/8484 [==============================] - 59s 7ms/step - loss: 3.7303e-04 - mae: 1.0713e-04 - accuracy: 0.9999 - val_loss: 0.0044 - val_mae: 6.1854e-04 - val_accuracy: 0.9988 - lr: 1.0000e-05\n",
      "Epoch 13/50\n",
      "8484/8484 [==============================] - 51s 6ms/step - loss: 3.6885e-04 - mae: 1.0224e-04 - accuracy: 0.9999 - val_loss: 0.0043 - val_mae: 6.0187e-04 - val_accuracy: 0.9987 - lr: 1.0000e-05\n",
      "Epoch 14/50\n",
      "8484/8484 [==============================] - 43s 5ms/step - loss: 3.2818e-04 - mae: 9.3767e-05 - accuracy: 1.0000 - val_loss: 0.0044 - val_mae: 6.0443e-04 - val_accuracy: 0.9988 - lr: 1.0000e-05\n",
      "Epoch 15/50\n",
      "8479/8484 [============================>.] - ETA: 0s - loss: 2.9907e-04 - mae: 8.9938e-05 - accuracy: 1.0000Restoring model weights from the end of the best epoch: 5.\n",
      "8484/8484 [==============================] - 43s 5ms/step - loss: 2.9899e-04 - mae: 8.9925e-05 - accuracy: 1.0000 - val_loss: 0.0045 - val_mae: 6.1292e-04 - val_accuracy: 0.9988 - lr: 1.0000e-05\n",
      "Epoch 15: early stopping\n",
      "856/856 [==============================] - 3s 3ms/step - loss: 0.1038 - mae: 0.0073 - accuracy: 0.9832\n"
     ]
    }
   ]
  },
  {
   "cell_type": "code",
   "source": [
    "print('mae',  mae, accuracy )\n",
    "\n",
    "pred_class_7 = model7.predict(X_test).argmax(axis = 1)\n",
    "rounded_labels_7=np.argmax(y_test, axis=1)\n",
    "print(pd.crosstab(rounded_labels_7, pred_class_7, rownames = [\"reel\"], colnames = [\"predict\"]))\n",
    "print(classification_report_imbalanced(rounded_labels_7, pred_class_7))"
   ],
   "metadata": {
    "id": "B2OkTEBlEbGT",
    "colab": {
     "base_uri": "https://localhost:8080/"
    },
    "outputId": "af4735d0-9489-4a7c-fcd6-5869c20be30b",
    "pycharm": {
     "name": "#%%\n"
    }
   },
   "execution_count": null,
   "outputs": [
    {
     "output_type": "stream",
     "name": "stdout",
     "text": [
      "mae 0.007313576992601156 0.9832249283790588\n",
      "856/856 [==============================] - 2s 2ms/step\n",
      "predict      0    1     2    3     4\n",
      "reel                                \n",
      "0        22558   93    27   23    16\n",
      "1          116  581     2    2     0\n",
      "2           72    8  1658   12     4\n",
      "3           21    0    22  151     0\n",
      "4           34    5     2    0  1955\n",
      "                   pre       rec       spe        f1       geo       iba       sup\n",
      "\n",
      "          0       0.99      0.99      0.95      0.99      0.97      0.95     22717\n",
      "          1       0.85      0.83      1.00      0.84      0.91      0.81       701\n",
      "          2       0.97      0.95      1.00      0.96      0.97      0.94      1754\n",
      "          3       0.80      0.78      1.00      0.79      0.88      0.76       194\n",
      "          4       0.99      0.98      1.00      0.98      0.99      0.98      1996\n",
      "\n",
      "avg / total       0.98      0.98      0.96      0.98      0.97      0.94     27362\n",
      "\n"
     ]
    }
   ]
  },
  {
   "cell_type": "code",
   "source": [
    "print(history_7.history.keys())\n",
    "# summarize history for accuracy\n",
    "plt.plot(history_7.history['accuracy'])\n",
    "plt.plot(history_7.history['val_accuracy'])\n",
    "plt.title('model accuracy')\n",
    "plt.ylabel('accuracy')\n",
    "plt.xlabel('epoch')\n",
    "plt.legend(['train', 'test'], loc='upper left')\n",
    "plt.show()\n",
    "# summarize history for loss\n",
    "plt.plot(history_7.history['loss'])\n",
    "plt.plot(history_7.history['val_loss'])\n",
    "plt.title('model loss')\n",
    "plt.ylabel('loss')\n",
    "plt.xlabel('epoch')\n",
    "plt.legend(['train', 'test'], loc='upper left')\n",
    "plt.show()\n",
    "# summarize history for loss\n",
    "plt.plot(history_7.history['mae'])\n",
    "plt.plot(history_7.history['val_mae'])\n",
    "plt.title('model mae')\n",
    "plt.ylabel('loss mae')\n",
    "plt.xlabel('epoch')\n",
    "plt.legend(['train', 'test'], loc='upper left')\n",
    "plt.show()"
   ],
   "metadata": {
    "id": "QZ9uuNQCEdwY",
    "colab": {
     "base_uri": "https://localhost:8080/",
     "height": 869
    },
    "outputId": "f15c4de6-f68b-4499-da4d-58be49104fd6",
    "pycharm": {
     "name": "#%%\n"
    }
   },
   "execution_count": null,
   "outputs": [
    {
     "output_type": "stream",
     "name": "stdout",
     "text": [
      "dict_keys(['loss', 'mae', 'accuracy', 'val_loss', 'val_mae', 'val_accuracy', 'lr'])\n"
     ]
    },
    {
     "output_type": "display_data",
     "data": {
      "text/plain": [
       "<Figure size 432x288 with 1 Axes>"
      ],
      "image/png": "[encoded data removed]"
     },
     "metadata": {
      "needs_background": "light"
     }
    },
    {
     "output_type": "display_data",
     "data": {
      "text/plain": [
       "<Figure size 432x288 with 1 Axes>"
      ],
      "image/png": "[encoded data removed]"
     },
     "metadata": {
      "needs_background": "light"
     }
    },
    {
     "output_type": "display_data",
     "data": {
      "text/plain": [
       "<Figure size 432x288 with 1 Axes>"
      ],
      "image/png": "[encoded data removed]"
     },
     "metadata": {
      "needs_background": "light"
     }
    }
   ]
  },
  {
   "cell_type": "markdown",
   "source": [
    "## appliqué au dataset ptbdb"
   ],
   "metadata": {
    "id": "pRYx4p4yzgV1",
    "pycharm": {
     "name": "#%% md\n"
    }
   }
  },
  {
   "cell_type": "code",
   "source": [
    "import pandas as pd\n",
    "import numpy as np\n",
    "from scipy.signal import find_peaks\n",
    "from sklearn.metrics import classification_report\n",
    "from imblearn.over_sampling import SMOTE\n",
    "from imblearn.metrics import classification_report_imbalanced, geometric_mean_score"
   ],
   "metadata": {
    "id": "xLqjkpio-ihR",
    "pycharm": {
     "name": "#%%\n"
    }
   },
   "execution_count": null,
   "outputs": []
  },
  {
   "cell_type": "code",
   "source": [
    "import matplotlib.pyplot as plt\n",
    "import seaborn as sns\n",
    "\n",
    "df1=pd.read_csv('/content/drive/MyDrive/heart_peak/ptbdb_normal.csv',header=None)\n",
    "df2=pd.read_csv('/content/drive/MyDrive/heart_peak/ptbdb_abnormal.csv',header=None)\n",
    "\n",
    "\n",
    "df=pd.concat([df1,df2],ignore_index=True,sort=False)\n",
    "df.isnull().sum().sum()"
   ],
   "metadata": {
    "id": "7zgThkK1-jLi",
    "colab": {
     "base_uri": "https://localhost:8080/"
    },
    "outputId": "c9c44390-5fad-4396-8f8c-c8bb61ca15f2",
    "pycharm": {
     "name": "#%%\n"
    }
   },
   "execution_count": null,
   "outputs": [
    {
     "output_type": "execute_result",
     "data": {
      "text/plain": [
       "0"
      ]
     },
     "metadata": {},
     "execution_count": 159
    }
   ]
  },
  {
   "cell_type": "code",
   "source": [
    "X=df.iloc[:,:-1]\n",
    "y=df.iloc[:,-1]\n",
    "from sklearn.model_selection import train_test_split,cross_val_score\n",
    "from sklearn.linear_model import LogisticRegression\n",
    "from sklearn.ensemble import RandomForestClassifier\n",
    "from sklearn.svm import SVC\n",
    "from sklearn.metrics import classification_report,accuracy_score,confusion_matrix\n",
    "X_train, X_test, y_train, y_test = train_test_split(X, y, test_size=0.25, random_state=28)"
   ],
   "metadata": {
    "id": "0Wntm3ag_AlC",
    "pycharm": {
     "name": "#%%\n"
    }
   },
   "execution_count": null,
   "outputs": []
  },
  {
   "cell_type": "code",
   "source": [
    "import imblearn\n",
    "from imblearn.over_sampling import SMOTE\n",
    "print(y_train.value_counts())\n",
    "\n",
    "# oversampling\n",
    "smote=SMOTE()\n",
    "X_sm, y_sm = smote.fit_resample(X_train, y_train)"
   ],
   "metadata": {
    "id": "-OsuJOIi_Evx",
    "colab": {
     "base_uri": "https://localhost:8080/"
    },
    "outputId": "1017bc8c-c7e7-403a-da55-9b4a5cdee7a7",
    "pycharm": {
     "name": "#%%\n"
    }
   },
   "execution_count": null,
   "outputs": [
    {
     "output_type": "stream",
     "name": "stdout",
     "text": [
      "1.0    7873\n",
      "0.0    3041\n",
      "Name: 187, dtype: int64\n"
     ]
    }
   ]
  },
  {
   "cell_type": "code",
   "source": [
    "from sklearn.preprocessing import StandardScaler\n",
    "from sklearn.metrics import confusion_matrix"
   ],
   "metadata": {
    "id": "ljz_3MWo_JBI",
    "pycharm": {
     "name": "#%%\n"
    }
   },
   "execution_count": null,
   "outputs": []
  },
  {
   "cell_type": "code",
   "source": [
    "scaler = StandardScaler()\n",
    "X_sm =scaler.fit_transform(X_sm)\n",
    "X_test = scaler.transform(X_test)"
   ],
   "metadata": {
    "id": "kCiReGp__OWo",
    "pycharm": {
     "name": "#%%\n"
    }
   },
   "execution_count": null,
   "outputs": []
  },
  {
   "cell_type": "code",
   "source": [
    "y_sm = to_categorical(y_sm)"
   ],
   "metadata": {
    "id": "t3tNmMLC_UZJ",
    "pycharm": {
     "name": "#%%\n"
    }
   },
   "execution_count": null,
   "outputs": []
  },
  {
   "cell_type": "code",
   "source": [
    "y_sm = to_categorical(y_sm)\n",
    "y_test = to_categorical(y_test)"
   ],
   "metadata": {
    "id": "ZmsoOAQ8_YHf",
    "pycharm": {
     "name": "#%%\n"
    }
   },
   "execution_count": null,
   "outputs": []
  },
  {
   "cell_type": "code",
   "source": [
    "y_sm = to_categorical(y_sm)\n",
    "y_test = to_categorical(y_test)\n",
    "X_train_cnn = np.reshape(X_sm, (X_sm.shape[0], X_sm.shape[1], 1))\n",
    "X_test_cnn = np.reshape(X_test, (X_test.shape[0], X_test.shape[1], 1))"
   ],
   "metadata": {
    "id": "qxAE4fWH_d04",
    "pycharm": {
     "name": "#%%\n"
    }
   },
   "execution_count": null,
   "outputs": []
  },
  {
   "cell_type": "code",
   "source": [
    "early_stopping = EarlyStopping(monitor = 'val_loss',\n",
    "                    min_delta = 0.01,\n",
    "                    patience = 10,\n",
    "                    verbose = 1,\n",
    "                    mode = 'min',\n",
    "                    restore_best_weights = True)\n",
    "\n",
    "reduce_learning_rate = ReduceLROnPlateau(monitor = 'val_loss',\n",
    "                        min_delta = 0.01,\n",
    "                        patience = 3,\n",
    "                        factor = 0.1, \n",
    "                        cooldown = 4,\n",
    "                        verbose = 1)"
   ],
   "metadata": {
    "id": "L8vV87pZ7zD6",
    "pycharm": {
     "name": "#%%\n"
    }
   },
   "execution_count": null,
   "outputs": []
  },
  {
   "cell_type": "code",
   "source": [
    "verbose, epochs, batch_size = 1, 50 , 32\n",
    "n_timesteps, n_features, n_outputs =  X_train_cnn.shape[1],X_train_cnn.shape[2], y_sm.shape[1]\n",
    "model_11 = Sequential()\n",
    "model_11.add(Conv1D(filters=64, kernel_size=3, activation='relu', input_shape=(n_timesteps,n_features)))\n",
    "model_11.add(Conv1D(filters=64, kernel_size=3, activation='relu'))\n",
    "model_11.add(Dropout(0.5))\n",
    "model_11.add(MaxPooling1D(pool_size=2))\n",
    "model_11.add(Flatten())\n",
    "model_11.add(Dense(100, activation='relu'))\n",
    "model_11.add(Dense(n_outputs, activation='softmax'))\n",
    "model_11.compile(loss='BinaryCrossentropy', optimizer='adam', metrics=['mse', 'accuracy'])\n",
    "history_11=model_11.fit(X_sm, y_sm, epochs=epochs,callbacks=[early_stopping, reduce_learning_rate], batch_size=batch_size,validation_split = 0.2, verbose=verbose)\n",
    "_, mse, accuracy = model.evaluate(X_test, y_test, batch_size=batch_size, verbose=1)"
   ],
   "metadata": {
    "id": "tgQvEhVh7y86",
    "colab": {
     "base_uri": "https://localhost:8080/"
    },
    "outputId": "69a7ce17-4cd5-4daf-ab0b-3ddf68252e91",
    "pycharm": {
     "name": "#%%\n"
    }
   },
   "execution_count": null,
   "outputs": [
    {
     "output_type": "stream",
     "name": "stdout",
     "text": [
      "Epoch 1/50\n",
      "394/394 [==============================] - 3s 6ms/step - loss: 0.3079 - mse: 0.0967 - accuracy: 0.8712 - val_loss: 0.3245 - val_mse: 0.0824 - val_accuracy: 0.8870 - lr: 0.0010\n",
      "Epoch 2/50\n",
      "394/394 [==============================] - 2s 6ms/step - loss: 0.1497 - mse: 0.0429 - accuracy: 0.9445 - val_loss: 0.1358 - val_mse: 0.0290 - val_accuracy: 0.9632 - lr: 0.0010\n",
      "Epoch 3/50\n",
      "394/394 [==============================] - 2s 5ms/step - loss: 0.1037 - mse: 0.0294 - accuracy: 0.9629 - val_loss: 0.0532 - val_mse: 0.0066 - val_accuracy: 0.9908 - lr: 0.0010\n",
      "Epoch 4/50\n",
      "394/394 [==============================] - 2s 5ms/step - loss: 0.0706 - mse: 0.0192 - accuracy: 0.9761 - val_loss: 0.0661 - val_mse: 0.0117 - val_accuracy: 0.9857 - lr: 0.0010\n",
      "Epoch 5/50\n",
      "394/394 [==============================] - 2s 5ms/step - loss: 0.0519 - mse: 0.0149 - accuracy: 0.9809 - val_loss: 0.0776 - val_mse: 0.0186 - val_accuracy: 0.9752 - lr: 0.0010\n",
      "Epoch 6/50\n",
      "394/394 [==============================] - 2s 5ms/step - loss: 0.0384 - mse: 0.0105 - accuracy: 0.9867 - val_loss: 0.0352 - val_mse: 0.0060 - val_accuracy: 0.9924 - lr: 0.0010\n",
      "Epoch 7/50\n",
      "394/394 [==============================] - 2s 5ms/step - loss: 0.0302 - mse: 0.0083 - accuracy: 0.9896 - val_loss: 0.0831 - val_mse: 0.0228 - val_accuracy: 0.9705 - lr: 0.0010\n",
      "Epoch 8/50\n",
      "394/394 [==============================] - 2s 5ms/step - loss: 0.0311 - mse: 0.0080 - accuracy: 0.9905 - val_loss: 0.0472 - val_mse: 0.0088 - val_accuracy: 0.9886 - lr: 0.0010\n",
      "Epoch 9/50\n",
      "394/394 [==============================] - 2s 5ms/step - loss: 0.0228 - mse: 0.0061 - accuracy: 0.9926 - val_loss: 0.0147 - val_mse: 0.0023 - val_accuracy: 0.9971 - lr: 0.0010\n",
      "Epoch 10/50\n",
      "394/394 [==============================] - 2s 5ms/step - loss: 0.0183 - mse: 0.0053 - accuracy: 0.9931 - val_loss: 0.0160 - val_mse: 0.0021 - val_accuracy: 0.9968 - lr: 0.0010\n",
      "Epoch 11/50\n",
      "394/394 [==============================] - 2s 5ms/step - loss: 0.0169 - mse: 0.0044 - accuracy: 0.9946 - val_loss: 0.0255 - val_mse: 0.0050 - val_accuracy: 0.9937 - lr: 0.0010\n",
      "Epoch 12/50\n",
      "389/394 [============================>.] - ETA: 0s - loss: 0.0137 - mse: 0.0038 - accuracy: 0.9951\n",
      "Epoch 12: ReduceLROnPlateau reducing learning rate to 0.00010000000474974513.\n",
      "394/394 [==============================] - 2s 5ms/step - loss: 0.0139 - mse: 0.0038 - accuracy: 0.9950 - val_loss: 0.0071 - val_mse: 0.0010 - val_accuracy: 0.9987 - lr: 0.0010\n",
      "Epoch 13/50\n",
      "394/394 [==============================] - 2s 5ms/step - loss: 0.0059 - mse: 0.0013 - accuracy: 0.9980 - val_loss: 0.0045 - val_mse: 7.8073e-04 - val_accuracy: 0.9990 - lr: 1.0000e-04\n",
      "Epoch 14/50\n",
      "394/394 [==============================] - 2s 5ms/step - loss: 0.0048 - mse: 9.2970e-04 - accuracy: 0.9987 - val_loss: 0.0043 - val_mse: 6.6601e-04 - val_accuracy: 0.9990 - lr: 1.0000e-04\n",
      "Epoch 15/50\n",
      "394/394 [==============================] - 2s 5ms/step - loss: 0.0042 - mse: 6.6860e-04 - accuracy: 0.9993 - val_loss: 0.0033 - val_mse: 5.9067e-04 - val_accuracy: 0.9994 - lr: 1.0000e-04\n",
      "Epoch 16/50\n",
      "394/394 [==============================] - 2s 5ms/step - loss: 0.0035 - mse: 6.7777e-04 - accuracy: 0.9991 - val_loss: 0.0034 - val_mse: 5.7453e-04 - val_accuracy: 0.9990 - lr: 1.0000e-04\n",
      "Epoch 17/50\n",
      "394/394 [==============================] - 2s 5ms/step - loss: 0.0032 - mse: 5.8841e-04 - accuracy: 0.9992 - val_loss: 0.0034 - val_mse: 6.1723e-04 - val_accuracy: 0.9990 - lr: 1.0000e-04\n",
      "Epoch 18/50\n",
      "387/394 [============================>.] - ETA: 0s - loss: 0.0033 - mse: 7.5526e-04 - accuracy: 0.9990\n",
      "Epoch 18: ReduceLROnPlateau reducing learning rate to 1.0000000474974514e-05.\n",
      "394/394 [==============================] - 2s 5ms/step - loss: 0.0033 - mse: 7.4303e-04 - accuracy: 0.9990 - val_loss: 0.0028 - val_mse: 4.9675e-04 - val_accuracy: 0.9994 - lr: 1.0000e-04\n",
      "Epoch 19/50\n",
      "394/394 [==============================] - 2s 5ms/step - loss: 0.0022 - mse: 1.5494e-04 - accuracy: 0.9999 - val_loss: 0.0028 - val_mse: 5.0620e-04 - val_accuracy: 0.9994 - lr: 1.0000e-05\n",
      "Epoch 20/50\n",
      "394/394 [==============================] - 2s 5ms/step - loss: 0.0025 - mse: 4.4055e-04 - accuracy: 0.9993 - val_loss: 0.0032 - val_mse: 5.2323e-04 - val_accuracy: 0.9994 - lr: 1.0000e-05\n",
      "Epoch 21/50\n",
      "394/394 [==============================] - 2s 5ms/step - loss: 0.0025 - mse: 3.4641e-04 - accuracy: 0.9996 - val_loss: 0.0030 - val_mse: 5.0953e-04 - val_accuracy: 0.9994 - lr: 1.0000e-05\n",
      "Epoch 22/50\n",
      "394/394 [==============================] - 2s 5ms/step - loss: 0.0025 - mse: 4.1048e-04 - accuracy: 0.9994 - val_loss: 0.0032 - val_mse: 5.2366e-04 - val_accuracy: 0.9994 - lr: 1.0000e-05\n",
      "Epoch 23/50\n",
      "393/394 [============================>.] - ETA: 0s - loss: 0.0021 - mse: 2.1447e-04 - accuracy: 0.9995Restoring model weights from the end of the best epoch: 13.\n",
      "394/394 [==============================] - 2s 5ms/step - loss: 0.0021 - mse: 2.1413e-04 - accuracy: 0.9995 - val_loss: 0.0031 - val_mse: 5.1587e-04 - val_accuracy: 0.9994 - lr: 1.0000e-05\n",
      "Epoch 23: early stopping\n",
      "114/114 [==============================] - 0s 3ms/step - loss: 0.0496 - mse: 0.0129 - accuracy: 0.9841\n"
     ]
    }
   ]
  },
  {
   "cell_type": "code",
   "source": [
    "print('mse, accuracy',  mse, accuracy )\n",
    "\n",
    "pred_class_11 = model_11.predict(X_test).argmax(axis = 1)\n",
    "rounded_labels_11=np.argmax(y_test, axis=1)\n",
    "print(pd.crosstab(rounded_labels_11, pred_class_11, rownames = [\"reel\"], colnames = [\"predict\"]))\n",
    "print(classification_report_imbalanced(rounded_labels_11, pred_class_11))"
   ],
   "metadata": {
    "id": "9FwYSuF97y1a",
    "colab": {
     "base_uri": "https://localhost:8080/"
    },
    "outputId": "6e7d83f0-802d-41a7-9a8b-f9a8f3c1194a",
    "pycharm": {
     "name": "#%%\n"
    }
   },
   "execution_count": null,
   "outputs": [
    {
     "output_type": "stream",
     "name": "stdout",
     "text": [
      "mse, accuracy 0.012920972891151905 0.9840571880340576\n",
      "114/114 [==============================] - 0s 2ms/step\n",
      "predict    0     1\n",
      "reel              \n",
      "0        976    29\n",
      "1         12  2621\n",
      "                   pre       rec       spe        f1       geo       iba       sup\n",
      "\n",
      "          0       0.99      0.97      1.00      0.98      0.98      0.96      1005\n",
      "          1       0.99      1.00      0.97      0.99      0.98      0.97      2633\n",
      "\n",
      "avg / total       0.99      0.99      0.98      0.99      0.98      0.97      3638\n",
      "\n"
     ]
    }
   ]
  },
  {
   "cell_type": "code",
   "source": [
    "print(history_11.history.keys())\n",
    "# summarize history for accuracy\n",
    "plt.plot(history_11.history['accuracy'])\n",
    "plt.plot(history_11.history['val_accuracy'])\n",
    "plt.title('model accuracy')\n",
    "plt.ylabel('accuracy')\n",
    "plt.xlabel('epoch')\n",
    "plt.legend(['train', 'test'], loc='upper left')\n",
    "plt.show()\n",
    "# summarize history for loss\n",
    "plt.plot(history_11.history['loss'])\n",
    "plt.plot(history_11.history['val_loss'])\n",
    "plt.title('model loss')\n",
    "plt.ylabel('loss')\n",
    "plt.xlabel('epoch')\n",
    "plt.legend(['train', 'test'], loc='upper left')\n",
    "plt.show()\n",
    "# summarize history for loss\n",
    "plt.plot(history_11.history['mse'])\n",
    "plt.plot(history_11.history['val_mse'])\n",
    "plt.title('model mae')\n",
    "plt.ylabel('loss mae')\n",
    "plt.xlabel('epoch')\n",
    "plt.legend(['train', 'test'], loc='upper left')\n",
    "plt.show()"
   ],
   "metadata": {
    "colab": {
     "base_uri": "https://localhost:8080/",
     "height": 869
    },
    "id": "hwoiGl4TkD1g",
    "outputId": "68a6ebc1-99bf-43f1-e8c3-ae68376fe93e",
    "pycharm": {
     "name": "#%%\n"
    }
   },
   "execution_count": null,
   "outputs": [
    {
     "output_type": "stream",
     "name": "stdout",
     "text": [
      "dict_keys(['loss', 'mse', 'accuracy', 'val_loss', 'val_mse', 'val_accuracy', 'lr'])\n"
     ]
    },
    {
     "output_type": "display_data",
     "data": {
      "text/plain": [
       "<Figure size 432x288 with 1 Axes>"
      ],
      "image/png": "[encoded data removed]"
     },
     "metadata": {
      "needs_background": "light"
     }
    },
    {
     "output_type": "display_data",
     "data": {
      "text/plain": [
       "<Figure size 432x288 with 1 Axes>"
      ],
      "image/png": "[encoded data removed]"
     },
     "metadata": {
      "needs_background": "light"
     }
    },
    {
     "output_type": "display_data",
     "data": {
      "text/plain": [
       "<Figure size 432x288 with 1 Axes>"
      ],
      "image/png": "[encoded data removed]"
     },
     "metadata": {
      "needs_background": "light"
     }
    }
   ]
  }
 ]
}